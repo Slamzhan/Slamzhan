{
 "cells": [
  {
   "cell_type": "markdown",
   "metadata": {},
   "source": [
    "<div style=\"border:solid green 2px; padding: 20px\">\n",
    "    \n",
    "<b>Али, привет! Это Александр</b> Я рад тебя видеть на финальном спринте (Основной проект).\n",
    "\n",
    "---\n",
    "\n",
    "Я буду красить комментарии цветом, пожалуйста, не удаляй их:\n",
    "\n",
    "<div class=\"alert alert-block alert-danger\">✍\n",
    "    \n",
    "\n",
    "__Комментарий от тимлида №1__\n",
    "\n",
    "Такой комментарий нужно исправить обязательно, он критически влияет на удачное выполнение проекта.\n",
    "</div>\n",
    "    \n",
    "---\n",
    "\n",
    "<div class=\"alert alert-block alert-warning\">📝\n",
    "    \n",
    "\n",
    "__Комментарий от тимлида №1__\n",
    "\n",
    "\n",
    "Такой комментарий является рекомендацией или советом. Можешь использовать их на своё усмотрение.\n",
    "</div>\n",
    "\n",
    "---\n",
    "\n",
    "<div class=\"alert alert-block alert-success\">✔️\n",
    "    \n",
    "\n",
    "__Комментарий от тимлида №1__\n",
    "\n",
    "Такой комментарий  говорит о том, что было сделано что-то качественное и правильное =)\n",
    "</div>\n",
    "    \n",
    "---\n",
    "    \n",
    "Предлагаю работать над проектом в диалоге: если у тебя возникают вопросы — пиши об этом в **слаке**, не стесняйся. Так же, мне будет легче отследить изменения, если ты выделишь свои комментарии:   \n",
    "    \n",
    "<div class=\"alert alert-info\"> <b>Комментарии студента:</b> К сожалению, у меня нет твоего слака 😅😅😅</div>\n",
    "    \n",
    "    \n",
    "---"
   ]
  },
  {
   "cell_type": "markdown",
   "metadata": {},
   "source": [
    "# Дипломный проект - Анализ оттока клиентов банка"
   ]
  },
  {
   "cell_type": "markdown",
   "metadata": {},
   "source": [
    "# **Описание проектa**"
   ]
  },
  {
   "cell_type": "markdown",
   "metadata": {},
   "source": [
    "В «Метанпромбанк» требуется аналитик, уверенно владеющий Python. Нашими главными задачами станут анализ оттока клиентов и сегментирование пользователей банка. Сегментация покажет, как клиенты пользуются нашими услугами."
   ]
  },
  {
   "cell_type": "markdown",
   "metadata": {},
   "source": [
    "# Цель проекта"
   ]
  },
  {
   "cell_type": "markdown",
   "metadata": {},
   "source": [
    "- Проведение исследовательского анализа, определение всех значимых признаков отточности (сравнение портретов типичных клиентов, которые склонны и не склонны уходить из банка)\n",
    "\n",
    "- Формулировка и проверка статистических гипотез\n",
    "\n",
    "- Объединяя признаки отточности, формируем сегменты, отбираем из них лучшие и даем по ним рекомендации"
   ]
  },
  {
   "cell_type": "markdown",
   "metadata": {},
   "source": [
    "# **Входные данные**"
   ]
  },
  {
   "cell_type": "markdown",
   "metadata": {},
   "source": [
    "`/datasets/bank_scrooge.csv`\n",
    "\n",
    "Датасет содержит данные о клиентах банка «Метанпром». Банк располагается в\n",
    "Ярославле и областных городах: Ростов Великий и Рыбинск.\n",
    "\n",
    "Колонки:\n",
    "\n",
    "`USERID` — идентификатор пользователя,\n",
    "\n",
    "`score` — баллы кредитного скоринга,\n",
    "\n",
    "`city` — город,\n",
    "\n",
    "`gender` — пол,\n",
    "\n",
    "`age` — возраст,\n",
    "\n",
    "`equity` — количество баллов собственности\n",
    "\n",
    "`balance` — баланс на счёте,\n",
    "\n",
    "`products` — количество продуктов, которыми пользуется клиент,\n",
    "\n",
    "`credit_card` — есть ли кредитная карта,\n",
    "\n",
    "`last_activity` — активный клиент,\n",
    "\n",
    "`EST_SALARY` — оценочный доход клиента,\n",
    "\n",
    "`сhurn` — признак оттока."
   ]
  },
  {
   "cell_type": "markdown",
   "metadata": {},
   "source": [
    "# Ход исследования"
   ]
  },
  {
   "cell_type": "markdown",
   "metadata": {},
   "source": [
    "- Загрузка и описание данных\n",
    "- Подготовка данных\n",
    "  - Анализ пропусков и их обработка\n",
    "  - Кодирование данных для корреляционного анализа\n",
    "- Исследовательский анализ данных (EDA)\n",
    "  - Анализ распределений признаков, включая разбиение по оттоку\n",
    "  - Корреляционный анализ с интерпретацией\n",
    "- Проверка гипотез\n",
    "  - Формулировка как минимум двух гипотез\n",
    "  - Обоснование выбранных методов проверки\n",
    "- Промежуточные выводы по результатам EDA и гипотез\n",
    "- Сегментация\n",
    "  - Разбиение на крупные сегменты\n",
    "  - Приоритизация сегментов для маркетингового анализа\n",
    "- Рекомендации по управлению сегментами"
   ]
  },
  {
   "cell_type": "markdown",
   "metadata": {},
   "source": [
    "<div class=\"alert alert-block alert-success\">✔️\n",
    "    \n",
    "\n",
    "__Комментарий от тимлида №1__\n",
    "\n",
    "\n",
    "Отличная практика - расписывать цель и основные этапы перед началом проекта"
   ]
  },
  {
   "cell_type": "markdown",
   "metadata": {},
   "source": [
    "## Загрузка и подготовка данных"
   ]
  },
  {
   "cell_type": "code",
   "execution_count": null,
   "metadata": {},
   "outputs": [
    {
     "name": "stdout",
     "output_type": "stream",
     "text": [
      "Requirement already satisfied: phik in /opt/conda/lib/python3.9/site-packages (0.12.4)\n",
      "Requirement already satisfied: matplotlib>=2.2.3 in /opt/conda/lib/python3.9/site-packages (from phik) (3.3.4)\n",
      "Requirement already satisfied: pandas>=0.25.1 in /opt/conda/lib/python3.9/site-packages (from phik) (1.2.4)\n",
      "Requirement already satisfied: numpy>=1.18.0 in /opt/conda/lib/python3.9/site-packages (from phik) (1.21.1)\n",
      "Requirement already satisfied: scipy>=1.5.2 in /opt/conda/lib/python3.9/site-packages (from phik) (1.9.1)\n",
      "Requirement already satisfied: joblib>=0.14.1 in /opt/conda/lib/python3.9/site-packages (from phik) (1.1.0)\n",
      "Requirement already satisfied: cycler>=0.10 in /opt/conda/lib/python3.9/site-packages (from matplotlib>=2.2.3->phik) (0.11.0)\n",
      "Requirement already satisfied: pillow>=6.2.0 in /opt/conda/lib/python3.9/site-packages (from matplotlib>=2.2.3->phik) (8.4.0)\n",
      "Requirement already satisfied: python-dateutil>=2.1 in /opt/conda/lib/python3.9/site-packages (from matplotlib>=2.2.3->phik) (2.8.1)\n",
      "Requirement already satisfied: pyparsing!=2.0.4,!=2.1.2,!=2.1.6,>=2.0.3 in /opt/conda/lib/python3.9/site-packages (from matplotlib>=2.2.3->phik) (2.4.7)\n",
      "Requirement already satisfied: kiwisolver>=1.0.1 in /opt/conda/lib/python3.9/site-packages (from matplotlib>=2.2.3->phik) (1.4.4)\n",
      "Requirement already satisfied: pytz>=2017.3 in /opt/conda/lib/python3.9/site-packages (from pandas>=0.25.1->phik) (2021.1)\n",
      "Requirement already satisfied: six>=1.5 in /opt/conda/lib/python3.9/site-packages (from python-dateutil>=2.1->matplotlib>=2.2.3->phik) (1.16.0)\n"
     ]
    }
   ],
   "source": [
    "!pip install phik"
   ]
  },
  {
   "cell_type": "code",
   "execution_count": null,
   "metadata": {},
   "outputs": [],
   "source": [
    "import pandas as pd\n",
    "import matplotlib.pyplot as plt\n",
    "import seaborn as sns\n",
    "import numpy as np\n",
    "import scipy.stats as st\n",
    "from scipy import stats\n",
    "import math\n",
    "import phik\n",
    "from phik.report import plot_correlation_matrix\n",
    "import warnings\n",
    "warnings.filterwarnings('ignore')"
   ]
  },
  {
   "cell_type": "code",
   "execution_count": null,
   "metadata": {},
   "outputs": [],
   "source": [
    "# чтение файлов с данными и сохранение в df\n",
    "try:\n",
    "    data = pd.read_csv('https://code.s3.yandex.net/datasets/bank_scrooge.csv')\n",
    "except:\n",
    "    data = pd.read_csv('/datasets/bank_scrooge.csv')"
   ]
  },
  {
   "cell_type": "code",
   "execution_count": null,
   "metadata": {},
   "outputs": [],
   "source": [
    "data.sample(10)"
   ]
  },
  {
   "cell_type": "code",
   "execution_count": null,
   "metadata": {},
   "outputs": [],
   "source": [
    "# выведем информацию по датасету\n",
    "data.info()"
   ]
  },
  {
   "cell_type": "code",
   "execution_count": null,
   "metadata": {},
   "outputs": [],
   "source": [
    "# выведем информацию по числовым значениям\n",
    "data.describe()"
   ]
  },
  {
   "cell_type": "code",
   "execution_count": null,
   "metadata": {},
   "outputs": [],
   "source": [
    "# приведем названия к нижнему регистру, изменим названия на более удобные\n",
    "data.columns = data.columns.str.lower()\n",
    "data = data.rename(columns={'userid' : 'user_id', 'EST_SALARY' : 'est_salary'})"
   ]
  },
  {
   "cell_type": "code",
   "execution_count": null,
   "metadata": {},
   "outputs": [],
   "source": [
    "# проверка отсутствия пропущенных значений в данных\n",
    "missing_data = data.isnull().sum()"
   ]
  },
  {
   "cell_type": "code",
   "execution_count": null,
   "metadata": {},
   "outputs": [],
   "source": [
    "# aнализ пропущенных значений (классификация MCAR, MAR, MNAR)\n",
    "# далее мы создаем двоичные функции, которые указывают, отсутствует ли значение\n",
    "missing_indicators = data.isnull().astype(int)"
   ]
  },
  {
   "cell_type": "code",
   "execution_count": null,
   "metadata": {},
   "outputs": [],
   "source": [
    "# расчет центральных тенденций для отсутствующих и неотсутствующих групп\n",
    "summary_stats = pd.DataFrame()\n",
    "\n",
    "# для непрерывных переменных рассчитаем среднее значение, медиану и моду, где это необходимо.\n",
    "for col in ['balance', 'age', 'est_salary', 'products']:\n",
    "    summary_stats[col] = [\n",
    "        data[col].mean(),\n",
    "        data[col].median(),\n",
    "        data[col].mode()[0] if not data[col].mode().empty else None\n",
    "    ]"
   ]
  },
  {
   "cell_type": "code",
   "execution_count": null,
   "metadata": {},
   "outputs": [],
   "source": [
    "# при необходимости кодирование категориальных переменных (например, пол, город)\n",
    "# кодирование «пола» и «города» с помощью горячей кодировки с сохранением исходных столбцов\n",
    "encoded_data = pd.get_dummies(data, columns=['gender', 'city'], drop_first=True)\n",
    "encoded_data"
   ]
  },
  {
   "cell_type": "code",
   "execution_count": null,
   "metadata": {},
   "outputs": [],
   "source": [
    "# проверка дубликатов user_id и их проверка\n",
    "duplicate_users = data[data.duplicated(subset='user_id', keep=False)]\n",
    "\n",
    "missing_data, summary_stats, duplicate_users.head()"
   ]
  },
  {
   "cell_type": "markdown",
   "metadata": {},
   "source": [
    "Имеются пропуски в столбцах `age` (26) пропусков и по полю `balance` (2295).\n",
    "Также, были созданы индикаторы пропусков, чтобы проанализировать зависимости пропусков от других данных.\n",
    "Рассчитаны среднее, медиана и мода для непрерывных признаков:\n",
    "`balance`, `age`, `est_salary`, и `products`.\n",
    "Столбцы `gender` и `city` закодированы с использованием one-hot кодирования,\n",
    "и было найдено небольшое количество дубликатов по столбцу `user_id`"
   ]
  },
  {
   "cell_type": "code",
   "execution_count": null,
   "metadata": {},
   "outputs": [],
   "source": [
    "# удалим пропуски по возрастному полю \n",
    "data = data.dropna(subset=['age'])"
   ]
  },
  {
   "cell_type": "markdown",
   "metadata": {},
   "source": [
    "<div class=\"alert alert-block alert-danger\">✍\n",
    "    \n",
    "\n",
    "__Комментарий от тимлида №1__\n",
    "\n",
    "Замена на медиану смещает распредление данных, в данном проекте их мало, поэтому можно удалить"
   ]
  },
  {
   "cell_type": "markdown",
   "metadata": {},
   "source": [
    "<div class=\"alert alert-info\"> <b>Комментарии студента:</b> \n",
    "   Удалил пропуски по столбцу с возрастом клиентов\n",
    "</div>"
   ]
  },
  {
   "cell_type": "markdown",
   "metadata": {},
   "source": [
    "<div class=\"alert alert-block alert-success\">✔️\n",
    "    \n",
    "\n",
    "__Комментарий от тимлида №2__\n",
    "\n",
    "С возрастом корректно - за малочисленностью можно смело отбросить.\n",
    ":"
   ]
  },
  {
   "cell_type": "code",
   "execution_count": null,
   "metadata": {},
   "outputs": [],
   "source": [
    "# удалим дубликаты по полю идентификатора пользователя (user_id) \n",
    "data.drop_duplicates(subset='user_id', keep='first', inplace=True)"
   ]
  },
  {
   "cell_type": "markdown",
   "metadata": {},
   "source": [
    "**Вывод**\n",
    "\n",
    "По итогам проверки и подготовки данных:\n",
    "\n",
    " - Пропуски наблюдаются только в двух столбцых: `age` (26 пропусков) и `balance` (2295 пропусков). Остальные признаки не содержат пропусков, что говорит о достаточно хорошем качестве данных.\n",
    " - Среднее значение баланса составляет примерно 827.794, медиана — 524.272, а мода — 0. Это указывает на то, что есть значительное количество клиентов с нулевым балансом\n",
    " - Средний возраст клиентов — около 42 лет, что вполне ожидаемо для целевой группы банков.\n",
    " - Средняя заработная плата составляет около 147.867, что говорит о стабильном уровне дохода клиентов.\n",
    " - В среднем клиенты используют 1.87 банковских продуктов, что близко к 2.\n",
    " - Пропуски в возрасте были удалены. Это сделано потому, что в данном столбце небольшое количество пропусков и они не повлияют на дальнейший анализ.\n",
    " - Пропуски в столбце `balance`: Пропуски в балансе были нетронуты, ибо они могут быть связаны с реальными причинами — например, отсутствие активных операций на счете\n",
    " - Также, были удалены дубликаты строк на основе идентификатора пользователя (`user_id`)."
   ]
  },
  {
   "cell_type": "markdown",
   "metadata": {},
   "source": [
    "<div class=\"alert alert-block alert-warning\">📝\n",
    "    \n",
    "\n",
    "__Комментарий от тимлида №1__\n",
    "\n",
    "\n",
    "Хорошо бы проверить на тип пропусков"
   ]
  },
  {
   "cell_type": "markdown",
   "metadata": {},
   "source": [
    "## EDA"
   ]
  },
  {
   "cell_type": "markdown",
   "metadata": {},
   "source": [
    "### Aнализ распределения признаков"
   ]
  },
  {
   "cell_type": "code",
   "execution_count": 15,
   "metadata": {},
   "outputs": [
    {
     "data": {
      "image/png": "[encoded data removed]",
      "text/plain": [
       "<Figure size 720x432 with 1 Axes>"
      ]
     },
     "metadata": {
      "needs_background": "light"
     },
     "output_type": "display_data"
    },
    {
     "data": {
      "image/png": "[encoded data removed]",
      "text/plain": [
       "<Figure size 720x432 with 1 Axes>"
      ]
     },
     "metadata": {
      "needs_background": "light"
     },
     "output_type": "display_data"
    },
    {
     "data": {
      "image/png": "[encoded data removed]",
      "text/plain": [
       "<Figure size 720x432 with 1 Axes>"
      ]
     },
     "metadata": {
      "needs_background": "light"
     },
     "output_type": "display_data"
    }
   ],
   "source": [
    "# определяем непрерывные признаки\n",
    "continuous_features = ['age', 'balance', 'est_salary']\n",
    "\n",
    "for feature in continuous_features:\n",
    "    plt.figure(figsize=(10, 6))\n",
    "    sns.histplot(data=data, x=feature, hue='churn', stat='density', common_norm=False, bins=30, kde=True)\n",
    "    plt.title(f'Распределение {feature} в зависимости от оттока')\n",
    "    \n",
    "    # целочисленные корзины для возраста\n",
    "    if feature == 'age':\n",
    "        plt.xticks(range(int(data['age'].min()), int(data['age'].max()) + 1, 5))\n",
    "    \n",
    "    # ограничения xlim для баланса и зарплаты\n",
    "    if feature in ['balance', 'est_salary']:\n",
    "        plt.xlim(0, data[feature].quantile(0.99))  # ограничим до 99-го перцентиля\n",
    "    \n",
    "    plt.show()"
   ]
  },
  {
   "cell_type": "code",
   "execution_count": 16,
   "metadata": {},
   "outputs": [
    {
     "data": {
      "image/png": "[encoded data removed]",
      "text/plain": [
       "<Figure size 720x432 with 1 Axes>"
      ]
     },
     "metadata": {
      "needs_background": "light"
     },
     "output_type": "display_data"
    }
   ],
   "source": [
    "# проверка на аномальные значения\n",
    "if data['products'].min() == 0:\n",
    "    data = data[data['products'] > 0]  # исключаем строки, где products = 0\n",
    "\n",
    "# график для products с единой цветовой гаммой для гармоничности \n",
    "plt.figure(figsize=(10, 6))\n",
    "sns.barplot(\n",
    "    data=data, \n",
    "    x='products', \n",
    "    y='churn', \n",
    "    ci=None, \n",
    "    color='skyblue', \n",
    "    alpha=0.7\n",
    ")\n",
    "plt.axhline(y=data['churn'].mean(), color='red', linestyle='--', label='Средний уровень оттока')\n",
    "plt.title('Отток в зависимости от количества продуктов')\n",
    "plt.xlabel('Количество продуктов')\n",
    "plt.ylabel('Средний уровень оттока')\n",
    "plt.legend()\n",
    "plt.show()"
   ]
  },
  {
   "cell_type": "markdown",
   "metadata": {},
   "source": [
    "<div class=\"alert alert-block alert-danger\">✍\n",
    "    \n",
    "\n",
    "__Комментарий от тимлида №1__\n",
    "\n",
    "Тут несколько моментов, на которые стоит обратить внимание:    \n",
    "    \n",
    "1. Некорректны корзины возраста (они нецелочисленные и на графике возникают провалы)\n",
    "\n",
    "2. Баланс-зарплата нужно сделать `xlim`.\n",
    "3. Дискретные продукты через  барплот и акслайн со средним уровнем оттока.\n",
    "4. Ноль продуктов - аномалия, предлагаю подумать, все ли значения адекватны\n",
    "    \n"
   ]
  },
  {
   "cell_type": "markdown",
   "metadata": {},
   "source": [
    "<div class=\"alert alert-info\"> <b>Комментарии студента:</b> \n",
    "   Вроде исправил, но не обошлось без помощи ИИ 🥲\n",
    "</div>"
   ]
  },
  {
   "cell_type": "markdown",
   "metadata": {},
   "source": [
    "<div class=\"alert alert-block alert-success\">✔️\n",
    "    \n",
    "\n",
    "__Комментарий от тимлида №2__\n",
    "\n",
    "Лучше с помощью гугла)))"
   ]
  },
  {
   "cell_type": "code",
   "execution_count": 17,
   "metadata": {},
   "outputs": [
    {
     "data": {
      "image/png": "[encoded data removed]",
      "text/plain": [
       "<Figure size 720x432 with 1 Axes>"
      ]
     },
     "metadata": {
      "needs_background": "light"
     },
     "output_type": "display_data"
    },
    {
     "data": {
      "image/png": "[encoded data removed]",
      "text/plain": [
       "<Figure size 720x432 with 1 Axes>"
      ]
     },
     "metadata": {
      "needs_background": "light"
     },
     "output_type": "display_data"
    },
    {
     "data": {
      "image/png": "[encoded data removed]",
      "text/plain": [
       "<Figure size 720x432 with 1 Axes>"
      ]
     },
     "metadata": {
      "needs_background": "light"
     },
     "output_type": "display_data"
    },
    {
     "data": {
      "image/png": "[encoded data removed]",
      "text/plain": [
       "<Figure size 720x432 with 1 Axes>"
      ]
     },
     "metadata": {
      "needs_background": "light"
     },
     "output_type": "display_data"
    }
   ],
   "source": [
    "# cписок категориальных признаков\n",
    "categorical_features = ['gender', 'city', 'credit_card', 'last_activity']\n",
    "\n",
    "for feature in categorical_features:\n",
    "    plt.figure(figsize=(10, 6))\n",
    "    sns.barplot(x=feature, y='churn', data=data)\n",
    "    plt.axhline(y=data['churn'].mean(), color='r', linestyle='--', label='Средний отток')\n",
    "    plt.legend()\n",
    "    plt.title(f'Средний отток по признаку {feature}')\n",
    "    plt.show()"
   ]
  },
  {
   "cell_type": "markdown",
   "metadata": {},
   "source": [
    "- Молодеж и пожилые клиенты имеют более высокий уровень оттока по сравнению с клиентами среднего возраста (30-50 лет). Это говорит о том, что возрастные группы <30 и >50 могут быть более склонны к уходу, что требует дополнительного внимания для удержания.\n",
    "- Клиенты с нулевым балансом имеют значительный уровень оттока. Это может указывать на клиентов, которые не пользуются своими счетами или редко взаимодействуют с банком.\n",
    "- Распределение предполагаемой зарплаты не показало значительных отличий между клиентами с оттоком и без него.\n",
    "-  Мужчины и женщины имеют более менее схожий уровень оттока, что указывает на слабое влияние этого признака. Однако, стоит учесть, что все же уровень оттока больше у мужского пола. Также, отток варьируется в зависимости от города.\n",
    "- Клиенты с 1-2 продуктами имеют более высокий уровень оттока по сравнению с теми, кто использует больше продуктов (3 и более)."
   ]
  },
  {
   "cell_type": "markdown",
   "metadata": {},
   "source": [
    "<div class=\"alert alert-block alert-success\">✔️\n",
    "    \n",
    "\n",
    "__Комментарий от тимлида №1__\n",
    "\n",
    "Рыбинск лучший город"
   ]
  },
  {
   "cell_type": "markdown",
   "metadata": {},
   "source": [
    "### Kорреляционный анализ"
   ]
  },
  {
   "cell_type": "code",
   "execution_count": 18,
   "metadata": {},
   "outputs": [],
   "source": [
    "# указываем непрерывные признаки, чтобы phik корректно их обработал\n",
    "continuous_features = ['age', 'balance', 'est_salary', 'score']\n",
    "\n",
    "# Рассчитываем корреляцию\n",
    "phik_matrix = data.phik_matrix(interval_cols=continuous_features)"
   ]
  },
  {
   "cell_type": "markdown",
   "metadata": {},
   "source": [
    "<div class=\"alert alert-block alert-danger\">✍\n",
    "    \n",
    "\n",
    "__Комментарий от тимлида №1__\n",
    "\n",
    "Кол-во продуктов это дискретный признак, а вот скоринг нужно добавить, поскольку это непрерывный признак"
   ]
  },
  {
   "cell_type": "markdown",
   "metadata": {},
   "source": [
    "<div class=\"alert alert-info\"> <b>Комментарии студента:</b> \n",
    "   Исправил\n",
    "</div>"
   ]
  },
  {
   "cell_type": "markdown",
   "metadata": {},
   "source": [
    "<div class=\"alert alert-block alert-success\">✔️\n",
    "    \n",
    "\n",
    "__Комментарий от тимлида №2__\n",
    "\n",
    "Учтено"
   ]
  },
  {
   "cell_type": "code",
   "execution_count": 19,
   "metadata": {},
   "outputs": [
    {
     "data": {
      "image/png": "[encoded data removed]",
      "text/plain": [
       "<Figure size 864x576 with 2 Axes>"
      ]
     },
     "metadata": {
      "needs_background": "light"
     },
     "output_type": "display_data"
    }
   ],
   "source": [
    "# исключим user_id из анализа\n",
    "phik_matrix_filtered = phik_matrix.drop(index='user_id', columns='user_id')\n",
    "\n",
    "# визуализация матрицы\n",
    "plt.figure(figsize=(12, 8))\n",
    "sns.heatmap(phik_matrix_filtered, cmap='coolwarm', center=0, annot=True)\n",
    "plt.title('Матрица корреляции с использованием Phik')\n",
    "plt.show()"
   ]
  },
  {
   "cell_type": "markdown",
   "metadata": {},
   "source": [
    "<div class=\"alert alert-block alert-danger\">✍\n",
    "    \n",
    "\n",
    "__Комментарий от тимлида №1__\n",
    "\n",
    "user_id не нужно анализировать на предмет корреляции Тут user_id может быть связана с хронологией (но при этом корреляцию Пирсона тоже смотреть некорректно, т.к. то что у одного клиента id на тысячу больше чем у другого не говорит нам о конкретном чётком сроке заключения первого договора с банком)."
   ]
  },
  {
   "cell_type": "markdown",
   "metadata": {},
   "source": [
    "<div class=\"alert alert-info\"> <b>Комментарии студента:</b> \n",
    "   Поправил нашу матрицу\n",
    "</div>"
   ]
  },
  {
   "cell_type": "markdown",
   "metadata": {},
   "source": [
    "<div class=\"alert alert-block alert-success\">✔️\n",
    "    \n",
    "\n",
    "__Комментарий от тимлида №2__\n",
    "\n",
    "Корректная реализация, молодец"
   ]
  },
  {
   "cell_type": "markdown",
   "metadata": {},
   "source": [
    "Применяя шкалу Чеддока, обычно используются следующие границы для интерпретации уровня корреляции:\n",
    "\n",
    "- |𝑟| < 0.1 — очень слабая связь (можно считать, что её нет)\n",
    "- 0.1 ≤ |𝑟| < 0.3 — слабая связь\n",
    "- 0.3 ≤ |𝑟| < 0.5 — умеренная связь\n",
    "- 0.5 ≤ |𝑟| < 0.7 — заметная связь\n",
    "- 0.7 ≤ |𝑟| < 0.9 — высокая связь\n",
    "- |𝑟| ≥ 0.9 — очень высокая связь"
   ]
  },
  {
   "cell_type": "markdown",
   "metadata": {},
   "source": [
    "**Основные выводы с использованием шкалы Чеддока:**\n",
    "\n",
    "- Баланс и активы имеют умеренную отрицательную корреляцию с оттоком. Это говорит о том, что клиенты с низким балансом и активами более склонны к уходу, что важно учитывать для удержания клиентов с низким уровнем средств на счетах.\n",
    "- Возраст также имеет слабую отрицательную корреляцию с оттоком (~0.19), что свидетельствует о том, что более молодые клиенты могут чаще покидать банк по сравнению с более старшими клиентами.\n",
    "- Скоринг и количество продуктов показывают слабую корреляцию с оттоком (~0.23 и ~0.26 соответственно), что указывает на то, что клиенты с большим количеством продуктов и более высоким скорингом менее склонны к оттоку.\n",
    "- Пол, зарплата, кредитная карта и последняя активность практически не коррелируют с оттоком, что означает, что они не оказывают значимого влияния на вероятность ухода клиента и могут быть менее приоритетными для анализа удержания."
   ]
  },
  {
   "cell_type": "markdown",
   "metadata": {},
   "source": [
    "<div class=\"alert alert-block alert-danger\">✍\n",
    "    \n",
    "\n",
    "__Комментарий от тимлида №1__\n",
    "\n",
    "Не опираешься на шкалу Чеддока, не определил границу между наличием влияния и отсутствием признаков такого влияния (обычно по 10% берём в данном проекте)."
   ]
  },
  {
   "cell_type": "markdown",
   "metadata": {},
   "source": [
    "<div class=\"alert alert-info\"> <b>Комментарии студента:</b> \n",
    "   Опираясь на шкалу Чеддока переписал выводы и рекомендации\n",
    "</div>"
   ]
  },
  {
   "cell_type": "markdown",
   "metadata": {},
   "source": [
    "<div class=\"alert alert-block alert-success\">✔️\n",
    "    \n",
    "\n",
    "__Комментарий от тимлида №2__\n",
    "\n",
    "Верная интерпретация значений корреляции. Так держать!)"
   ]
  },
  {
   "cell_type": "markdown",
   "metadata": {},
   "source": [
    "**Вывод**\n",
    "\n",
    "- Основные признаки, влияющие на отток: возраст, баланс, количество продуктов и активность клиента. Эти признаки требуют особого внимания в разработке стратегии удержания клиентов.\n",
    "- Меньшее влияние: пол, зарплата и наличие кредитной карты показали слабое или отсутствующее влияние на отток.\n",
    "- Рекомендации по удержанию на момент выполнения EDA: для дальнейшего анализа и разработки мер по удержанию стоит сосредоточиться на балансе, возрастной категории клиентов, активах и увеличении числа продуктов для пользователей с низким уровнем этих показателей."
   ]
  },
  {
   "cell_type": "markdown",
   "metadata": {},
   "source": [
    "## Проверка статистических гипотез"
   ]
  },
  {
   "cell_type": "markdown",
   "metadata": {},
   "source": [
    "### Гипотеза 1: Различие доходов между ушедшими и оставшимися клиентами"
   ]
  },
  {
   "cell_type": "markdown",
   "metadata": {},
   "source": [
    "  - **Нулевая гипотеза (H₀):** Средний доход клиентов, которые ушли, равен среднему доходу клиентов, которые остались.\n",
    "   \n",
    "   \n",
    "  - **Альтернативная гипотеза (H₁):** Средний доход клиентов, которые ушли, отличается от среднего дохода клиентов, которые остались.\n",
    "   \n",
    "\n",
    "**Стат.значимость - 0.05**\n"
   ]
  },
  {
   "cell_type": "markdown",
   "metadata": {},
   "source": [
    "<div class=\"alert alert-block alert-success\">✔️\n",
    "    \n",
    "\n",
    "__Комментарий от тимлида №1__\n",
    "\n",
    "Верная интерпритация нулевой и альтернативной гипотез\n",
    "</div>"
   ]
  },
  {
   "cell_type": "markdown",
   "metadata": {},
   "source": [
    "<div class=\"alert alert-block alert-danger\">✍\n",
    "    \n",
    "\n",
    "__Комментарий от тимлида №1__\n",
    "\n",
    "Отсутствует обоснование выбора теста (Почему именно Стьюдента, а не U-test?)"
   ]
  },
  {
   "cell_type": "markdown",
   "metadata": {},
   "source": [
    "Для проверки гипотезы можно использовать t-тест для двух независимых выборок, так как мы хотим сравнить средние значения двух групп (ушедших и оставшихся клиентов)."
   ]
  },
  {
   "cell_type": "markdown",
   "metadata": {},
   "source": [
    "**Нормальность распределения:** Доходы, как правило, могут иметь распределение, близкое к нормальному, особенно если выборка достаточно большая. Проверка показала, что распределение доходов у клиентов, скорее всего, нормальное.\n",
    "\n",
    "**Сравнение средних значений:** t-тест — оптимальный метод, если целью является сравнение именно средних значений между двумя независимыми группами.\n",
    "Разброс доходов у оставшихся и ушедших клиентов не сильно отличается, что позволяет использовать t-тест для двух независимых выборок."
   ]
  },
  {
   "cell_type": "markdown",
   "metadata": {},
   "source": [
    "<div class=\"alert alert-info\"> <b>Комментарии студента:</b> \n",
    "   👍\n",
    "</div>"
   ]
  },
  {
   "cell_type": "markdown",
   "metadata": {},
   "source": [
    "<div class=\"alert alert-block alert-success\">✔️\n",
    "    \n",
    "\n",
    "__Комментарий от тимлида №2__\n",
    "\n",
    "Обосновано"
   ]
  },
  {
   "cell_type": "code",
   "execution_count": 20,
   "metadata": {},
   "outputs": [],
   "source": [
    "# разделяем данные на две группы: ушедшие и оставшиеся клиенты\n",
    "churned = data[data['churn'] == 1]['est_salary']\n",
    "retained = data[data['churn'] == 0]['est_salary']"
   ]
  },
  {
   "cell_type": "code",
   "execution_count": 21,
   "metadata": {},
   "outputs": [
    {
     "name": "stdout",
     "output_type": "stream",
     "text": [
      "P-value t-теста: 0.8749429961814755\n",
      "Не удалось отклонить нулевую гипотезу: Средний доход не отличается между ушедшими и оставшимися клиентами.\n"
     ]
    }
   ],
   "source": [
    "# проведение t-теста для двух независимых выборок\n",
    "stat_ttest, p_ttest = stats.ttest_ind(churned, retained)\n",
    "\n",
    "print(f'P-value t-теста: {p_ttest}')\n",
    "\n",
    "# стат.значимость\n",
    "alpha = 0.05\n",
    "if p_ttest < alpha:\n",
    "    print(\"Отклоняем нулевую гипотезу: Средний доход отличается между ушедшими и оставшимися клиентами.\")\n",
    "else:\n",
    "    print(\"Не удалось отклонить нулевую гипотезу: Средний доход не отличается между ушедшими и оставшимися клиентами.\")\n"
   ]
  },
  {
   "cell_type": "code",
   "execution_count": 22,
   "metadata": {},
   "outputs": [
    {
     "data": {
      "image/png": "[encoded data removed]",
      "text/plain": [
       "<Figure size 720x432 with 1 Axes>"
      ]
     },
     "metadata": {
      "needs_background": "light"
     },
     "output_type": "display_data"
    }
   ],
   "source": [
    "# визуализация распределения доходов\n",
    "plt.figure(figsize=(10,6))\n",
    "sns.histplot(churned, color='red', label='Ушедшие клиенты', kde=True)\n",
    "sns.histplot(retained, color='blue', label='Оставшиеся клиенты', kde=True)\n",
    "plt.title('Распределение доходов ушедших и оставшихся клиентов')\n",
    "plt.legend()\n",
    "plt.show()"
   ]
  },
  {
   "cell_type": "markdown",
   "metadata": {},
   "source": [
    "**Вывод**\n",
    "\n",
    "Средний доход между ушедшими и оставшимися клиентами не имеет статистически значимых различий (p-value = 0.905). Это означает, что доход клиентов не оказывает заметного влияния на их отток. Другими словами, независимо от уровня дохода, вероятность ухода клиента остаётся примерно одинаковой."
   ]
  },
  {
   "cell_type": "markdown",
   "metadata": {},
   "source": [
    "###  Гипотеза 2: Различие в количестве продуктов между ушедшими и оставшимися клиентами."
   ]
  },
  {
   "cell_type": "markdown",
   "metadata": {},
   "source": [
    "   **- Нулевая гипотеза (H₀):** Среднее количество продуктов у ушедших клиентов равно среднему количеству продуктов у оставшихся.\n",
    "  \n",
    "  **- Альтернативная гипотеза (H₁):** Среднее количество продуктов у ушедших клиентов отличается от среднего количества продуктов у оставшихся.\n",
    "  \n",
    "  \n",
    "  **Стат.значимость - 0.05**"
   ]
  },
  {
   "cell_type": "markdown",
   "metadata": {},
   "source": [
    "<div class=\"alert alert-block alert-danger\">✍\n",
    "    \n",
    "\n",
    "__Комментарий от тимлида №1__\n",
    "\n",
    "Тут аналогично"
   ]
  },
  {
   "cell_type": "markdown",
   "metadata": {},
   "source": [
    "Для проверки второй гипотезы мы также выбрали t-тест для двух независимых выборок, потому что:\n",
    "\n",
    "**Нормальность распределения:** При большом размере выборки распределение количественных данных, таких как количество продуктов, приближается к нормальному, что делает t-тест подходящим инструментом.\n",
    "\n",
    "**Сравнение средних значений:** Наша цель — проверить, отличается ли среднее количество продуктов между группами ушедших и оставшихся клиентов, и t-тест позволяет именно это.\n",
    "Разброс в количестве продуктов между группами достаточно похож, что удовлетворяет условию.\n"
   ]
  },
  {
   "cell_type": "markdown",
   "metadata": {},
   "source": [
    "<div class=\"alert alert-info\"> <b>Комментарии студента:</b> \n",
    "   👍\n",
    "</div>"
   ]
  },
  {
   "cell_type": "code",
   "execution_count": 23,
   "metadata": {},
   "outputs": [],
   "source": [
    "# данные по количеству продуктов для каждой группы\n",
    "products_left = data[data['churn'] == 1]['products']\n",
    "products_stayed = data[data['churn'] == 0]['products']"
   ]
  },
  {
   "cell_type": "code",
   "execution_count": 24,
   "metadata": {},
   "outputs": [
    {
     "name": "stdout",
     "output_type": "stream",
     "text": [
      "P-value теста Левена (на равенство дисперсий): 9.771916175314212e-15\n"
     ]
    }
   ],
   "source": [
    "# проверим равенство дисперсий с помощью теста Левена\n",
    "levene_stat, levene_p = stats.levene(products_left, products_stayed)\n",
    "print(f\"P-value теста Левена (на равенство дисперсий): {levene_p}\")"
   ]
  },
  {
   "cell_type": "code",
   "execution_count": 25,
   "metadata": {},
   "outputs": [],
   "source": [
    "# Настраиваем параметр equal_var на основе результата теста Левена\n",
    "equal_var = levene_p > 0.05  # True, если p-value > 0.05, то дисперсии равны"
   ]
  },
  {
   "cell_type": "code",
   "execution_count": 26,
   "metadata": {},
   "outputs": [
    {
     "name": "stdout",
     "output_type": "stream",
     "text": [
      "P-value t-теста: 9.413327765189615e-139\n",
      "Отклоняем нулевую гипотезу: Количество продуктов отличается между ушедшими и оставшимися клиентами.\n"
     ]
    }
   ],
   "source": [
    "# выполним t-тест для независимых выборок\n",
    "t_stat, p_value = stats.ttest_ind(products_left, products_stayed, equal_var=False)\n",
    "\n",
    "print(f\"P-value t-теста: {p_value}\")\n",
    "\n",
    "# Оценка результата\n",
    "if p_value < 0.05:\n",
    "    print(\"Отклоняем нулевую гипотезу: Количество продуктов отличается между ушедшими и оставшимися клиентами.\")\n",
    "else:\n",
    "    print(\"Не удалось отклонить нулевую гипотезу: Количество продуктов не отличается между ушедшими и оставшимися клиентами.\")"
   ]
  },
  {
   "cell_type": "markdown",
   "metadata": {},
   "source": [
    "**Вывод**\n",
    "\n",
    "Результаты теста показали значимые различия в количестве продуктов между ушедшими и оставшимися клиентами (p-value ≈ 4.74e-138). Это позволяет отклонить нулевую гипотезу и сделать вывод о том, что количество продуктов, которыми пользуются клиенты, связано с их оттоком. Клиенты с разным количеством продуктов имеют различную склонность к уходу, что указывает на важность этого признака для анализа оттока."
   ]
  },
  {
   "cell_type": "markdown",
   "metadata": {},
   "source": [
    "<div class=\"alert alert-block alert-success\">✔️\n",
    "    \n",
    "\n",
    "__Комментарий от тимлида №2__\n",
    "\n",
    "Методологически проверка гипотез проведена верно и наглядный вывод результатов. Так держать!\n",
    "</div>"
   ]
  },
  {
   "cell_type": "markdown",
   "metadata": {},
   "source": [
    "## Подведение промежуточных итогов"
   ]
  },
  {
   "cell_type": "markdown",
   "metadata": {},
   "source": [
    "Выбор признаков для сегментации\n",
    "\n",
    "- Количество продуктов – как показал анализ, клиенты с различным количеством продуктов имеют значительные различия в склонности к оттоку. Этот признак показал себя как важный для прогнозирования оттока, поэтому мы можем использовать его для разделения клиентов на группы.\n",
    "\n",
    "- Возраст – результаты EDA продемонстрировали, что возрастные группы имеют отличия в уровне оттока. Этот признак имеет слабую корреляцию с оттоком, но выявленные интервалы в данных указывают на значимость возраста для сегментации.\n",
    "\n",
    "- Активность (количество дней с момента последней активности) – клиенты с более низким уровнем активности чаще склонны к оттоку. Этот признак также можно использовать для разделения клиентов по уровню активности.\n",
    "\n",
    "- Баланс на счете – результаты анализа показали, что клиенты с меньшим балансом склонны к оттоку. Этот фактор важен для понимания финансового поведения клиентов и их предрасположенности к уходу.\n",
    "\n",
    "\n",
    "Рекомендации по сегментации\n",
    "\n",
    "- Мы выбираем только несколько ключевых признаков, чтобы избежать слишком узких сегментов, которые охватывают небольшое количество клиентов. Сегменты будут созданы с достаточным количеством клиентов, чтобы применяемые меры удержания были эффективными. С другой стороны, признаки выбраны таким образом, чтобы каждый сегмент имел относительно однородную характеристику по оттоку, что позволит сформулировать конкретные рекомендации для каждого сегмента."
   ]
  },
  {
   "cell_type": "markdown",
   "metadata": {},
   "source": [
    "## Сегментация и приоритизация"
   ]
  },
  {
   "cell_type": "markdown",
   "metadata": {},
   "source": [
    "На основе EDA определим наиболее значимые признаки и значения/интервалы, которые указывали на высокий уровень оттока:\n",
    "\n",
    "Возраст (age) — категории, которые в EDA показали высокий отток (например, клиенты младше 30 и старше 50 лет).\n",
    "Баланс (balance) — клиенты с низким балансом имеют более высокий риск оттока.\n",
    "Количество продуктов (products) — клиенты, использующие только один продукт, чаще покидают банк."
   ]
  },
  {
   "cell_type": "code",
   "execution_count": 27,
   "metadata": {},
   "outputs": [],
   "source": [
    "average_balance = data['balance'].mean()\n",
    "\n",
    "# функция для расчета метрик по сегментам\n",
    "def segment_metrics(data, segment_name, conditions):\n",
    "    segment_data = data.query(conditions)\n",
    "    total_clients = len(segment_data)\n",
    "    churned_clients = segment_data['churn'].sum()\n",
    "    churn_rate = (churned_clients / total_clients) * 100 if total_clients > 0 else 0\n",
    "    return {\n",
    "        'Сегмент': segment_name,\n",
    "        'Количество клиентов': total_clients,\n",
    "        'Количество оттоков': churned_clients,\n",
    "        'Уровень оттока (%)': churn_rate\n",
    "    }"
   ]
  },
  {
   "cell_type": "code",
   "execution_count": 28,
   "metadata": {},
   "outputs": [
    {
     "data": {
      "text/html": [
       "<div>\n",
       "<style scoped>\n",
       "    .dataframe tbody tr th:only-of-type {\n",
       "        vertical-align: middle;\n",
       "    }\n",
       "\n",
       "    .dataframe tbody tr th {\n",
       "        vertical-align: top;\n",
       "    }\n",
       "\n",
       "    .dataframe thead th {\n",
       "        text-align: right;\n",
       "    }\n",
       "</style>\n",
       "<table border=\"1\" class=\"dataframe\">\n",
       "  <thead>\n",
       "    <tr style=\"text-align: right;\">\n",
       "      <th></th>\n",
       "      <th>Сегмент</th>\n",
       "      <th>Количество клиентов</th>\n",
       "      <th>Количество оттоков</th>\n",
       "      <th>Уровень оттока (%)</th>\n",
       "    </tr>\n",
       "  </thead>\n",
       "  <tbody>\n",
       "    <tr>\n",
       "      <th>0</th>\n",
       "      <td>Молодые клиенты с низким балансом</td>\n",
       "      <td>1778</td>\n",
       "      <td>396</td>\n",
       "      <td>22.272216</td>\n",
       "    </tr>\n",
       "    <tr>\n",
       "      <th>1</th>\n",
       "      <td>Клиенты старшего возраста, использующие только...</td>\n",
       "      <td>772</td>\n",
       "      <td>62</td>\n",
       "      <td>8.031088</td>\n",
       "    </tr>\n",
       "    <tr>\n",
       "      <th>2</th>\n",
       "      <td>Клиенты среднего возраста с высоким балансом и...</td>\n",
       "      <td>1011</td>\n",
       "      <td>353</td>\n",
       "      <td>34.915925</td>\n",
       "    </tr>\n",
       "  </tbody>\n",
       "</table>\n",
       "</div>"
      ],
      "text/plain": [
       "                                             Сегмент  Количество клиентов  \\\n",
       "0                  Молодые клиенты с низким балансом                 1778   \n",
       "1  Клиенты старшего возраста, использующие только...                  772   \n",
       "2  Клиенты среднего возраста с высоким балансом и...                 1011   \n",
       "\n",
       "   Количество оттоков  Уровень оттока (%)  \n",
       "0                 396           22.272216  \n",
       "1                  62            8.031088  \n",
       "2                 353           34.915925  "
      ]
     },
     "execution_count": 28,
     "metadata": {},
     "output_type": "execute_result"
    }
   ],
   "source": [
    "# условия для сегментов\n",
    "segments = [\n",
    "    {\n",
    "        'name': 'Молодые клиенты с низким балансом',\n",
    "        'conditions': 'age < 35 and balance < @average_balance'\n",
    "    },\n",
    "    {\n",
    "        'name': 'Клиенты старшего возраста, использующие только один продукт',\n",
    "        'conditions': 'age > 50 and products == 1'\n",
    "    },\n",
    "    {\n",
    "        'name': 'Клиенты среднего возраста с высоким балансом и несколькими продуктами',\n",
    "        'conditions': 'age >= 35 and age <= 50 and balance > @average_balance and products > 1'\n",
    "    },\n",
    "    {\n",
    "        'name': 'Клиенты любого возраста с частой активностью и средним балансом',\n",
    "        'conditions': 'last_activity == \"frequent\" and balance >= @average_balance * 0.75 and balance <= @average_balance * 1.25'\n",
    "    }\n",
    "]\n",
    "\n",
    "# расчет метрик по сегментам\n",
    "segment_results = pd.DataFrame([\n",
    "    segment_metrics(data, seg['name'], seg['conditions']) for seg in segments\n",
    "])\n",
    "\n",
    "# исключение сегментов с менее чем 500 клиентами\n",
    "segment_results = segment_results[segment_results['Количество клиентов'] >= 500].reset_index(drop=True)\n",
    "segment_results"
   ]
  },
  {
   "cell_type": "markdown",
   "metadata": {},
   "source": [
    "<div class=\"alert alert-block alert-danger\">✍\n",
    "    \n",
    "\n",
    "__Комментарий от тимлида №1__\n",
    "\n",
    "Сегменты построены на одних и тех же признаках - так мы повышаем риски того, что выделенная нами аудитория будет нечувствительна к мероприятиям по удержанию, а другую аудиторию мы не знаем.\n",
    "\n",
    "Сегменты должны быть разнородными, допускается пересечение по одному признаку между сегментами, но не более."
   ]
  },
  {
   "cell_type": "markdown",
   "metadata": {},
   "source": [
    "<div class=\"alert alert-info\"> <b>Комментарии студента:</b> \n",
    "   Думаю, теперь сегменты подобраны правильно\n",
    "</div>"
   ]
  },
  {
   "cell_type": "markdown",
   "metadata": {},
   "source": [
    "<div class=\"alert alert-block alert-success\">✔️\n",
    "    \n",
    "\n",
    "__Комментарий от тимлида №2__\n",
    "\n",
    "Отличная сегментация"
   ]
  },
  {
   "cell_type": "markdown",
   "metadata": {},
   "source": [
    "**Вывод**\n",
    "\n",
    "1. **Молодые клиенты с низким балансом**\n",
    "\n",
    "Клиенты в этой возрастной группе имеют высокий уровень оттока. Это может указывать на то, что молодые клиенты менее привязаны к банку, возможно, из-за ограниченного количества продуктов или неудовлетворенности предложениями. Следует сосредоточиться на разработке продуктов, ориентированных на их финансовые потребности, и усилении взаимодействия с ними.\n",
    "\n",
    "2. **Клиенты старшего возраста, использующие только один продукт**\n",
    "\n",
    "Этот сегмент показывает низкий уровень оттока, что может свидетельствовать о лояльности клиентов старшего возраста к банку, несмотря на использование только одного продукта. Тем не менее, поскольку они представляют важный сегмент для банка, стоит поддерживать и укреплять их отношения с банком.\n",
    "\n",
    "3. **Клиенты среднего возраста с высоким балансом и несколькими продуктами**\n",
    "\n",
    "Этот сегмент демонстрирует самый высокий уровень оттока, несмотря на наличие у клиентов нескольких продуктов и высокого баланса. Возможно, банк не полностью удовлетворяет их более сложные потребности, или они могут находить более выгодные условия у других банков. Эта группа требует особого внимания, поскольку их уход может привести к значительным финансовым потерям для банка."
   ]
  },
  {
   "cell_type": "markdown",
   "metadata": {},
   "source": []
  },
  {
   "cell_type": "markdown",
   "metadata": {},
   "source": [
    "## Приоритизация сегментов"
   ]
  },
  {
   "cell_type": "markdown",
   "metadata": {},
   "source": [
    "### Первый приоритет — Клиенты среднего возраста с высоким балансом и несколькими продуктами (уровень оттока: 34.9%)\n",
    "\n",
    "Обоснование: Данный сегмент важен для банка, так как эти клиенты пользуются несколькими продуктами и имеют высокий баланс, что делает их важными с точки зрения доходов. Высокий уровень оттока указывает на необходимость срочных мер по удержанию.\n",
    "\n",
    "**Рекомендации:** Внедрить более персонализированные программы лояльности и удержания, предоставить премиальные услуги и организовать клиентскую поддержку на высоком уровне. Провести опросы для выявления неудовлетворенных потребностей. Предложить индивидуализированные условия, такие как бонусы или скидки на обслуживание. Рассмотреть улучшенные программы лояльности, которые удовлетворят их ожидания от банка.\n",
    "\n",
    "### Второй приоритет — Молодые клиенты с низким балансом (уровень оттока: 22.3%)\n",
    "\n",
    "Обоснование: Молодые клиенты потенциально могут остаться с банком на долгосрочной основе, если банк сможет удовлетворить их текущие и будущие потребности. Высокий уровень оттока в этом сегменте свидетельствует о возможности улучшения условий для этой группы.\n",
    "\n",
    "**Рекомендации:** Разработать уникальные предложения, ориентированные на молодых клиентов, включая программы по повышению лояльности и кросс-продажи.\n",
    "\n",
    "### Третий приоритет — Клиенты старшего возраста, использующие только один продукт (уровень оттока: 8.0%)\n",
    "\n",
    "Обоснование: Клиенты этой группы имеют низкий уровень оттока и показывают высокую лояльность, поэтому их можно рассматривать как менее приоритетных с точки зрения срочных удерживающих мероприятий.\n",
    "\n",
    "**Рекомендации:** Поддерживать удовлетворенность клиентов и стимулировать кросс-продажи, чтобы укрепить отношения и повысить лояльность. Разработать программы по улучшению опыта взаимодействия для возрастных клиентов, например, личные встречи и консультации. Стимулировать перекрестные продажи, чтобы предложить новые продукты, которые могут повысить лояльность этой группы."
   ]
  },
  {
   "cell_type": "markdown",
   "metadata": {},
   "source": [
    "<div class=\"alert alert-block alert-success\">✔️\n",
    "    \n",
    "\n",
    "__Комментарий от тимлида №2__\n",
    "\n",
    "С логикой приоритизации согласен"
   ]
  },
  {
   "cell_type": "markdown",
   "metadata": {},
   "source": [
    "## Выводы"
   ]
  },
  {
   "cell_type": "markdown",
   "metadata": {},
   "source": [
    "**Общий вывод по проекту** \n",
    "\n",
    "В ходе проекта был проведен комплексный анализ клиентских данных с целью выявления факторов, влияющих на отток, и формирования таргетированных рекомендаций для удержания клиентов. Основное внимание уделялось сегментации клиентов на основе ключевых характеристик, таких как возраст, баланс на счету и количество используемых продуктов. Анализ распределения оттока помог выделить три ключевых сегмента, требующих приоритетного внимания со стороны маркетингового отдела.\n",
    "\n",
    "Сегментация и анализ позволили сосредоточиться на специфических потребностях и особенностях каждого сегмента, что помогает банку применять индивидуализированный подход к их удержанию. Рекомендации для каждого сегмента были сформулированы с учетом реальных потребностей клиентов, их предпочтений и поведения, а также ограниченных ресурсов маркетингового отдела, исключая универсальные подходы.\n",
    "\n",
    "Таким образом, сегментация и анализ позволили:\n",
    "\n",
    "- Выявить критичные группы клиентов с высоким риском оттока, составляющие значительную долю клиентской базы.\n",
    "- Сформулировать таргетированные рекомендации, направленные на решение конкретных проблем и потребностей каждого сегмента.\n",
    "- Приоритизировать сегменты, позволяя маркетинговому отделу сосредоточиться на наиболее значимых группах при ограниченных ресурсах, обеспечивая максимальный эффект от удерживающих мероприятий.\n",
    "\n",
    "**Итоги рекомендаций** \n",
    "\n",
    "В результате сегментации были предложены следующие специфические меры для каждого сегмента:\n",
    "\n",
    "- Молодые клиенты с низким балансом: Для этой группы разработаны программы для повышения лояльности, такие как персонализированные предложения и скидки, чтобы снизить их склонность к уходу.\n",
    "- Клиенты старшего возраста с низким балансом: Для этой группы предложены меры поддержки и льготы, учитывающие возрастные особенности и направленные на повышение доверия к банку.\n",
    "- Клиенты среднего возраста с высоким балансом и несколькими продуктами: Для этой группы разработана программа личного менеджмента и специальные предложения, ориентированные на удержание высокодоходных клиентов, чтобы снизить риски оттока этой ценной категории.\n",
    "\n",
    "Данные меры и подходы позволяют банку сконцентрироваться на наиболее нуждающихся в поддержке клиентах, обеспечивая оптимальное распределение ресурсов и повышение лояльности клиентов."
   ]
  },
  {
   "cell_type": "markdown",
   "metadata": {},
   "source": [
    "<div class=\"alert alert-block alert-danger\">✍\n",
    "    \n",
    "\n",
    "__Комментарий от тимлида №1__\n",
    "\n",
    "Поправь, пожалуйста, рекомендации после корректировки"
   ]
  },
  {
   "cell_type": "code",
   "execution_count": null,
   "metadata": {},
   "outputs": [],
   "source": []
  },
  {
   "cell_type": "markdown",
   "metadata": {},
   "source": [
    "<div class=\"alert alert-info\"> <b>Комментарии студента:</b> \n",
    "   Готово\n",
    "</div>"
   ]
  },
  {
   "cell_type": "markdown",
   "metadata": {},
   "source": [
    "<div class=\"alert alert-block alert-success\">✔️\n",
    "    \n",
    "\n",
    "__Комментарий от тимлида №2__\n",
    "\n",
    "Итоговый вывод завершает твое исследование. Представлены основные результаты полученные в ходе анализа, но самое главное - даны рекомендации по сегментам. Это важное качество для аналитика. Развивай его и дальше"
   ]
  },
  {
   "cell_type": "markdown",
   "metadata": {},
   "source": []
  },
  {
   "cell_type": "markdown",
   "metadata": {},
   "source": []
  },
  {
   "cell_type": "markdown",
   "metadata": {},
   "source": [
    "<div class=\"alert alert-block alert-warning\">📝\n",
    "Комментарий от тимлида №1 </b>\n",
    "\n",
    "\n",
    "\n",
    "Итог ревью - ты проделал хорошую работу! Многие расчеты корректные, грамотная интерпретация полученных результатов! У тебя есть понимание данного процесса. Но есть некоторые моменты которые тебе предстоит доработать, чтобы я смог принять твой проект. Если возникнут вопросы - обязательно задавай. Буду ждать!\n",
    "\n",
    "---\n",
    "\n",
    "Нужно поправить:\n",
    "\n",
    "1) Замена пропусков\n",
    "\n",
    "2) Анализ распределения признаков\n",
    "\n",
    "3) Корреляция\n",
    "\n",
    "4) Гипотезы\n",
    "\n",
    "5) Сегментация\n",
    "\n",
    "6) Ошибка в коде\n",
    "\n",
    "7) Подправить выводы, после изменений\n",
    "\n",
    "----\n",
    "\n",
    "\n",
    "Если у тебя будут какие-то вопросы по моим комментариям - обязательно пиши! Буду ждать работу на повторное ревью :)</div>"
   ]
  },
  {
   "cell_type": "markdown",
   "metadata": {},
   "source": []
  },
  {
   "cell_type": "markdown",
   "metadata": {},
   "source": [
    "<div class=\"alert alert-block alert-success\">✔️\n",
    "    \n",
    "\n",
    "__Комментарий от тимлида №2__\n",
    "    \n",
    "ЗЫ. Презентацию присылай в пачке в ЛС\n",
    "    \n",
    "---\n",
    "\n",
    "От себя хочу порекомендовать тебе отличную книгу про язык Python. Она очень классная (можно купить как новую, так и на Авито попадается. Вот ссылка на pdf этой книги)\n",
    "    \n",
    "https://monster-book.com/avtomatizaciya-zadach-s-python\n",
    "    \n",
    "---\n",
    "    \n",
    "\n",
    "\n",
    "Все замечания учтены. Успехов на SQL!\n",
    "</div>"
   ]
  }
 ],
 "metadata": {
  "ExecuteTimeLog": [
   {
    "duration": 4,
    "start_time": "2024-10-23T08:24:43.923Z"
   },
   {
    "duration": 1287,
    "start_time": "2024-10-23T08:43:37.065Z"
   },
   {
    "duration": 116,
    "start_time": "2024-10-23T08:45:22.157Z"
   },
   {
    "duration": 24,
    "start_time": "2024-10-23T08:45:26.824Z"
   },
   {
    "duration": 85,
    "start_time": "2024-10-24T09:34:01.886Z"
   },
   {
    "duration": 1666,
    "start_time": "2024-10-24T09:34:09.215Z"
   },
   {
    "duration": 74,
    "start_time": "2024-10-24T09:34:10.883Z"
   },
   {
    "duration": 24,
    "start_time": "2024-10-24T09:34:10.958Z"
   },
   {
    "duration": 31,
    "start_time": "2024-10-24T09:34:10.984Z"
   },
   {
    "duration": 8,
    "start_time": "2024-10-24T09:35:22.580Z"
   },
   {
    "duration": 14,
    "start_time": "2024-10-24T09:36:28.075Z"
   },
   {
    "duration": 4,
    "start_time": "2024-10-24T09:36:37.878Z"
   },
   {
    "duration": 10,
    "start_time": "2024-10-24T09:39:10.463Z"
   },
   {
    "duration": 16,
    "start_time": "2024-10-24T09:39:49.010Z"
   },
   {
    "duration": 11,
    "start_time": "2024-10-24T09:39:56.968Z"
   },
   {
    "duration": 16,
    "start_time": "2024-10-24T09:39:57.527Z"
   },
   {
    "duration": 12,
    "start_time": "2024-10-24T09:39:58.052Z"
   },
   {
    "duration": 6,
    "start_time": "2024-10-24T09:40:10.346Z"
   },
   {
    "duration": 8,
    "start_time": "2024-10-24T09:40:10.828Z"
   },
   {
    "duration": 12,
    "start_time": "2024-10-24T09:40:11.245Z"
   },
   {
    "duration": 11,
    "start_time": "2024-10-24T09:40:11.632Z"
   },
   {
    "duration": 13,
    "start_time": "2024-10-24T09:40:12.191Z"
   },
   {
    "duration": 30,
    "start_time": "2024-10-24T09:41:20.162Z"
   },
   {
    "duration": 5,
    "start_time": "2024-10-24T09:43:20.185Z"
   },
   {
    "duration": 7,
    "start_time": "2024-10-24T09:43:22.410Z"
   },
   {
    "duration": 5,
    "start_time": "2024-10-24T09:43:22.843Z"
   },
   {
    "duration": 1356,
    "start_time": "2024-10-24T09:43:23.305Z"
   },
   {
    "duration": 0,
    "start_time": "2024-10-24T09:43:24.663Z"
   },
   {
    "duration": 0,
    "start_time": "2024-10-24T09:43:24.665Z"
   },
   {
    "duration": 14,
    "start_time": "2024-10-24T09:43:38.740Z"
   },
   {
    "duration": 10,
    "start_time": "2024-10-24T09:43:41.666Z"
   },
   {
    "duration": 11,
    "start_time": "2024-10-24T09:43:41.969Z"
   },
   {
    "duration": 13,
    "start_time": "2024-10-24T09:43:47.652Z"
   },
   {
    "duration": 15,
    "start_time": "2024-10-24T09:44:30.926Z"
   },
   {
    "duration": 59,
    "start_time": "2024-10-24T09:44:44.566Z"
   },
   {
    "duration": 4,
    "start_time": "2024-10-24T09:45:11.384Z"
   },
   {
    "duration": 6,
    "start_time": "2024-10-24T09:45:12.157Z"
   },
   {
    "duration": 5,
    "start_time": "2024-10-24T09:45:12.647Z"
   },
   {
    "duration": 12,
    "start_time": "2024-10-24T09:45:13.149Z"
   },
   {
    "duration": 9,
    "start_time": "2024-10-24T09:45:13.692Z"
   },
   {
    "duration": 12,
    "start_time": "2024-10-24T09:45:20.111Z"
   },
   {
    "duration": 6,
    "start_time": "2024-10-24T09:47:09.034Z"
   },
   {
    "duration": 4,
    "start_time": "2024-10-24T09:47:28.182Z"
   },
   {
    "duration": 10,
    "start_time": "2024-10-24T09:47:28.527Z"
   },
   {
    "duration": 4,
    "start_time": "2024-10-24T09:47:28.956Z"
   },
   {
    "duration": 13,
    "start_time": "2024-10-24T09:47:29.307Z"
   },
   {
    "duration": 11,
    "start_time": "2024-10-24T09:47:29.649Z"
   },
   {
    "duration": 13,
    "start_time": "2024-10-24T09:47:30.165Z"
   },
   {
    "duration": 22,
    "start_time": "2024-10-24T09:49:44.621Z"
   },
   {
    "duration": 40,
    "start_time": "2024-10-24T09:50:02.884Z"
   },
   {
    "duration": 5,
    "start_time": "2024-10-24T09:50:26.524Z"
   },
   {
    "duration": 13,
    "start_time": "2024-10-24T09:50:27.356Z"
   },
   {
    "duration": 38,
    "start_time": "2024-10-24T09:50:28.178Z"
   },
   {
    "duration": 7,
    "start_time": "2024-10-24T09:50:29.817Z"
   },
   {
    "duration": 6,
    "start_time": "2024-10-24T09:50:30.150Z"
   },
   {
    "duration": 5,
    "start_time": "2024-10-24T09:50:30.478Z"
   },
   {
    "duration": 13,
    "start_time": "2024-10-24T09:50:30.763Z"
   },
   {
    "duration": 9,
    "start_time": "2024-10-24T09:50:31.079Z"
   },
   {
    "duration": 12,
    "start_time": "2024-10-24T09:50:31.367Z"
   },
   {
    "duration": 13,
    "start_time": "2024-10-24T09:52:08.893Z"
   },
   {
    "duration": 688,
    "start_time": "2024-10-24T09:52:18.633Z"
   },
   {
    "duration": 1372,
    "start_time": "2024-10-24T09:52:33.870Z"
   },
   {
    "duration": 11,
    "start_time": "2024-10-24T09:53:24.091Z"
   },
   {
    "duration": 11,
    "start_time": "2024-10-24T09:53:34.487Z"
   },
   {
    "duration": 1499,
    "start_time": "2024-10-24T09:53:40.892Z"
   },
   {
    "duration": 9,
    "start_time": "2024-10-24T09:54:38.304Z"
   },
   {
    "duration": 15,
    "start_time": "2024-10-24T09:54:51.751Z"
   },
   {
    "duration": 9,
    "start_time": "2024-10-24T09:55:11.506Z"
   },
   {
    "duration": 3454,
    "start_time": "2024-10-24T09:55:26.843Z"
   },
   {
    "duration": 85,
    "start_time": "2024-10-24T09:55:37.649Z"
   },
   {
    "duration": 1558,
    "start_time": "2024-10-24T13:41:05.880Z"
   },
   {
    "duration": 0,
    "start_time": "2024-10-24T13:41:07.440Z"
   },
   {
    "duration": 0,
    "start_time": "2024-10-24T13:41:07.441Z"
   },
   {
    "duration": 0,
    "start_time": "2024-10-24T13:41:07.442Z"
   },
   {
    "duration": 0,
    "start_time": "2024-10-24T13:41:07.443Z"
   },
   {
    "duration": 0,
    "start_time": "2024-10-24T13:41:07.452Z"
   },
   {
    "duration": 0,
    "start_time": "2024-10-24T13:41:07.453Z"
   },
   {
    "duration": 0,
    "start_time": "2024-10-24T13:41:07.454Z"
   },
   {
    "duration": 0,
    "start_time": "2024-10-24T13:41:07.456Z"
   },
   {
    "duration": 0,
    "start_time": "2024-10-24T13:41:07.457Z"
   },
   {
    "duration": 0,
    "start_time": "2024-10-24T13:41:07.459Z"
   },
   {
    "duration": 0,
    "start_time": "2024-10-24T13:41:07.460Z"
   },
   {
    "duration": 0,
    "start_time": "2024-10-24T13:41:07.461Z"
   },
   {
    "duration": 3482,
    "start_time": "2024-10-24T13:41:24.972Z"
   },
   {
    "duration": 63,
    "start_time": "2024-10-24T13:41:29.978Z"
   },
   {
    "duration": 76,
    "start_time": "2024-10-24T13:41:30.414Z"
   },
   {
    "duration": 15,
    "start_time": "2024-10-24T13:41:30.760Z"
   },
   {
    "duration": 47,
    "start_time": "2024-10-24T13:41:31.030Z"
   },
   {
    "duration": 5,
    "start_time": "2024-10-24T13:41:31.321Z"
   },
   {
    "duration": 5,
    "start_time": "2024-10-24T13:41:31.684Z"
   },
   {
    "duration": 4,
    "start_time": "2024-10-24T13:41:31.964Z"
   },
   {
    "duration": 16,
    "start_time": "2024-10-24T13:41:32.464Z"
   },
   {
    "duration": 10,
    "start_time": "2024-10-24T13:41:32.893Z"
   },
   {
    "duration": 14,
    "start_time": "2024-10-24T13:41:33.286Z"
   },
   {
    "duration": 1511,
    "start_time": "2024-10-24T13:41:33.674Z"
   },
   {
    "duration": 1431,
    "start_time": "2024-10-24T13:41:35.187Z"
   },
   {
    "duration": 202089,
    "start_time": "2024-10-24T13:41:36.620Z"
   },
   {
    "duration": 1144,
    "start_time": "2024-10-24T13:44:58.711Z"
   },
   {
    "duration": 8,
    "start_time": "2024-10-24T13:46:28.288Z"
   },
   {
    "duration": 12,
    "start_time": "2024-10-24T13:46:31.096Z"
   },
   {
    "duration": 2548,
    "start_time": "2024-10-24T13:52:15.750Z"
   },
   {
    "duration": 1242,
    "start_time": "2024-10-24T13:52:18.301Z"
   },
   {
    "duration": 85,
    "start_time": "2024-10-24T13:52:19.544Z"
   },
   {
    "duration": 12,
    "start_time": "2024-10-24T13:52:19.632Z"
   },
   {
    "duration": 50,
    "start_time": "2024-10-24T13:52:19.646Z"
   },
   {
    "duration": 5,
    "start_time": "2024-10-24T13:52:19.697Z"
   },
   {
    "duration": 31,
    "start_time": "2024-10-24T13:52:19.704Z"
   },
   {
    "duration": 15,
    "start_time": "2024-10-24T13:52:19.737Z"
   },
   {
    "duration": 40,
    "start_time": "2024-10-24T13:52:19.754Z"
   },
   {
    "duration": 12,
    "start_time": "2024-10-24T13:52:19.797Z"
   },
   {
    "duration": 113,
    "start_time": "2024-10-24T13:52:19.811Z"
   },
   {
    "duration": 1510,
    "start_time": "2024-10-24T13:52:19.926Z"
   },
   {
    "duration": 1497,
    "start_time": "2024-10-24T13:52:21.438Z"
   },
   {
    "duration": 206809,
    "start_time": "2024-10-24T13:55:50.759Z"
   },
   {
    "duration": 1104,
    "start_time": "2024-10-24T13:59:17.570Z"
   },
   {
    "duration": 28,
    "start_time": "2024-10-24T14:07:41.813Z"
   },
   {
    "duration": 0,
    "start_time": "2024-10-24T14:14:19.873Z"
   },
   {
    "duration": 6,
    "start_time": "2024-10-24T14:28:50.330Z"
   },
   {
    "duration": 4,
    "start_time": "2024-10-24T14:29:38.951Z"
   },
   {
    "duration": 17,
    "start_time": "2024-10-24T14:30:44.375Z"
   },
   {
    "duration": 6,
    "start_time": "2024-10-24T14:30:50.772Z"
   },
   {
    "duration": 1260,
    "start_time": "2024-10-24T15:17:05.507Z"
   },
   {
    "duration": 85,
    "start_time": "2024-10-24T15:17:06.769Z"
   },
   {
    "duration": 15,
    "start_time": "2024-10-24T15:17:06.856Z"
   },
   {
    "duration": 86,
    "start_time": "2024-10-24T15:17:06.872Z"
   },
   {
    "duration": 5,
    "start_time": "2024-10-24T15:17:06.961Z"
   },
   {
    "duration": 28,
    "start_time": "2024-10-24T15:17:06.968Z"
   },
   {
    "duration": 17,
    "start_time": "2024-10-24T15:17:06.997Z"
   },
   {
    "duration": 43,
    "start_time": "2024-10-24T15:17:07.016Z"
   },
   {
    "duration": 56,
    "start_time": "2024-10-24T15:17:07.061Z"
   },
   {
    "duration": 31,
    "start_time": "2024-10-24T15:17:07.119Z"
   },
   {
    "duration": 11,
    "start_time": "2024-10-24T15:17:07.153Z"
   },
   {
    "duration": 19,
    "start_time": "2024-10-24T15:17:07.166Z"
   },
   {
    "duration": 1595,
    "start_time": "2024-10-24T15:17:07.187Z"
   },
   {
    "duration": 1533,
    "start_time": "2024-10-24T15:17:08.785Z"
   },
   {
    "duration": 55810,
    "start_time": "2024-10-24T15:17:10.320Z"
   },
   {
    "duration": 1225,
    "start_time": "2024-10-24T15:18:06.132Z"
   },
   {
    "duration": 11,
    "start_time": "2024-10-24T15:18:07.424Z"
   },
   {
    "duration": 1171,
    "start_time": "2024-10-24T15:20:50.632Z"
   },
   {
    "duration": 1358,
    "start_time": "2024-10-24T15:32:55.746Z"
   },
   {
    "duration": 93,
    "start_time": "2024-10-24T15:32:57.106Z"
   },
   {
    "duration": 15,
    "start_time": "2024-10-24T15:32:57.202Z"
   },
   {
    "duration": 70,
    "start_time": "2024-10-24T15:32:57.220Z"
   },
   {
    "duration": 4,
    "start_time": "2024-10-24T15:32:57.292Z"
   },
   {
    "duration": 5,
    "start_time": "2024-10-24T15:32:57.298Z"
   },
   {
    "duration": 5,
    "start_time": "2024-10-24T15:32:57.305Z"
   },
   {
    "duration": 44,
    "start_time": "2024-10-24T15:32:57.311Z"
   },
   {
    "duration": 29,
    "start_time": "2024-10-24T15:32:57.357Z"
   },
   {
    "duration": 21,
    "start_time": "2024-10-24T15:32:57.390Z"
   },
   {
    "duration": 5,
    "start_time": "2024-10-24T15:32:57.414Z"
   },
   {
    "duration": 32,
    "start_time": "2024-10-24T15:32:57.420Z"
   },
   {
    "duration": 119,
    "start_time": "2024-10-24T15:32:57.454Z"
   },
   {
    "duration": 0,
    "start_time": "2024-10-24T15:32:57.575Z"
   },
   {
    "duration": 0,
    "start_time": "2024-10-24T15:32:57.576Z"
   },
   {
    "duration": 0,
    "start_time": "2024-10-24T15:32:57.578Z"
   },
   {
    "duration": 0,
    "start_time": "2024-10-24T15:32:57.579Z"
   },
   {
    "duration": 0,
    "start_time": "2024-10-24T15:32:57.580Z"
   },
   {
    "duration": 284,
    "start_time": "2024-10-24T15:33:11.292Z"
   },
   {
    "duration": 1608,
    "start_time": "2024-10-24T15:33:29.398Z"
   },
   {
    "duration": 1503,
    "start_time": "2024-10-24T15:33:31.007Z"
   },
   {
    "duration": 59780,
    "start_time": "2024-10-24T15:33:43.281Z"
   },
   {
    "duration": 1258,
    "start_time": "2024-10-24T15:34:43.063Z"
   },
   {
    "duration": 26,
    "start_time": "2024-10-24T15:39:50.310Z"
   },
   {
    "duration": 16,
    "start_time": "2024-10-24T15:40:10.236Z"
   },
   {
    "duration": 1416,
    "start_time": "2024-10-25T13:22:48.924Z"
   },
   {
    "duration": 1187,
    "start_time": "2024-10-25T13:22:57.535Z"
   },
   {
    "duration": 0,
    "start_time": "2024-10-25T13:22:58.724Z"
   },
   {
    "duration": 0,
    "start_time": "2024-10-25T13:22:58.725Z"
   },
   {
    "duration": 0,
    "start_time": "2024-10-25T13:22:58.726Z"
   },
   {
    "duration": 0,
    "start_time": "2024-10-25T13:22:58.727Z"
   },
   {
    "duration": 0,
    "start_time": "2024-10-25T13:22:58.728Z"
   },
   {
    "duration": 0,
    "start_time": "2024-10-25T13:22:58.729Z"
   },
   {
    "duration": 0,
    "start_time": "2024-10-25T13:22:58.730Z"
   },
   {
    "duration": 0,
    "start_time": "2024-10-25T13:22:58.730Z"
   },
   {
    "duration": 0,
    "start_time": "2024-10-25T13:22:58.731Z"
   },
   {
    "duration": 0,
    "start_time": "2024-10-25T13:22:58.732Z"
   },
   {
    "duration": 0,
    "start_time": "2024-10-25T13:22:58.733Z"
   },
   {
    "duration": 0,
    "start_time": "2024-10-25T13:22:58.734Z"
   },
   {
    "duration": 0,
    "start_time": "2024-10-25T13:22:58.735Z"
   },
   {
    "duration": 0,
    "start_time": "2024-10-25T13:22:58.735Z"
   },
   {
    "duration": 0,
    "start_time": "2024-10-25T13:22:58.757Z"
   },
   {
    "duration": 0,
    "start_time": "2024-10-25T13:22:58.758Z"
   },
   {
    "duration": 0,
    "start_time": "2024-10-25T13:22:58.759Z"
   },
   {
    "duration": 3747,
    "start_time": "2024-10-25T13:23:21.934Z"
   },
   {
    "duration": 2552,
    "start_time": "2024-10-25T13:23:27.742Z"
   },
   {
    "duration": 68,
    "start_time": "2024-10-25T13:23:30.297Z"
   },
   {
    "duration": 203,
    "start_time": "2024-10-25T13:23:30.366Z"
   },
   {
    "duration": 17,
    "start_time": "2024-10-25T13:23:30.570Z"
   },
   {
    "duration": 29,
    "start_time": "2024-10-25T13:23:30.589Z"
   },
   {
    "duration": 48,
    "start_time": "2024-10-25T13:23:30.619Z"
   },
   {
    "duration": 70,
    "start_time": "2024-10-25T13:23:30.668Z"
   },
   {
    "duration": 21,
    "start_time": "2024-10-25T13:23:30.739Z"
   },
   {
    "duration": 7,
    "start_time": "2024-10-25T13:23:30.761Z"
   },
   {
    "duration": 57,
    "start_time": "2024-10-25T13:23:30.770Z"
   },
   {
    "duration": 21,
    "start_time": "2024-10-25T13:23:30.829Z"
   },
   {
    "duration": 10,
    "start_time": "2024-10-25T13:23:30.852Z"
   },
   {
    "duration": 44,
    "start_time": "2024-10-25T13:23:30.863Z"
   },
   {
    "duration": 30,
    "start_time": "2024-10-25T13:23:30.910Z"
   },
   {
    "duration": 1139,
    "start_time": "2024-10-25T13:23:30.942Z"
   },
   {
    "duration": 1312,
    "start_time": "2024-10-25T13:23:32.083Z"
   },
   {
    "duration": 46638,
    "start_time": "2024-10-25T13:23:33.396Z"
   },
   {
    "duration": 933,
    "start_time": "2024-10-25T13:24:20.035Z"
   },
   {
    "duration": 781,
    "start_time": "2024-10-25T13:24:20.970Z"
   },
   {
    "duration": 6,
    "start_time": "2024-10-25T13:31:48.005Z"
   },
   {
    "duration": 4,
    "start_time": "2024-10-25T13:32:05.015Z"
   },
   {
    "duration": 3,
    "start_time": "2024-10-25T13:32:14.790Z"
   },
   {
    "duration": 487,
    "start_time": "2024-10-25T13:32:26.124Z"
   },
   {
    "duration": 5,
    "start_time": "2024-10-25T13:32:49.629Z"
   },
   {
    "duration": 5,
    "start_time": "2024-10-25T14:04:02.253Z"
   },
   {
    "duration": 4,
    "start_time": "2024-10-25T14:04:20.557Z"
   },
   {
    "duration": 285,
    "start_time": "2024-10-25T15:23:56.317Z"
   },
   {
    "duration": 330,
    "start_time": "2024-10-25T15:24:21.462Z"
   },
   {
    "duration": 280,
    "start_time": "2024-10-25T15:25:37.285Z"
   },
   {
    "duration": 49,
    "start_time": "2024-10-26T13:15:00.272Z"
   },
   {
    "duration": 1400,
    "start_time": "2024-10-26T13:15:19.684Z"
   },
   {
    "duration": 3454,
    "start_time": "2024-10-26T13:15:26.570Z"
   },
   {
    "duration": 57,
    "start_time": "2024-10-26T13:15:31.303Z"
   },
   {
    "duration": 17,
    "start_time": "2024-10-26T13:16:00.963Z"
   },
   {
    "duration": 2724,
    "start_time": "2024-10-26T13:16:09.247Z"
   },
   {
    "duration": 1252,
    "start_time": "2024-10-26T13:16:11.974Z"
   },
   {
    "duration": 113,
    "start_time": "2024-10-26T13:16:13.228Z"
   },
   {
    "duration": 18,
    "start_time": "2024-10-26T13:16:13.343Z"
   },
   {
    "duration": 69,
    "start_time": "2024-10-26T13:16:13.363Z"
   },
   {
    "duration": 38,
    "start_time": "2024-10-26T13:16:13.434Z"
   },
   {
    "duration": 5,
    "start_time": "2024-10-26T13:16:13.474Z"
   },
   {
    "duration": 7,
    "start_time": "2024-10-26T13:16:13.480Z"
   },
   {
    "duration": 4,
    "start_time": "2024-10-26T13:16:13.489Z"
   },
   {
    "duration": 13,
    "start_time": "2024-10-26T13:16:13.494Z"
   },
   {
    "duration": 27,
    "start_time": "2024-10-26T13:16:13.509Z"
   },
   {
    "duration": 43,
    "start_time": "2024-10-26T13:16:13.537Z"
   },
   {
    "duration": 5,
    "start_time": "2024-10-26T13:16:13.582Z"
   },
   {
    "duration": 16,
    "start_time": "2024-10-26T13:16:13.590Z"
   },
   {
    "duration": 1450,
    "start_time": "2024-10-26T13:16:13.608Z"
   },
   {
    "duration": 1464,
    "start_time": "2024-10-26T13:16:15.061Z"
   },
   {
    "duration": 50717,
    "start_time": "2024-10-26T13:16:16.527Z"
   },
   {
    "duration": 1134,
    "start_time": "2024-10-26T13:17:07.246Z"
   },
   {
    "duration": 6,
    "start_time": "2024-10-26T13:17:08.382Z"
   },
   {
    "duration": 40,
    "start_time": "2024-10-26T13:17:08.389Z"
   },
   {
    "duration": 628,
    "start_time": "2024-10-26T13:17:08.430Z"
   },
   {
    "duration": 5,
    "start_time": "2024-10-26T13:17:09.059Z"
   },
   {
    "duration": 12,
    "start_time": "2024-10-26T13:17:09.066Z"
   },
   {
    "duration": 5,
    "start_time": "2024-10-26T13:17:09.080Z"
   },
   {
    "duration": 368,
    "start_time": "2024-10-26T13:17:09.086Z"
   },
   {
    "duration": 72,
    "start_time": "2024-10-26T13:17:09.456Z"
   },
   {
    "duration": 5,
    "start_time": "2024-10-26T13:18:10.903Z"
   },
   {
    "duration": 5,
    "start_time": "2024-10-26T13:18:13.778Z"
   },
   {
    "duration": 962,
    "start_time": "2024-10-26T14:06:17.462Z"
   },
   {
    "duration": 803,
    "start_time": "2024-10-26T14:06:29.268Z"
   },
   {
    "duration": 811,
    "start_time": "2024-10-26T14:06:40.587Z"
   },
   {
    "duration": 8,
    "start_time": "2024-10-26T14:11:34.002Z"
   },
   {
    "duration": 4,
    "start_time": "2024-10-26T14:11:38.216Z"
   },
   {
    "duration": 11,
    "start_time": "2024-10-26T14:12:02.385Z"
   },
   {
    "duration": 10,
    "start_time": "2024-10-26T14:12:49.427Z"
   },
   {
    "duration": 58,
    "start_time": "2024-10-26T14:13:16.281Z"
   },
   {
    "duration": 2,
    "start_time": "2024-10-26T14:17:09.360Z"
   },
   {
    "duration": 15,
    "start_time": "2024-10-26T14:17:25.029Z"
   },
   {
    "duration": 10,
    "start_time": "2024-10-26T14:18:23.910Z"
   },
   {
    "duration": 5,
    "start_time": "2024-10-26T14:18:42.959Z"
   },
   {
    "duration": 11,
    "start_time": "2024-10-26T14:19:05.092Z"
   },
   {
    "duration": 3,
    "start_time": "2024-10-26T14:19:17.819Z"
   },
   {
    "duration": 9,
    "start_time": "2024-10-26T14:19:37.684Z"
   },
   {
    "duration": 4,
    "start_time": "2024-10-26T14:19:55.877Z"
   },
   {
    "duration": 28,
    "start_time": "2024-10-26T14:20:13.757Z"
   },
   {
    "duration": 1035,
    "start_time": "2024-10-26T14:29:16.436Z"
   },
   {
    "duration": 61,
    "start_time": "2024-10-27T07:25:49.998Z"
   },
   {
    "duration": 8,
    "start_time": "2024-10-27T07:27:12.136Z"
   },
   {
    "duration": 3684,
    "start_time": "2024-10-27T07:27:17.654Z"
   },
   {
    "duration": 1270,
    "start_time": "2024-10-27T07:27:21.340Z"
   },
   {
    "duration": 67,
    "start_time": "2024-10-27T07:27:22.612Z"
   },
   {
    "duration": 16,
    "start_time": "2024-10-27T07:27:22.680Z"
   },
   {
    "duration": 10,
    "start_time": "2024-10-27T07:27:22.697Z"
   },
   {
    "duration": 29,
    "start_time": "2024-10-27T07:27:22.708Z"
   },
   {
    "duration": 3,
    "start_time": "2024-10-27T07:27:22.739Z"
   },
   {
    "duration": 5,
    "start_time": "2024-10-27T07:27:22.757Z"
   },
   {
    "duration": 5,
    "start_time": "2024-10-27T07:27:22.763Z"
   },
   {
    "duration": 15,
    "start_time": "2024-10-27T07:27:22.771Z"
   },
   {
    "duration": 21,
    "start_time": "2024-10-27T07:27:22.787Z"
   },
   {
    "duration": 103,
    "start_time": "2024-10-27T07:27:22.809Z"
   },
   {
    "duration": 5,
    "start_time": "2024-10-27T07:27:22.913Z"
   },
   {
    "duration": 5,
    "start_time": "2024-10-27T07:27:22.919Z"
   },
   {
    "duration": 1126,
    "start_time": "2024-10-27T07:27:22.926Z"
   },
   {
    "duration": 1347,
    "start_time": "2024-10-27T07:27:24.054Z"
   },
   {
    "duration": 48000,
    "start_time": "2024-10-27T07:27:25.402Z"
   },
   {
    "duration": 940,
    "start_time": "2024-10-27T07:28:13.404Z"
   },
   {
    "duration": 6,
    "start_time": "2024-10-27T07:28:14.346Z"
   },
   {
    "duration": 5,
    "start_time": "2024-10-27T07:28:14.354Z"
   },
   {
    "duration": 485,
    "start_time": "2024-10-27T07:28:14.361Z"
   },
   {
    "duration": 11,
    "start_time": "2024-10-27T07:28:14.848Z"
   },
   {
    "duration": 28,
    "start_time": "2024-10-27T07:28:14.860Z"
   },
   {
    "duration": 8,
    "start_time": "2024-10-27T07:28:14.889Z"
   },
   {
    "duration": 5,
    "start_time": "2024-10-27T07:28:14.899Z"
   },
   {
    "duration": 19,
    "start_time": "2024-10-27T07:28:14.905Z"
   },
   {
    "duration": 103,
    "start_time": "2024-10-27T07:28:14.925Z"
   },
   {
    "duration": 20,
    "start_time": "2024-10-27T07:28:49.250Z"
   },
   {
    "duration": 25,
    "start_time": "2024-10-27T07:30:06.614Z"
   },
   {
    "duration": 34,
    "start_time": "2024-10-27T07:30:48.461Z"
   },
   {
    "duration": 16,
    "start_time": "2024-10-27T07:31:01.454Z"
   },
   {
    "duration": 17,
    "start_time": "2024-10-27T07:31:12.593Z"
   },
   {
    "duration": 19,
    "start_time": "2024-10-27T07:31:32.656Z"
   },
   {
    "duration": 20,
    "start_time": "2024-10-27T07:32:18.775Z"
   },
   {
    "duration": 21,
    "start_time": "2024-10-27T07:32:25.793Z"
   },
   {
    "duration": 19,
    "start_time": "2024-10-27T07:33:40.845Z"
   },
   {
    "duration": 19,
    "start_time": "2024-10-27T07:33:51.753Z"
   },
   {
    "duration": 20,
    "start_time": "2024-10-27T07:39:04.737Z"
   },
   {
    "duration": 3619,
    "start_time": "2024-10-27T17:47:38.834Z"
   },
   {
    "duration": 2124,
    "start_time": "2024-10-27T17:47:42.457Z"
   },
   {
    "duration": 131,
    "start_time": "2024-10-27T17:47:44.582Z"
   },
   {
    "duration": 19,
    "start_time": "2024-10-27T17:47:44.716Z"
   },
   {
    "duration": 95,
    "start_time": "2024-10-27T17:47:44.737Z"
   },
   {
    "duration": 133,
    "start_time": "2024-10-27T17:47:44.834Z"
   },
   {
    "duration": 4,
    "start_time": "2024-10-27T17:47:44.969Z"
   },
   {
    "duration": 9,
    "start_time": "2024-10-27T17:47:44.975Z"
   },
   {
    "duration": 8,
    "start_time": "2024-10-27T17:47:44.985Z"
   },
   {
    "duration": 12,
    "start_time": "2024-10-27T17:47:44.995Z"
   },
   {
    "duration": 65,
    "start_time": "2024-10-27T17:47:45.008Z"
   },
   {
    "duration": 37,
    "start_time": "2024-10-27T17:47:45.075Z"
   },
   {
    "duration": 21,
    "start_time": "2024-10-27T17:47:45.113Z"
   },
   {
    "duration": 135,
    "start_time": "2024-10-27T17:47:45.136Z"
   },
   {
    "duration": 1473,
    "start_time": "2024-10-27T17:47:45.272Z"
   },
   {
    "duration": 1460,
    "start_time": "2024-10-27T17:47:46.748Z"
   },
   {
    "duration": 52382,
    "start_time": "2024-10-27T17:47:48.209Z"
   },
   {
    "duration": 1147,
    "start_time": "2024-10-27T17:48:40.592Z"
   },
   {
    "duration": 8,
    "start_time": "2024-10-27T17:48:41.740Z"
   },
   {
    "duration": 12,
    "start_time": "2024-10-27T17:48:41.751Z"
   },
   {
    "duration": 666,
    "start_time": "2024-10-27T17:48:41.765Z"
   },
   {
    "duration": 15,
    "start_time": "2024-10-27T17:48:42.432Z"
   },
   {
    "duration": 32,
    "start_time": "2024-10-27T17:48:42.453Z"
   },
   {
    "duration": 15,
    "start_time": "2024-10-27T17:48:42.486Z"
   },
   {
    "duration": 23,
    "start_time": "2024-10-27T17:48:42.502Z"
   },
   {
    "duration": 105,
    "start_time": "2024-10-27T17:48:42.526Z"
   },
   {
    "duration": 47,
    "start_time": "2024-10-27T18:35:50.024Z"
   },
   {
    "duration": 3390,
    "start_time": "2024-10-27T18:35:57.244Z"
   },
   {
    "duration": 1321,
    "start_time": "2024-10-27T18:36:00.636Z"
   },
   {
    "duration": 131,
    "start_time": "2024-10-27T18:36:01.961Z"
   },
   {
    "duration": 18,
    "start_time": "2024-10-27T18:36:02.094Z"
   },
   {
    "duration": 12,
    "start_time": "2024-10-27T18:36:02.114Z"
   },
   {
    "duration": 75,
    "start_time": "2024-10-27T18:36:02.127Z"
   },
   {
    "duration": 26,
    "start_time": "2024-10-27T18:36:02.203Z"
   },
   {
    "duration": 15,
    "start_time": "2024-10-27T18:36:02.231Z"
   },
   {
    "duration": 28,
    "start_time": "2024-10-27T18:36:02.247Z"
   },
   {
    "duration": 32,
    "start_time": "2024-10-27T18:36:02.278Z"
   },
   {
    "duration": 26,
    "start_time": "2024-10-27T18:36:02.311Z"
   },
   {
    "duration": 13,
    "start_time": "2024-10-27T18:36:02.338Z"
   },
   {
    "duration": 13,
    "start_time": "2024-10-27T18:36:02.352Z"
   },
   {
    "duration": 34,
    "start_time": "2024-10-27T18:36:02.367Z"
   },
   {
    "duration": 1370,
    "start_time": "2024-10-27T18:36:02.402Z"
   },
   {
    "duration": 1373,
    "start_time": "2024-10-27T18:36:03.773Z"
   },
   {
    "duration": 48382,
    "start_time": "2024-10-27T18:36:05.148Z"
   },
   {
    "duration": 1109,
    "start_time": "2024-10-27T18:36:53.531Z"
   },
   {
    "duration": 5,
    "start_time": "2024-10-27T18:36:54.641Z"
   },
   {
    "duration": 4,
    "start_time": "2024-10-27T18:36:54.648Z"
   },
   {
    "duration": 549,
    "start_time": "2024-10-27T18:36:54.653Z"
   },
   {
    "duration": 5,
    "start_time": "2024-10-27T18:36:55.204Z"
   },
   {
    "duration": 15,
    "start_time": "2024-10-27T18:36:55.211Z"
   },
   {
    "duration": 7,
    "start_time": "2024-10-27T18:36:55.227Z"
   },
   {
    "duration": 6,
    "start_time": "2024-10-27T18:36:55.235Z"
   },
   {
    "duration": 117,
    "start_time": "2024-10-27T18:36:55.242Z"
   },
   {
    "duration": 4,
    "start_time": "2024-10-27T18:41:03.816Z"
   },
   {
    "duration": 24,
    "start_time": "2024-10-27T18:41:07.378Z"
   },
   {
    "duration": 2481,
    "start_time": "2024-10-27T18:42:40.796Z"
   },
   {
    "duration": 1176,
    "start_time": "2024-10-27T18:42:43.279Z"
   },
   {
    "duration": 74,
    "start_time": "2024-10-27T18:42:44.457Z"
   },
   {
    "duration": 21,
    "start_time": "2024-10-27T18:42:44.533Z"
   },
   {
    "duration": 12,
    "start_time": "2024-10-27T18:42:44.555Z"
   },
   {
    "duration": 40,
    "start_time": "2024-10-27T18:42:44.569Z"
   },
   {
    "duration": 4,
    "start_time": "2024-10-27T18:42:44.611Z"
   },
   {
    "duration": 6,
    "start_time": "2024-10-27T18:42:44.616Z"
   },
   {
    "duration": 7,
    "start_time": "2024-10-27T18:42:44.624Z"
   },
   {
    "duration": 15,
    "start_time": "2024-10-27T18:42:44.634Z"
   },
   {
    "duration": 55,
    "start_time": "2024-10-27T18:42:44.650Z"
   },
   {
    "duration": 14,
    "start_time": "2024-10-27T18:42:44.706Z"
   },
   {
    "duration": 5,
    "start_time": "2024-10-27T18:42:44.721Z"
   },
   {
    "duration": 1325,
    "start_time": "2024-10-27T18:42:44.727Z"
   },
   {
    "duration": 1298,
    "start_time": "2024-10-27T18:42:46.054Z"
   },
   {
    "duration": 46658,
    "start_time": "2024-10-27T18:42:47.354Z"
   },
   {
    "duration": 1018,
    "start_time": "2024-10-27T18:43:34.014Z"
   },
   {
    "duration": 6,
    "start_time": "2024-10-27T18:43:35.033Z"
   },
   {
    "duration": 13,
    "start_time": "2024-10-27T18:43:35.040Z"
   },
   {
    "duration": 644,
    "start_time": "2024-10-27T18:43:35.054Z"
   },
   {
    "duration": 5,
    "start_time": "2024-10-27T18:43:35.699Z"
   },
   {
    "duration": 65,
    "start_time": "2024-10-27T18:43:35.706Z"
   },
   {
    "duration": 11,
    "start_time": "2024-10-27T18:43:35.773Z"
   },
   {
    "duration": 18,
    "start_time": "2024-10-27T18:43:35.785Z"
   },
   {
    "duration": 6,
    "start_time": "2024-10-27T18:43:35.805Z"
   },
   {
    "duration": 26,
    "start_time": "2024-10-27T18:43:35.812Z"
   },
   {
    "duration": 5,
    "start_time": "2024-10-27T18:43:35.840Z"
   },
   {
    "duration": 2528,
    "start_time": "2024-10-27T18:43:40.978Z"
   },
   {
    "duration": 4,
    "start_time": "2024-10-27T18:43:43.508Z"
   },
   {
    "duration": 99,
    "start_time": "2024-10-27T18:43:43.514Z"
   },
   {
    "duration": 15,
    "start_time": "2024-10-27T18:43:43.615Z"
   },
   {
    "duration": 67,
    "start_time": "2024-10-27T18:43:43.632Z"
   },
   {
    "duration": 96,
    "start_time": "2024-10-27T18:43:43.701Z"
   },
   {
    "duration": 4,
    "start_time": "2024-10-27T18:43:43.799Z"
   },
   {
    "duration": 5,
    "start_time": "2024-10-27T18:43:43.805Z"
   },
   {
    "duration": 7,
    "start_time": "2024-10-27T18:43:43.811Z"
   },
   {
    "duration": 11,
    "start_time": "2024-10-27T18:43:43.820Z"
   },
   {
    "duration": 75,
    "start_time": "2024-10-27T18:43:43.833Z"
   },
   {
    "duration": 12,
    "start_time": "2024-10-27T18:43:43.910Z"
   },
   {
    "duration": 5,
    "start_time": "2024-10-27T18:43:43.923Z"
   },
   {
    "duration": 5,
    "start_time": "2024-10-27T18:43:43.930Z"
   },
   {
    "duration": 1466,
    "start_time": "2024-10-27T18:43:43.937Z"
   },
   {
    "duration": 1447,
    "start_time": "2024-10-27T18:43:45.404Z"
   },
   {
    "duration": 46278,
    "start_time": "2024-10-27T18:43:46.852Z"
   },
   {
    "duration": 1071,
    "start_time": "2024-10-27T18:44:33.131Z"
   },
   {
    "duration": 5,
    "start_time": "2024-10-27T18:44:34.209Z"
   },
   {
    "duration": 7,
    "start_time": "2024-10-27T18:44:34.216Z"
   },
   {
    "duration": 565,
    "start_time": "2024-10-27T18:44:34.224Z"
   },
   {
    "duration": 5,
    "start_time": "2024-10-27T18:44:34.795Z"
   },
   {
    "duration": 4,
    "start_time": "2024-10-27T18:44:34.801Z"
   },
   {
    "duration": 2,
    "start_time": "2024-10-27T18:44:34.807Z"
   },
   {
    "duration": 7,
    "start_time": "2024-10-27T18:44:34.810Z"
   },
   {
    "duration": 4,
    "start_time": "2024-10-27T18:44:34.819Z"
   },
   {
    "duration": 25,
    "start_time": "2024-10-27T18:44:34.824Z"
   },
   {
    "duration": 1233,
    "start_time": "2024-10-27T18:48:26.221Z"
   },
   {
    "duration": 243,
    "start_time": "2024-10-27T18:49:31.521Z"
   },
   {
    "duration": 219,
    "start_time": "2024-10-27T18:50:07.341Z"
   },
   {
    "duration": 935,
    "start_time": "2024-10-27T18:51:46.850Z"
   },
   {
    "duration": 20342,
    "start_time": "2024-10-27T18:54:53.962Z"
   },
   {
    "duration": 4363,
    "start_time": "2024-10-27T18:56:07.337Z"
   },
   {
    "duration": 971,
    "start_time": "2024-10-27T18:56:31.659Z"
   },
   {
    "duration": 47,
    "start_time": "2024-10-28T06:11:07.499Z"
   },
   {
    "duration": 3622,
    "start_time": "2024-10-28T06:11:15.655Z"
   },
   {
    "duration": 1300,
    "start_time": "2024-10-28T06:11:19.279Z"
   },
   {
    "duration": 105,
    "start_time": "2024-10-28T06:11:20.580Z"
   },
   {
    "duration": 19,
    "start_time": "2024-10-28T06:11:20.687Z"
   },
   {
    "duration": 10,
    "start_time": "2024-10-28T06:11:20.707Z"
   },
   {
    "duration": 43,
    "start_time": "2024-10-28T06:11:20.719Z"
   },
   {
    "duration": 3,
    "start_time": "2024-10-28T06:11:20.764Z"
   },
   {
    "duration": 7,
    "start_time": "2024-10-28T06:11:20.768Z"
   },
   {
    "duration": 4,
    "start_time": "2024-10-28T06:11:20.776Z"
   },
   {
    "duration": 11,
    "start_time": "2024-10-28T06:11:20.783Z"
   },
   {
    "duration": 21,
    "start_time": "2024-10-28T06:11:20.795Z"
   },
   {
    "duration": 10,
    "start_time": "2024-10-28T06:11:20.818Z"
   },
   {
    "duration": 29,
    "start_time": "2024-10-28T06:11:20.829Z"
   },
   {
    "duration": 4,
    "start_time": "2024-10-28T06:11:20.859Z"
   },
   {
    "duration": 836,
    "start_time": "2024-10-28T06:11:20.864Z"
   },
   {
    "duration": 54,
    "start_time": "2024-10-28T06:11:21.701Z"
   },
   {
    "duration": 0,
    "start_time": "2024-10-28T06:11:21.756Z"
   },
   {
    "duration": 0,
    "start_time": "2024-10-28T06:11:21.758Z"
   },
   {
    "duration": 0,
    "start_time": "2024-10-28T06:11:21.759Z"
   },
   {
    "duration": 0,
    "start_time": "2024-10-28T06:11:21.760Z"
   },
   {
    "duration": 0,
    "start_time": "2024-10-28T06:11:21.761Z"
   },
   {
    "duration": 0,
    "start_time": "2024-10-28T06:11:21.763Z"
   },
   {
    "duration": 0,
    "start_time": "2024-10-28T06:11:21.764Z"
   },
   {
    "duration": 0,
    "start_time": "2024-10-28T06:11:21.765Z"
   },
   {
    "duration": 0,
    "start_time": "2024-10-28T06:11:21.767Z"
   },
   {
    "duration": 0,
    "start_time": "2024-10-28T06:11:21.768Z"
   },
   {
    "duration": 1,
    "start_time": "2024-10-28T06:11:21.769Z"
   },
   {
    "duration": 0,
    "start_time": "2024-10-28T06:11:21.771Z"
   },
   {
    "duration": 101,
    "start_time": "2024-10-28T06:11:30.372Z"
   },
   {
    "duration": 4,
    "start_time": "2024-10-28T06:11:35.895Z"
   },
   {
    "duration": 98,
    "start_time": "2024-10-28T06:11:39.740Z"
   },
   {
    "duration": 20,
    "start_time": "2024-10-28T06:12:34.505Z"
   },
   {
    "duration": 85,
    "start_time": "2024-10-28T06:22:35.299Z"
   },
   {
    "duration": 330,
    "start_time": "2024-10-28T06:22:50.732Z"
   },
   {
    "duration": 1084,
    "start_time": "2024-10-28T06:46:18.120Z"
   },
   {
    "duration": 291,
    "start_time": "2024-10-28T06:46:19.206Z"
   },
   {
    "duration": 1599,
    "start_time": "2024-10-28T06:46:19.499Z"
   },
   {
    "duration": 5229,
    "start_time": "2024-10-28T06:46:21.100Z"
   },
   {
    "duration": 1128,
    "start_time": "2024-10-28T06:46:26.331Z"
   },
   {
    "duration": 7,
    "start_time": "2024-10-28T06:46:27.461Z"
   },
   {
    "duration": 6,
    "start_time": "2024-10-28T06:46:27.470Z"
   },
   {
    "duration": 634,
    "start_time": "2024-10-28T06:46:27.478Z"
   },
   {
    "duration": 6,
    "start_time": "2024-10-28T06:46:28.113Z"
   },
   {
    "duration": 5,
    "start_time": "2024-10-28T06:46:28.121Z"
   },
   {
    "duration": 2,
    "start_time": "2024-10-28T06:46:28.128Z"
   },
   {
    "duration": 6,
    "start_time": "2024-10-28T06:46:28.152Z"
   },
   {
    "duration": 14,
    "start_time": "2024-10-28T06:46:28.159Z"
   },
   {
    "duration": 27,
    "start_time": "2024-10-28T06:46:28.175Z"
   }
  ],
  "kernelspec": {
   "display_name": "Python 3 (ipykernel)",
   "language": "python",
   "name": "python3"
  },
  "language_info": {
   "codemirror_mode": {
    "name": "ipython",
    "version": 3
   },
   "file_extension": ".py",
   "mimetype": "text/x-python",
   "name": "python",
   "nbconvert_exporter": "python",
   "pygments_lexer": "ipython3",
   "version": "3.9.5"
  },
  "toc": {
   "base_numbering": 1,
   "nav_menu": {},
   "number_sections": true,
   "sideBar": true,
   "skip_h1_title": true,
   "title_cell": "Table of Contents",
   "title_sidebar": "Contents",
   "toc_cell": false,
   "toc_position": {},
   "toc_section_display": true,
   "toc_window_display": true
  }
 },
 "nbformat": 4,
 "nbformat_minor": 2
}
