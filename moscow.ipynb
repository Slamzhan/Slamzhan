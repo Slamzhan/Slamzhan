{
 "cells": [
  {
   "cell_type": "markdown",
   "metadata": {},
   "source": [
    "<div class=\"alert alert-success\">\n",
    "<b> Комментарий от ревьюера 3</b>\n",
    "\n",
    "Спасибо, что учел мои комментарии. Ты приложил много усилий, чтобы довести проект до конца, надеюсь, что эта работа помогла тебе лучше понять теорию. Я принимаю проект и желаю удачи в прохождении курса!\n",
    "\n",
    "</div>"
   ]
  },
  {
   "cell_type": "markdown",
   "metadata": {},
   "source": [
    "<div class=\"alert alert-success\">\n",
    "<b> Комментарий от ревьюера 2</b>\n",
    "\n",
    "Привет еще раз. Спасибо, что доделал работу. Оформление комментариев по работе сохраняется. Только обозначим, что это вторая итерация. \n",
    "\n",
    "</div>"
   ]
  },
  {
   "cell_type": "markdown",
   "metadata": {},
   "source": [
    "# **Цель исследования**\n",
    "\n",
    "1. Приоритизация гипотез для запуска A/B-теста\n",
    "- Применение фреймворков **ICE** и **RICE** и определение лучшей гипотезы\n",
    "2. Запуск A/B-теста\n",
    "- Построение графика кумулятивной выручки по группам;\n",
    "- Построение графика кумулятивного среднего чека по группам;\n",
    "- Построение графика относительного изменения кумулятивного среднего чека группы B к группе A;\n",
    "- Построение графика кумулятивного среднего количества заказов на посетителя по группам;\n",
    "- Построение графика относительного изменения кумулятивного среднего количества заказов на посетителя группы B к группе A;\n",
    "- Построение точечного графика количества заказов по пользователям;\n",
    "- Посчитать 95-й и 99-й перцентили количества заказов на пользователя;\n",
    "- Построение точечного графика стоимостей заказов;\n",
    "- Посчитать 95-й и 99-й перцентили стоимости заказов;\n",
    "- Посчитать статистическую значимость различий в среднем количестве заказов на посетителя между группами по «сырым» данным;\n",
    "- Посчитать статистическую значимость различий в среднем чеке заказа между группами по «сырым» данным;\n",
    "- Посчитать статистическую значимость различий в среднем количестве заказов на посетителя между группами по «очищенным» данным;\n",
    "- Посчитать статистическую значимость различий в среднем чеке заказа между группами по «очищенным» данным\n",
    "- Принятие решения по результатам теста;\n",
    "\n",
    "# **Описание данных**\n",
    "\n",
    "Вы — аналитик крупного интернет-магазина. Вместе с отделом маркетинга вы подготовили список гипотез для увеличения выручки. Приоритизируйте гипотезы, запустите A/B-тест и проанализируйте результаты. \n",
    "\n",
    "**Файл** /datasets/hypothesis.csv.\n",
    "\n",
    "В файле /datasets/hypothesis.csv 9 гипотез по увеличению выручки интернет-магазина с указанными параметрами Reach, Impact, Confidence, Effort.\n",
    "\n",
    "`Hypothesis` — краткое описание гипотезы;\n",
    "\n",
    "`Reach` — охват пользователей по 10-балльной шкале;\n",
    "\n",
    "`Impact` — влияние на пользователей по 10-балльной шкале;\n",
    "\n",
    "`Confidence` — уверенность в гипотезе по 10-балльной шкале;\n",
    "\n",
    "`Efforts` — затраты ресурсов на проверку гипотезы по 10-балльной шкале. Чем больше значение Efforts, тем дороже проверка гипотезы.\n",
    "\n",
    "\n",
    "**Файл** /datasets/orders.csv.\n",
    "\n",
    "Информация о заказах пользователей в интернет-магазине \n",
    "\n",
    "`transactionId` — идентификатор заказа;\n",
    "\n",
    "`visitorId` — идентификатор пользователя, совершившего заказ;\n",
    "\n",
    "`date` — дата, когда был совершён заказ;\n",
    "\n",
    "`revenue` — выручка заказа;\n",
    "\n",
    "`group` — группа A/B-теста, в которую попал заказ.\n",
    "\n",
    "**Файл** /datasets/visitors.csv\n",
    "\n",
    "Информация о посещениях пользователями интернет-магазина\n",
    "\n",
    "`date` — дата;\n",
    "\n",
    "`group` — группа A/B-теста;\n",
    "\n",
    "`visitors` — количество пользователей в указанную дату в указанной группе A/B-теста\n"
   ]
  },
  {
   "cell_type": "markdown",
   "metadata": {},
   "source": [
    "<div class=\"alert alert-block alert-success\">\n",
    "    \n",
    "<b>Комментарий от ревьюера</b> \n",
    "    \n",
    "Хорошо, что во вступительной части ты указываешь всю важную информацию о проекте.\n",
    "</div>"
   ]
  },
  {
   "cell_type": "code",
   "execution_count": 1,
   "metadata": {},
   "outputs": [],
   "source": [
    "import pandas as pd \n",
    "import numpy as np \n",
    "import datetime as dt\n",
    "import scipy.stats as st\n",
    "import matplotlib.pyplot as plt\n",
    "from pandas.plotting import register_matplotlib_converters\n",
    "import warnings"
   ]
  },
  {
   "cell_type": "markdown",
   "metadata": {},
   "source": [
    "<div class=\"alert alert-block alert-success\">\n",
    "    \n",
    "<b>Комментарий от ревьюера</b> \n",
    "    \n",
    "Все нужные библиотеки загружены, отлично.\n",
    "</div>"
   ]
  },
  {
   "cell_type": "code",
   "execution_count": 2,
   "metadata": {},
   "outputs": [],
   "source": [
    "hypothesis = pd.read_csv('/datasets/hypothesis.csv')\n",
    "orders = pd.read_csv('/datasets/orders.csv')\n",
    "visitors = pd.read_csv('/datasets/visitors.csv')"
   ]
  },
  {
   "cell_type": "markdown",
   "metadata": {},
   "source": [
    "**`hypothesis`**"
   ]
  },
  {
   "cell_type": "markdown",
   "metadata": {},
   "source": [
    "Начнем проверку и подготовку данных"
   ]
  },
  {
   "cell_type": "code",
   "execution_count": 3,
   "metadata": {},
   "outputs": [
    {
     "name": "stdout",
     "output_type": "stream",
     "text": [
      "<class 'pandas.core.frame.DataFrame'>\n",
      "RangeIndex: 9 entries, 0 to 8\n",
      "Data columns (total 5 columns):\n",
      " #   Column      Non-Null Count  Dtype \n",
      "---  ------      --------------  ----- \n",
      " 0   Hypothesis  9 non-null      object\n",
      " 1   Reach       9 non-null      int64 \n",
      " 2   Impact      9 non-null      int64 \n",
      " 3   Confidence  9 non-null      int64 \n",
      " 4   Efforts     9 non-null      int64 \n",
      "dtypes: int64(4), object(1)\n",
      "memory usage: 488.0+ bytes\n"
     ]
    },
    {
     "data": {
      "text/html": [
       "<div>\n",
       "<style scoped>\n",
       "    .dataframe tbody tr th:only-of-type {\n",
       "        vertical-align: middle;\n",
       "    }\n",
       "\n",
       "    .dataframe tbody tr th {\n",
       "        vertical-align: top;\n",
       "    }\n",
       "\n",
       "    .dataframe thead th {\n",
       "        text-align: right;\n",
       "    }\n",
       "</style>\n",
       "<table border=\"1\" class=\"dataframe\">\n",
       "  <thead>\n",
       "    <tr style=\"text-align: right;\">\n",
       "      <th></th>\n",
       "      <th>Hypothesis</th>\n",
       "      <th>Reach</th>\n",
       "      <th>Impact</th>\n",
       "      <th>Confidence</th>\n",
       "      <th>Efforts</th>\n",
       "    </tr>\n",
       "  </thead>\n",
       "  <tbody>\n",
       "    <tr>\n",
       "      <th>1</th>\n",
       "      <td>Запустить собственную службу доставки, что сок...</td>\n",
       "      <td>2</td>\n",
       "      <td>5</td>\n",
       "      <td>4</td>\n",
       "      <td>10</td>\n",
       "    </tr>\n",
       "    <tr>\n",
       "      <th>3</th>\n",
       "      <td>Изменить структура категорий, что увеличит кон...</td>\n",
       "      <td>8</td>\n",
       "      <td>3</td>\n",
       "      <td>3</td>\n",
       "      <td>8</td>\n",
       "    </tr>\n",
       "    <tr>\n",
       "      <th>0</th>\n",
       "      <td>Добавить два новых канала привлечения трафика,...</td>\n",
       "      <td>3</td>\n",
       "      <td>10</td>\n",
       "      <td>8</td>\n",
       "      <td>6</td>\n",
       "    </tr>\n",
       "    <tr>\n",
       "      <th>7</th>\n",
       "      <td>Добавить форму подписки на все основные страни...</td>\n",
       "      <td>10</td>\n",
       "      <td>7</td>\n",
       "      <td>8</td>\n",
       "      <td>5</td>\n",
       "    </tr>\n",
       "    <tr>\n",
       "      <th>4</th>\n",
       "      <td>Изменить цвет фона главной страницы, чтобы уве...</td>\n",
       "      <td>3</td>\n",
       "      <td>1</td>\n",
       "      <td>1</td>\n",
       "      <td>1</td>\n",
       "    </tr>\n",
       "  </tbody>\n",
       "</table>\n",
       "</div>"
      ],
      "text/plain": [
       "                                          Hypothesis  Reach  Impact  \\\n",
       "1  Запустить собственную службу доставки, что сок...      2       5   \n",
       "3  Изменить структура категорий, что увеличит кон...      8       3   \n",
       "0  Добавить два новых канала привлечения трафика,...      3      10   \n",
       "7  Добавить форму подписки на все основные страни...     10       7   \n",
       "4  Изменить цвет фона главной страницы, чтобы уве...      3       1   \n",
       "\n",
       "   Confidence  Efforts  \n",
       "1           4       10  \n",
       "3           3        8  \n",
       "0           8        6  \n",
       "7           8        5  \n",
       "4           1        1  "
      ]
     },
     "metadata": {},
     "output_type": "display_data"
    }
   ],
   "source": [
    "hypothesis.info()\n",
    "display(hypothesis.sample(5))"
   ]
  },
  {
   "cell_type": "code",
   "execution_count": 4,
   "metadata": {},
   "outputs": [],
   "source": [
    "# изменим максимальную ширину на 100\n",
    "pd.options.display.max_colwidth = 100"
   ]
  },
  {
   "cell_type": "code",
   "execution_count": 5,
   "metadata": {},
   "outputs": [
    {
     "data": {
      "text/plain": [
       "0"
      ]
     },
     "execution_count": 5,
     "metadata": {},
     "output_type": "execute_result"
    }
   ],
   "source": [
    "# проверим на наличие дубликатов и пропусков\n",
    "hypothesis.duplicated().sum()"
   ]
  },
  {
   "cell_type": "code",
   "execution_count": 6,
   "metadata": {},
   "outputs": [
    {
     "data": {
      "text/plain": [
       "Hypothesis    0\n",
       "Reach         0\n",
       "Impact        0\n",
       "Confidence    0\n",
       "Efforts       0\n",
       "dtype: int64"
      ]
     },
     "execution_count": 6,
     "metadata": {},
     "output_type": "execute_result"
    }
   ],
   "source": [
    "hypothesis.isna().sum()"
   ]
  },
  {
   "cell_type": "code",
   "execution_count": 7,
   "metadata": {},
   "outputs": [],
   "source": [
    "# приведем названия столбков к нижнему регистру\n",
    "hypothesis.columns = ['hypothesis', 'reach', 'impact', 'confidence', 'efforts']"
   ]
  },
  {
   "cell_type": "markdown",
   "metadata": {},
   "source": [
    "**`orders`**"
   ]
  },
  {
   "cell_type": "code",
   "execution_count": 8,
   "metadata": {},
   "outputs": [
    {
     "name": "stdout",
     "output_type": "stream",
     "text": [
      "<class 'pandas.core.frame.DataFrame'>\n",
      "RangeIndex: 1197 entries, 0 to 1196\n",
      "Data columns (total 5 columns):\n",
      " #   Column         Non-Null Count  Dtype \n",
      "---  ------         --------------  ----- \n",
      " 0   transactionId  1197 non-null   int64 \n",
      " 1   visitorId      1197 non-null   int64 \n",
      " 2   date           1197 non-null   object\n",
      " 3   revenue        1197 non-null   int64 \n",
      " 4   group          1197 non-null   object\n",
      "dtypes: int64(3), object(2)\n",
      "memory usage: 46.9+ KB\n"
     ]
    },
    {
     "data": {
      "text/html": [
       "<div>\n",
       "<style scoped>\n",
       "    .dataframe tbody tr th:only-of-type {\n",
       "        vertical-align: middle;\n",
       "    }\n",
       "\n",
       "    .dataframe tbody tr th {\n",
       "        vertical-align: top;\n",
       "    }\n",
       "\n",
       "    .dataframe thead th {\n",
       "        text-align: right;\n",
       "    }\n",
       "</style>\n",
       "<table border=\"1\" class=\"dataframe\">\n",
       "  <thead>\n",
       "    <tr style=\"text-align: right;\">\n",
       "      <th></th>\n",
       "      <th>transactionId</th>\n",
       "      <th>visitorId</th>\n",
       "      <th>date</th>\n",
       "      <th>revenue</th>\n",
       "      <th>group</th>\n",
       "    </tr>\n",
       "  </thead>\n",
       "  <tbody>\n",
       "    <tr>\n",
       "      <th>612</th>\n",
       "      <td>2252458552</td>\n",
       "      <td>2036584322</td>\n",
       "      <td>2019-08-04</td>\n",
       "      <td>1870</td>\n",
       "      <td>B</td>\n",
       "    </tr>\n",
       "    <tr>\n",
       "      <th>1133</th>\n",
       "      <td>2645975327</td>\n",
       "      <td>1285103033</td>\n",
       "      <td>2019-08-13</td>\n",
       "      <td>5440</td>\n",
       "      <td>B</td>\n",
       "    </tr>\n",
       "    <tr>\n",
       "      <th>983</th>\n",
       "      <td>1428722141</td>\n",
       "      <td>2261102418</td>\n",
       "      <td>2019-08-10</td>\n",
       "      <td>1950</td>\n",
       "      <td>B</td>\n",
       "    </tr>\n",
       "    <tr>\n",
       "      <th>205</th>\n",
       "      <td>1993640374</td>\n",
       "      <td>835561402</td>\n",
       "      <td>2019-08-02</td>\n",
       "      <td>500</td>\n",
       "      <td>B</td>\n",
       "    </tr>\n",
       "    <tr>\n",
       "      <th>331</th>\n",
       "      <td>2029413212</td>\n",
       "      <td>182753106</td>\n",
       "      <td>2019-08-28</td>\n",
       "      <td>300</td>\n",
       "      <td>A</td>\n",
       "    </tr>\n",
       "  </tbody>\n",
       "</table>\n",
       "</div>"
      ],
      "text/plain": [
       "      transactionId   visitorId        date  revenue group\n",
       "612      2252458552  2036584322  2019-08-04     1870     B\n",
       "1133     2645975327  1285103033  2019-08-13     5440     B\n",
       "983      1428722141  2261102418  2019-08-10     1950     B\n",
       "205      1993640374   835561402  2019-08-02      500     B\n",
       "331      2029413212   182753106  2019-08-28      300     A"
      ]
     },
     "metadata": {},
     "output_type": "display_data"
    }
   ],
   "source": [
    "orders.info()\n",
    "display(orders.sample(5))"
   ]
  },
  {
   "cell_type": "code",
   "execution_count": 9,
   "metadata": {},
   "outputs": [],
   "source": [
    "# приведем date к формату даты\n",
    "orders['date'] = pd.to_datetime(orders['date'])\n",
    "\n",
    "# переименуем название столбцов в таблице orders в надлежащий вид\n",
    "orders.rename(columns={'transactionId':'transaction_id', 'visitorId':'visitor_id'}, inplace=True)"
   ]
  },
  {
   "cell_type": "markdown",
   "metadata": {},
   "source": [
    "<div class=\"alert alert-block alert-success\">\n",
    "    \n",
    "**Комментарий от ревьюера**\n",
    "\n",
    "Да, здесь нужно поменять формат даты.\n",
    "</div>"
   ]
  },
  {
   "cell_type": "code",
   "execution_count": 10,
   "metadata": {},
   "outputs": [
    {
     "data": {
      "text/plain": [
       "0"
      ]
     },
     "execution_count": 10,
     "metadata": {},
     "output_type": "execute_result"
    }
   ],
   "source": [
    "orders.duplicated().sum()"
   ]
  },
  {
   "cell_type": "code",
   "execution_count": 11,
   "metadata": {},
   "outputs": [
    {
     "data": {
      "text/plain": [
       "transaction_id    0\n",
       "visitor_id        0\n",
       "date              0\n",
       "revenue           0\n",
       "group             0\n",
       "dtype: int64"
      ]
     },
     "execution_count": 11,
     "metadata": {},
     "output_type": "execute_result"
    }
   ],
   "source": [
    "orders.isna().sum()"
   ]
  },
  {
   "cell_type": "code",
   "execution_count": 12,
   "metadata": {},
   "outputs": [
    {
     "data": {
      "text/html": [
       "<div>\n",
       "<style scoped>\n",
       "    .dataframe tbody tr th:only-of-type {\n",
       "        vertical-align: middle;\n",
       "    }\n",
       "\n",
       "    .dataframe tbody tr th {\n",
       "        vertical-align: top;\n",
       "    }\n",
       "\n",
       "    .dataframe thead th {\n",
       "        text-align: right;\n",
       "    }\n",
       "</style>\n",
       "<table border=\"1\" class=\"dataframe\">\n",
       "  <thead>\n",
       "    <tr style=\"text-align: right;\">\n",
       "      <th></th>\n",
       "      <th>transaction_id</th>\n",
       "      <th>visitor_id</th>\n",
       "      <th>revenue</th>\n",
       "    </tr>\n",
       "  </thead>\n",
       "  <tbody>\n",
       "    <tr>\n",
       "      <th>count</th>\n",
       "      <td>1.197000e+03</td>\n",
       "      <td>1.197000e+03</td>\n",
       "      <td>1.197000e+03</td>\n",
       "    </tr>\n",
       "    <tr>\n",
       "      <th>mean</th>\n",
       "      <td>2.155621e+09</td>\n",
       "      <td>2.165960e+09</td>\n",
       "      <td>8.348006e+03</td>\n",
       "    </tr>\n",
       "    <tr>\n",
       "      <th>std</th>\n",
       "      <td>1.229085e+09</td>\n",
       "      <td>1.236014e+09</td>\n",
       "      <td>3.919113e+04</td>\n",
       "    </tr>\n",
       "    <tr>\n",
       "      <th>min</th>\n",
       "      <td>1.062393e+06</td>\n",
       "      <td>5.114589e+06</td>\n",
       "      <td>5.000000e+01</td>\n",
       "    </tr>\n",
       "    <tr>\n",
       "      <th>25%</th>\n",
       "      <td>1.166776e+09</td>\n",
       "      <td>1.111826e+09</td>\n",
       "      <td>1.220000e+03</td>\n",
       "    </tr>\n",
       "    <tr>\n",
       "      <th>50%</th>\n",
       "      <td>2.145194e+09</td>\n",
       "      <td>2.217985e+09</td>\n",
       "      <td>2.978000e+03</td>\n",
       "    </tr>\n",
       "    <tr>\n",
       "      <th>75%</th>\n",
       "      <td>3.237740e+09</td>\n",
       "      <td>3.177606e+09</td>\n",
       "      <td>8.290000e+03</td>\n",
       "    </tr>\n",
       "    <tr>\n",
       "      <th>max</th>\n",
       "      <td>4.293856e+09</td>\n",
       "      <td>4.283872e+09</td>\n",
       "      <td>1.294500e+06</td>\n",
       "    </tr>\n",
       "  </tbody>\n",
       "</table>\n",
       "</div>"
      ],
      "text/plain": [
       "       transaction_id    visitor_id       revenue\n",
       "count    1.197000e+03  1.197000e+03  1.197000e+03\n",
       "mean     2.155621e+09  2.165960e+09  8.348006e+03\n",
       "std      1.229085e+09  1.236014e+09  3.919113e+04\n",
       "min      1.062393e+06  5.114589e+06  5.000000e+01\n",
       "25%      1.166776e+09  1.111826e+09  1.220000e+03\n",
       "50%      2.145194e+09  2.217985e+09  2.978000e+03\n",
       "75%      3.237740e+09  3.177606e+09  8.290000e+03\n",
       "max      4.293856e+09  4.283872e+09  1.294500e+06"
      ]
     },
     "execution_count": 12,
     "metadata": {},
     "output_type": "execute_result"
    }
   ],
   "source": [
    "orders.describe()"
   ]
  },
  {
   "cell_type": "code",
   "execution_count": 13,
   "metadata": {},
   "outputs": [
    {
     "data": {
      "text/plain": [
       "58"
      ]
     },
     "execution_count": 13,
     "metadata": {},
     "output_type": "execute_result"
    }
   ],
   "source": [
    "# проверим, не попадают ли юзеры в обе группы\n",
    "a_groupid = orders.query('group == \"A\"')['visitor_id']\n",
    "b_groupid = orders.query('group == \"B\"')['visitor_id']\n",
    "len(set(a_groupid) & set(b_groupid))"
   ]
  },
  {
   "cell_type": "markdown",
   "metadata": {},
   "source": [
    "Здесь с данными все в порядке, идем дальше"
   ]
  },
  {
   "cell_type": "markdown",
   "metadata": {},
   "source": [
    "<div class=\"alert alert-block alert-warning\">\n",
    "    \n",
    "**Комментарий от ревьюера**\n",
    "\n",
    "Полезно выполнить проверку, не попадают ли какие-то пользователи в обе группы - по таблице с заказами.\n",
    "\n",
    "</div>"
   ]
  },
  {
   "cell_type": "markdown",
   "metadata": {},
   "source": [
    "<div style=\"border: 1px solid #bee5eb; background-color: #d1ecf1; color: #0c5460; padding: 10px; border-radius: 5px; margin-top: 10px;\">\n",
    "Мы нашли 58 пользователей попавших в обе группы. Однако, по опыту моих одногруппников, мы не удаляем их, а предупреждаем коллег об этом\n",
    "</div>"
   ]
  },
  {
   "cell_type": "markdown",
   "metadata": {},
   "source": [
    "<div class=\"alert alert-block alert-success\">\n",
    "<b>Комментарий от ревьюера 2</b>\n",
    "    \n",
    "В данном случае таблица с визитами содержит уже агрегированные данные, эффективно очистить обе таблицы не получится, поэтому пользователей можно оставить в тесте.\n",
    "</div>"
   ]
  },
  {
   "cell_type": "markdown",
   "metadata": {},
   "source": [
    "**`visitors`**"
   ]
  },
  {
   "cell_type": "code",
   "execution_count": 14,
   "metadata": {},
   "outputs": [
    {
     "name": "stdout",
     "output_type": "stream",
     "text": [
      "<class 'pandas.core.frame.DataFrame'>\n",
      "RangeIndex: 62 entries, 0 to 61\n",
      "Data columns (total 3 columns):\n",
      " #   Column    Non-Null Count  Dtype \n",
      "---  ------    --------------  ----- \n",
      " 0   date      62 non-null     object\n",
      " 1   group     62 non-null     object\n",
      " 2   visitors  62 non-null     int64 \n",
      "dtypes: int64(1), object(2)\n",
      "memory usage: 1.6+ KB\n"
     ]
    },
    {
     "data": {
      "text/html": [
       "<div>\n",
       "<style scoped>\n",
       "    .dataframe tbody tr th:only-of-type {\n",
       "        vertical-align: middle;\n",
       "    }\n",
       "\n",
       "    .dataframe tbody tr th {\n",
       "        vertical-align: top;\n",
       "    }\n",
       "\n",
       "    .dataframe thead th {\n",
       "        text-align: right;\n",
       "    }\n",
       "</style>\n",
       "<table border=\"1\" class=\"dataframe\">\n",
       "  <thead>\n",
       "    <tr style=\"text-align: right;\">\n",
       "      <th></th>\n",
       "      <th>date</th>\n",
       "      <th>group</th>\n",
       "      <th>visitors</th>\n",
       "    </tr>\n",
       "  </thead>\n",
       "  <tbody>\n",
       "    <tr>\n",
       "      <th>25</th>\n",
       "      <td>2019-08-26</td>\n",
       "      <td>A</td>\n",
       "      <td>722</td>\n",
       "    </tr>\n",
       "    <tr>\n",
       "      <th>61</th>\n",
       "      <td>2019-08-31</td>\n",
       "      <td>B</td>\n",
       "      <td>718</td>\n",
       "    </tr>\n",
       "    <tr>\n",
       "      <th>17</th>\n",
       "      <td>2019-08-18</td>\n",
       "      <td>A</td>\n",
       "      <td>668</td>\n",
       "    </tr>\n",
       "    <tr>\n",
       "      <th>32</th>\n",
       "      <td>2019-08-02</td>\n",
       "      <td>B</td>\n",
       "      <td>581</td>\n",
       "    </tr>\n",
       "    <tr>\n",
       "      <th>42</th>\n",
       "      <td>2019-08-12</td>\n",
       "      <td>B</td>\n",
       "      <td>543</td>\n",
       "    </tr>\n",
       "  </tbody>\n",
       "</table>\n",
       "</div>"
      ],
      "text/plain": [
       "          date group  visitors\n",
       "25  2019-08-26     A       722\n",
       "61  2019-08-31     B       718\n",
       "17  2019-08-18     A       668\n",
       "32  2019-08-02     B       581\n",
       "42  2019-08-12     B       543"
      ]
     },
     "metadata": {},
     "output_type": "display_data"
    }
   ],
   "source": [
    "visitors.info()\n",
    "display(visitors.sample(5))"
   ]
  },
  {
   "cell_type": "code",
   "execution_count": 15,
   "metadata": {},
   "outputs": [
    {
     "data": {
      "text/plain": [
       "0"
      ]
     },
     "execution_count": 15,
     "metadata": {},
     "output_type": "execute_result"
    }
   ],
   "source": [
    "visitors.duplicated().sum()"
   ]
  },
  {
   "cell_type": "code",
   "execution_count": 16,
   "metadata": {},
   "outputs": [
    {
     "data": {
      "text/plain": [
       "date        0\n",
       "group       0\n",
       "visitors    0\n",
       "dtype: int64"
      ]
     },
     "execution_count": 16,
     "metadata": {},
     "output_type": "execute_result"
    }
   ],
   "source": [
    "visitors.isna().sum()"
   ]
  },
  {
   "cell_type": "code",
   "execution_count": 17,
   "metadata": {},
   "outputs": [],
   "source": [
    "# также приводим к формату даты\n",
    "visitors['date'] = pd.to_datetime(visitors['date'])"
   ]
  },
  {
   "cell_type": "markdown",
   "metadata": {},
   "source": [
    "# Приоритизация гипотез"
   ]
  },
  {
   "cell_type": "markdown",
   "metadata": {},
   "source": [
    "**ICE**"
   ]
  },
  {
   "cell_type": "code",
   "execution_count": 18,
   "metadata": {},
   "outputs": [
    {
     "data": {
      "text/html": [
       "<div>\n",
       "<style scoped>\n",
       "    .dataframe tbody tr th:only-of-type {\n",
       "        vertical-align: middle;\n",
       "    }\n",
       "\n",
       "    .dataframe tbody tr th {\n",
       "        vertical-align: top;\n",
       "    }\n",
       "\n",
       "    .dataframe thead th {\n",
       "        text-align: right;\n",
       "    }\n",
       "</style>\n",
       "<table border=\"1\" class=\"dataframe\">\n",
       "  <thead>\n",
       "    <tr style=\"text-align: right;\">\n",
       "      <th></th>\n",
       "      <th>hypothesis</th>\n",
       "      <th>reach</th>\n",
       "      <th>impact</th>\n",
       "      <th>confidence</th>\n",
       "      <th>efforts</th>\n",
       "      <th>ICE</th>\n",
       "    </tr>\n",
       "  </thead>\n",
       "  <tbody>\n",
       "    <tr>\n",
       "      <th>8</th>\n",
       "      <td>Запустить акцию, дающую скидку на товар в день рождения</td>\n",
       "      <td>1</td>\n",
       "      <td>9</td>\n",
       "      <td>9</td>\n",
       "      <td>5</td>\n",
       "      <td>16.200</td>\n",
       "    </tr>\n",
       "    <tr>\n",
       "      <th>0</th>\n",
       "      <td>Добавить два новых канала привлечения трафика, что позволит привлекать на 30% больше пользователей</td>\n",
       "      <td>3</td>\n",
       "      <td>10</td>\n",
       "      <td>8</td>\n",
       "      <td>6</td>\n",
       "      <td>13.333</td>\n",
       "    </tr>\n",
       "    <tr>\n",
       "      <th>7</th>\n",
       "      <td>Добавить форму подписки на все основные страницы, чтобы собрать базу клиентов для email-рассылок</td>\n",
       "      <td>10</td>\n",
       "      <td>7</td>\n",
       "      <td>8</td>\n",
       "      <td>5</td>\n",
       "      <td>11.200</td>\n",
       "    </tr>\n",
       "    <tr>\n",
       "      <th>6</th>\n",
       "      <td>Показать на главной странице баннеры с актуальными акциями и распродажами, чтобы увеличить конве...</td>\n",
       "      <td>5</td>\n",
       "      <td>3</td>\n",
       "      <td>8</td>\n",
       "      <td>3</td>\n",
       "      <td>8.000</td>\n",
       "    </tr>\n",
       "    <tr>\n",
       "      <th>2</th>\n",
       "      <td>Добавить блоки рекомендаций товаров на сайт интернет магазина, чтобы повысить конверсию и средни...</td>\n",
       "      <td>8</td>\n",
       "      <td>3</td>\n",
       "      <td>7</td>\n",
       "      <td>3</td>\n",
       "      <td>7.000</td>\n",
       "    </tr>\n",
       "    <tr>\n",
       "      <th>1</th>\n",
       "      <td>Запустить собственную службу доставки, что сократит срок доставки заказов</td>\n",
       "      <td>2</td>\n",
       "      <td>5</td>\n",
       "      <td>4</td>\n",
       "      <td>10</td>\n",
       "      <td>2.000</td>\n",
       "    </tr>\n",
       "    <tr>\n",
       "      <th>5</th>\n",
       "      <td>Добавить страницу отзывов клиентов о магазине, что позволит увеличить количество заказов</td>\n",
       "      <td>3</td>\n",
       "      <td>2</td>\n",
       "      <td>2</td>\n",
       "      <td>3</td>\n",
       "      <td>1.333</td>\n",
       "    </tr>\n",
       "    <tr>\n",
       "      <th>3</th>\n",
       "      <td>Изменить структура категорий, что увеличит конверсию, т.к. пользователи быстрее найдут нужный товар</td>\n",
       "      <td>8</td>\n",
       "      <td>3</td>\n",
       "      <td>3</td>\n",
       "      <td>8</td>\n",
       "      <td>1.125</td>\n",
       "    </tr>\n",
       "    <tr>\n",
       "      <th>4</th>\n",
       "      <td>Изменить цвет фона главной страницы, чтобы увеличить вовлеченность пользователей</td>\n",
       "      <td>3</td>\n",
       "      <td>1</td>\n",
       "      <td>1</td>\n",
       "      <td>1</td>\n",
       "      <td>1.000</td>\n",
       "    </tr>\n",
       "  </tbody>\n",
       "</table>\n",
       "</div>"
      ],
      "text/plain": [
       "                                                                                            hypothesis  \\\n",
       "8                                              Запустить акцию, дающую скидку на товар в день рождения   \n",
       "0   Добавить два новых канала привлечения трафика, что позволит привлекать на 30% больше пользователей   \n",
       "7     Добавить форму подписки на все основные страницы, чтобы собрать базу клиентов для email-рассылок   \n",
       "6  Показать на главной странице баннеры с актуальными акциями и распродажами, чтобы увеличить конве...   \n",
       "2  Добавить блоки рекомендаций товаров на сайт интернет магазина, чтобы повысить конверсию и средни...   \n",
       "1                            Запустить собственную службу доставки, что сократит срок доставки заказов   \n",
       "5             Добавить страницу отзывов клиентов о магазине, что позволит увеличить количество заказов   \n",
       "3  Изменить структура категорий, что увеличит конверсию, т.к. пользователи быстрее найдут нужный товар   \n",
       "4                     Изменить цвет фона главной страницы, чтобы увеличить вовлеченность пользователей   \n",
       "\n",
       "   reach  impact  confidence  efforts     ICE  \n",
       "8      1       9           9        5  16.200  \n",
       "0      3      10           8        6  13.333  \n",
       "7     10       7           8        5  11.200  \n",
       "6      5       3           8        3   8.000  \n",
       "2      8       3           7        3   7.000  \n",
       "1      2       5           4       10   2.000  \n",
       "5      3       2           2        3   1.333  \n",
       "3      8       3           3        8   1.125  \n",
       "4      3       1           1        1   1.000  "
      ]
     },
     "execution_count": 18,
     "metadata": {},
     "output_type": "execute_result"
    }
   ],
   "source": [
    "# посчитаем ice и добавим его к нашей таблице, округлив до 3 знаков после запятой\n",
    "# отсортируем данные и выведем\n",
    "hypothesis['ICE'] = round((hypothesis['impact'] * hypothesis['confidence']) / hypothesis['efforts'], 3)\n",
    "hypothesis.sort_values(by='ICE', ascending=False)"
   ]
  },
  {
   "cell_type": "markdown",
   "metadata": {},
   "source": [
    "<div class=\"alert alert-success\">\n",
    "<b> Комментарий от ревьюера</b>\n",
    "\n",
    "Молодец, что скорректировал ширину столбцов, так намного удобнее сравнивать гипотезы. \n",
    "\n",
    "</div>"
   ]
  },
  {
   "cell_type": "code",
   "execution_count": 19,
   "metadata": {},
   "outputs": [
    {
     "data": {
      "image/png": "[encoded data removed]",
      "text/plain": [
       "<Figure size 432x288 with 1 Axes>"
      ]
     },
     "metadata": {
      "needs_background": "light"
     },
     "output_type": "display_data"
    }
   ],
   "source": [
    "(hypothesis[['hypothesis', 'ICE']]\n",
    "    .set_index('hypothesis')\n",
    "    .sort_values('ICE', ascending=False)\n",
    "    .plot(kind='barh', color='blue', alpha=0.4, grid=False))\n",
    "\n",
    "plt.xlabel('Приоритет')\n",
    "plt.ylabel(' ')\n",
    "plt.title('Приоритезация гипотез по методу ICE', loc='left')\n",
    "plt.show()"
   ]
  },
  {
   "cell_type": "markdown",
   "metadata": {},
   "source": [
    "Из полученных данных мы можем понять, что наиболее перспективные гипотезы под номером - 8, 0 и 7. Далее идут гипотезы 6 и 2"
   ]
  },
  {
   "cell_type": "markdown",
   "metadata": {},
   "source": [
    "**RICE**"
   ]
  },
  {
   "cell_type": "code",
   "execution_count": 20,
   "metadata": {},
   "outputs": [
    {
     "data": {
      "text/html": [
       "<div>\n",
       "<style scoped>\n",
       "    .dataframe tbody tr th:only-of-type {\n",
       "        vertical-align: middle;\n",
       "    }\n",
       "\n",
       "    .dataframe tbody tr th {\n",
       "        vertical-align: top;\n",
       "    }\n",
       "\n",
       "    .dataframe thead th {\n",
       "        text-align: right;\n",
       "    }\n",
       "</style>\n",
       "<table border=\"1\" class=\"dataframe\">\n",
       "  <thead>\n",
       "    <tr style=\"text-align: right;\">\n",
       "      <th></th>\n",
       "      <th>hypothesis</th>\n",
       "      <th>RICE</th>\n",
       "    </tr>\n",
       "  </thead>\n",
       "  <tbody>\n",
       "    <tr>\n",
       "      <th>7</th>\n",
       "      <td>Добавить форму подписки на все основные страницы, чтобы собрать базу клиентов для email-рассылок</td>\n",
       "      <td>112.0</td>\n",
       "    </tr>\n",
       "    <tr>\n",
       "      <th>2</th>\n",
       "      <td>Добавить блоки рекомендаций товаров на сайт интернет магазина, чтобы повысить конверсию и средни...</td>\n",
       "      <td>56.0</td>\n",
       "    </tr>\n",
       "    <tr>\n",
       "      <th>0</th>\n",
       "      <td>Добавить два новых канала привлечения трафика, что позволит привлекать на 30% больше пользователей</td>\n",
       "      <td>40.0</td>\n",
       "    </tr>\n",
       "    <tr>\n",
       "      <th>6</th>\n",
       "      <td>Показать на главной странице баннеры с актуальными акциями и распродажами, чтобы увеличить конве...</td>\n",
       "      <td>40.0</td>\n",
       "    </tr>\n",
       "    <tr>\n",
       "      <th>8</th>\n",
       "      <td>Запустить акцию, дающую скидку на товар в день рождения</td>\n",
       "      <td>16.2</td>\n",
       "    </tr>\n",
       "    <tr>\n",
       "      <th>3</th>\n",
       "      <td>Изменить структура категорий, что увеличит конверсию, т.к. пользователи быстрее найдут нужный товар</td>\n",
       "      <td>9.0</td>\n",
       "    </tr>\n",
       "    <tr>\n",
       "      <th>1</th>\n",
       "      <td>Запустить собственную службу доставки, что сократит срок доставки заказов</td>\n",
       "      <td>4.0</td>\n",
       "    </tr>\n",
       "    <tr>\n",
       "      <th>5</th>\n",
       "      <td>Добавить страницу отзывов клиентов о магазине, что позволит увеличить количество заказов</td>\n",
       "      <td>4.0</td>\n",
       "    </tr>\n",
       "    <tr>\n",
       "      <th>4</th>\n",
       "      <td>Изменить цвет фона главной страницы, чтобы увеличить вовлеченность пользователей</td>\n",
       "      <td>3.0</td>\n",
       "    </tr>\n",
       "  </tbody>\n",
       "</table>\n",
       "</div>"
      ],
      "text/plain": [
       "                                                                                            hypothesis  \\\n",
       "7     Добавить форму подписки на все основные страницы, чтобы собрать базу клиентов для email-рассылок   \n",
       "2  Добавить блоки рекомендаций товаров на сайт интернет магазина, чтобы повысить конверсию и средни...   \n",
       "0   Добавить два новых канала привлечения трафика, что позволит привлекать на 30% больше пользователей   \n",
       "6  Показать на главной странице баннеры с актуальными акциями и распродажами, чтобы увеличить конве...   \n",
       "8                                              Запустить акцию, дающую скидку на товар в день рождения   \n",
       "3  Изменить структура категорий, что увеличит конверсию, т.к. пользователи быстрее найдут нужный товар   \n",
       "1                            Запустить собственную службу доставки, что сократит срок доставки заказов   \n",
       "5             Добавить страницу отзывов клиентов о магазине, что позволит увеличить количество заказов   \n",
       "4                     Изменить цвет фона главной страницы, чтобы увеличить вовлеченность пользователей   \n",
       "\n",
       "    RICE  \n",
       "7  112.0  \n",
       "2   56.0  \n",
       "0   40.0  \n",
       "6   40.0  \n",
       "8   16.2  \n",
       "3    9.0  \n",
       "1    4.0  \n",
       "5    4.0  \n",
       "4    3.0  "
      ]
     },
     "execution_count": 20,
     "metadata": {},
     "output_type": "execute_result"
    }
   ],
   "source": [
    "# также, посчитаем rice и добавим к нашей таблице\n",
    "# отсортируем данные и выведем\n",
    "hypothesis['RICE'] = (hypothesis['reach'] * hypothesis['impact'] * hypothesis['confidence'] / hypothesis['efforts'])\n",
    "hypothesis[['hypothesis', 'RICE']].sort_values(by='RICE', ascending=False)"
   ]
  },
  {
   "cell_type": "code",
   "execution_count": 21,
   "metadata": {},
   "outputs": [
    {
     "data": {
      "image/png": "[encoded data removed]",
      "text/plain": [
       "<Figure size 432x288 with 1 Axes>"
      ]
     },
     "metadata": {
      "needs_background": "light"
     },
     "output_type": "display_data"
    }
   ],
   "source": [
    "(hypothesis[['hypothesis', 'RICE']]\n",
    "    .set_index('hypothesis')\n",
    "    .sort_values('RICE', ascending=False)\n",
    "    .plot(kind='barh', color='blue', alpha=0.4, grid=False))\n",
    "\n",
    "plt.xlabel('Приоритет')\n",
    "plt.ylabel(' ')\n",
    "plt.title('Приоритезация гипотез по методу RICE', loc='left')\n",
    "plt.show()"
   ]
  },
  {
   "cell_type": "markdown",
   "metadata": {},
   "source": [
    "Исходя из данного фреймворка, мы видим, что наиболее перспективные 7, 2, 0 и 6"
   ]
  },
  {
   "cell_type": "code",
   "execution_count": 22,
   "metadata": {},
   "outputs": [
    {
     "data": {
      "text/html": [
       "<div>\n",
       "<style scoped>\n",
       "    .dataframe tbody tr th:only-of-type {\n",
       "        vertical-align: middle;\n",
       "    }\n",
       "\n",
       "    .dataframe tbody tr th {\n",
       "        vertical-align: top;\n",
       "    }\n",
       "\n",
       "    .dataframe thead th {\n",
       "        text-align: right;\n",
       "    }\n",
       "</style>\n",
       "<table border=\"1\" class=\"dataframe\">\n",
       "  <thead>\n",
       "    <tr style=\"text-align: right;\">\n",
       "      <th></th>\n",
       "      <th>hypothesis</th>\n",
       "      <th>ICE</th>\n",
       "      <th>RICE</th>\n",
       "    </tr>\n",
       "  </thead>\n",
       "  <tbody>\n",
       "    <tr>\n",
       "      <th>7</th>\n",
       "      <td>Добавить форму подписки на все основные страницы, чтобы собрать базу клиентов для email-рассылок</td>\n",
       "      <td>11.200</td>\n",
       "      <td>112.0</td>\n",
       "    </tr>\n",
       "    <tr>\n",
       "      <th>2</th>\n",
       "      <td>Добавить блоки рекомендаций товаров на сайт интернет магазина, чтобы повысить конверсию и средни...</td>\n",
       "      <td>7.000</td>\n",
       "      <td>56.0</td>\n",
       "    </tr>\n",
       "    <tr>\n",
       "      <th>0</th>\n",
       "      <td>Добавить два новых канала привлечения трафика, что позволит привлекать на 30% больше пользователей</td>\n",
       "      <td>13.333</td>\n",
       "      <td>40.0</td>\n",
       "    </tr>\n",
       "    <tr>\n",
       "      <th>6</th>\n",
       "      <td>Показать на главной странице баннеры с актуальными акциями и распродажами, чтобы увеличить конве...</td>\n",
       "      <td>8.000</td>\n",
       "      <td>40.0</td>\n",
       "    </tr>\n",
       "    <tr>\n",
       "      <th>8</th>\n",
       "      <td>Запустить акцию, дающую скидку на товар в день рождения</td>\n",
       "      <td>16.200</td>\n",
       "      <td>16.2</td>\n",
       "    </tr>\n",
       "    <tr>\n",
       "      <th>3</th>\n",
       "      <td>Изменить структура категорий, что увеличит конверсию, т.к. пользователи быстрее найдут нужный товар</td>\n",
       "      <td>1.125</td>\n",
       "      <td>9.0</td>\n",
       "    </tr>\n",
       "    <tr>\n",
       "      <th>1</th>\n",
       "      <td>Запустить собственную службу доставки, что сократит срок доставки заказов</td>\n",
       "      <td>2.000</td>\n",
       "      <td>4.0</td>\n",
       "    </tr>\n",
       "    <tr>\n",
       "      <th>5</th>\n",
       "      <td>Добавить страницу отзывов клиентов о магазине, что позволит увеличить количество заказов</td>\n",
       "      <td>1.333</td>\n",
       "      <td>4.0</td>\n",
       "    </tr>\n",
       "    <tr>\n",
       "      <th>4</th>\n",
       "      <td>Изменить цвет фона главной страницы, чтобы увеличить вовлеченность пользователей</td>\n",
       "      <td>1.000</td>\n",
       "      <td>3.0</td>\n",
       "    </tr>\n",
       "  </tbody>\n",
       "</table>\n",
       "</div>"
      ],
      "text/plain": [
       "                                                                                            hypothesis  \\\n",
       "7     Добавить форму подписки на все основные страницы, чтобы собрать базу клиентов для email-рассылок   \n",
       "2  Добавить блоки рекомендаций товаров на сайт интернет магазина, чтобы повысить конверсию и средни...   \n",
       "0   Добавить два новых канала привлечения трафика, что позволит привлекать на 30% больше пользователей   \n",
       "6  Показать на главной странице баннеры с актуальными акциями и распродажами, чтобы увеличить конве...   \n",
       "8                                              Запустить акцию, дающую скидку на товар в день рождения   \n",
       "3  Изменить структура категорий, что увеличит конверсию, т.к. пользователи быстрее найдут нужный товар   \n",
       "1                            Запустить собственную службу доставки, что сократит срок доставки заказов   \n",
       "5             Добавить страницу отзывов клиентов о магазине, что позволит увеличить количество заказов   \n",
       "4                     Изменить цвет фона главной страницы, чтобы увеличить вовлеченность пользователей   \n",
       "\n",
       "      ICE   RICE  \n",
       "7  11.200  112.0  \n",
       "2   7.000   56.0  \n",
       "0  13.333   40.0  \n",
       "6   8.000   40.0  \n",
       "8  16.200   16.2  \n",
       "3   1.125    9.0  \n",
       "1   2.000    4.0  \n",
       "5   1.333    4.0  \n",
       "4   1.000    3.0  "
      ]
     },
     "execution_count": 22,
     "metadata": {},
     "output_type": "execute_result"
    }
   ],
   "source": [
    "hypothesis[['hypothesis', 'ICE', 'RICE']].sort_values(by='RICE', ascending=False)"
   ]
  },
  {
   "cell_type": "markdown",
   "metadata": {},
   "source": [
    "**Вывод**\n",
    "\n",
    "\n",
    "Гипотеза №8 имеет самый высокий приоритет по ICE (16.2) и, вероятно, принесет наибольшую пользу при реализации. Гипотеза №7  лидирует по RICE (112.0), что говорит о её значительном охвате и важности.\n",
    "\n",
    "Интересно, что гипотезы, такие как №0, имеют высокий ICE (13.333), но относительно низкий RICE (40.0), что может указывать на ограниченный охват пользователей, несмотря на высокую ожидаемую эффективность.\n",
    "\n",
    "Наиболее перспективные для реализации — гипотезы №8 и №7, так как они сочетают в себе высокую эффективность и значимость. Напротив, гипотезы №4 и №5 с низкими ICE и RICE могут быть отложены, так как их реализация принесет наименьшую пользу."
   ]
  },
  {
   "cell_type": "markdown",
   "metadata": {},
   "source": [
    "<div class=\"alert alert-block alert-warning\">\n",
    "    \n",
    "\n",
    "**Комментарий от ревьюера**\n",
    "\n",
    "Стоит привести названия гипотез полностью, на случай если у заказчика они будут прописаны в другом порядке. Также здесь можно выбрать гипотезу, которую мы будем тестировать первой, чтобы между частями проекта была логическая связь.\n",
    "\n",
    "</div>"
   ]
  },
  {
   "cell_type": "markdown",
   "metadata": {},
   "source": [
    "<div style=\"border: 1px solid #bee5eb; background-color: #d1ecf1; color: #0c5460; padding: 10px; border-radius: 5px; margin-top: 10px;\">\n",
    "    Буду иметь ввиду 👍 \n",
    "</div>"
   ]
  },
  {
   "cell_type": "markdown",
   "metadata": {},
   "source": [
    "\n"
   ]
  },
  {
   "cell_type": "markdown",
   "metadata": {},
   "source": [
    "# Анализ A/B-теста"
   ]
  },
  {
   "cell_type": "markdown",
   "metadata": {},
   "source": [
    "**Кумулятивные метрики**"
   ]
  },
  {
   "cell_type": "code",
   "execution_count": 23,
   "metadata": {},
   "outputs": [],
   "source": [
    "# Создадим массив уникальных пар значений дат и групп теста \n",
    "dates_groups = orders[['date','group']].drop_duplicates()"
   ]
  },
  {
   "cell_type": "code",
   "execution_count": 24,
   "metadata": {},
   "outputs": [
    {
     "data": {
      "text/html": [
       "<div>\n",
       "<style scoped>\n",
       "    .dataframe tbody tr th:only-of-type {\n",
       "        vertical-align: middle;\n",
       "    }\n",
       "\n",
       "    .dataframe tbody tr th {\n",
       "        vertical-align: top;\n",
       "    }\n",
       "\n",
       "    .dataframe thead th {\n",
       "        text-align: right;\n",
       "    }\n",
       "</style>\n",
       "<table border=\"1\" class=\"dataframe\">\n",
       "  <thead>\n",
       "    <tr style=\"text-align: right;\">\n",
       "      <th></th>\n",
       "      <th>date</th>\n",
       "      <th>group</th>\n",
       "      <th>transaction_id</th>\n",
       "      <th>visitor_id</th>\n",
       "      <th>revenue</th>\n",
       "    </tr>\n",
       "  </thead>\n",
       "  <tbody>\n",
       "    <tr>\n",
       "      <th>55</th>\n",
       "      <td>2019-08-01</td>\n",
       "      <td>A</td>\n",
       "      <td>24</td>\n",
       "      <td>20</td>\n",
       "      <td>148579</td>\n",
       "    </tr>\n",
       "    <tr>\n",
       "      <th>66</th>\n",
       "      <td>2019-08-01</td>\n",
       "      <td>B</td>\n",
       "      <td>21</td>\n",
       "      <td>20</td>\n",
       "      <td>101217</td>\n",
       "    </tr>\n",
       "    <tr>\n",
       "      <th>175</th>\n",
       "      <td>2019-08-02</td>\n",
       "      <td>A</td>\n",
       "      <td>44</td>\n",
       "      <td>38</td>\n",
       "      <td>242401</td>\n",
       "    </tr>\n",
       "    <tr>\n",
       "      <th>173</th>\n",
       "      <td>2019-08-02</td>\n",
       "      <td>B</td>\n",
       "      <td>45</td>\n",
       "      <td>43</td>\n",
       "      <td>266748</td>\n",
       "    </tr>\n",
       "    <tr>\n",
       "      <th>291</th>\n",
       "      <td>2019-08-03</td>\n",
       "      <td>A</td>\n",
       "      <td>68</td>\n",
       "      <td>62</td>\n",
       "      <td>354874</td>\n",
       "    </tr>\n",
       "  </tbody>\n",
       "</table>\n",
       "</div>"
      ],
      "text/plain": [
       "          date group  transaction_id  visitor_id  revenue\n",
       "55  2019-08-01     A              24          20   148579\n",
       "66  2019-08-01     B              21          20   101217\n",
       "175 2019-08-02     A              44          38   242401\n",
       "173 2019-08-02     B              45          43   266748\n",
       "291 2019-08-03     A              68          62   354874"
      ]
     },
     "execution_count": 24,
     "metadata": {},
     "output_type": "execute_result"
    }
   ],
   "source": [
    "# получаем агрегированные кумулятивные по дням данные о заказах \n",
    "orders_aggregated = dates_groups.apply(\n",
    "    lambda x: orders[\n",
    "        np.logical_and(\n",
    "            orders['date'] <= x['date'], orders['group'] == x['group']\n",
    "        )\n",
    "    ].agg(\n",
    "        {\n",
    "            'date': 'max',\n",
    "            'group': 'max',\n",
    "            'transaction_id': 'nunique',\n",
    "            'visitor_id': 'nunique',\n",
    "            'revenue': 'sum',\n",
    "        }\n",
    "    ),\n",
    "    axis=1,\n",
    ").sort_values(by=['date', 'group'])\n",
    "\n",
    "orders_aggregated.head()"
   ]
  },
  {
   "cell_type": "code",
   "execution_count": 25,
   "metadata": {},
   "outputs": [
    {
     "data": {
      "text/html": [
       "<div>\n",
       "<style scoped>\n",
       "    .dataframe tbody tr th:only-of-type {\n",
       "        vertical-align: middle;\n",
       "    }\n",
       "\n",
       "    .dataframe tbody tr th {\n",
       "        vertical-align: top;\n",
       "    }\n",
       "\n",
       "    .dataframe thead th {\n",
       "        text-align: right;\n",
       "    }\n",
       "</style>\n",
       "<table border=\"1\" class=\"dataframe\">\n",
       "  <thead>\n",
       "    <tr style=\"text-align: right;\">\n",
       "      <th></th>\n",
       "      <th>date</th>\n",
       "      <th>group</th>\n",
       "      <th>visitors</th>\n",
       "    </tr>\n",
       "  </thead>\n",
       "  <tbody>\n",
       "    <tr>\n",
       "      <th>55</th>\n",
       "      <td>2019-08-01</td>\n",
       "      <td>A</td>\n",
       "      <td>719</td>\n",
       "    </tr>\n",
       "    <tr>\n",
       "      <th>66</th>\n",
       "      <td>2019-08-01</td>\n",
       "      <td>B</td>\n",
       "      <td>713</td>\n",
       "    </tr>\n",
       "    <tr>\n",
       "      <th>175</th>\n",
       "      <td>2019-08-02</td>\n",
       "      <td>A</td>\n",
       "      <td>1338</td>\n",
       "    </tr>\n",
       "    <tr>\n",
       "      <th>173</th>\n",
       "      <td>2019-08-02</td>\n",
       "      <td>B</td>\n",
       "      <td>1294</td>\n",
       "    </tr>\n",
       "    <tr>\n",
       "      <th>291</th>\n",
       "      <td>2019-08-03</td>\n",
       "      <td>A</td>\n",
       "      <td>1845</td>\n",
       "    </tr>\n",
       "  </tbody>\n",
       "</table>\n",
       "</div>"
      ],
      "text/plain": [
       "          date group  visitors\n",
       "55  2019-08-01     A       719\n",
       "66  2019-08-01     B       713\n",
       "175 2019-08-02     A      1338\n",
       "173 2019-08-02     B      1294\n",
       "291 2019-08-03     A      1845"
      ]
     },
     "execution_count": 25,
     "metadata": {},
     "output_type": "execute_result"
    }
   ],
   "source": [
    "# получаем агрегированные кумулятивные по дням данные о посетителях интернет-магазина \n",
    "visitors_aggregated = dates_groups.apply(\n",
    "    lambda x: visitors[\n",
    "        np.logical_and(\n",
    "            visitors['date'] <= x['date'], visitors['group'] == x['group']\n",
    "        )\n",
    "    ].agg(\n",
    "        {\n",
    "            'date': 'max', \n",
    "            'group': 'max', \n",
    "            'visitors': 'sum'\n",
    "        }\n",
    "    ),\n",
    "    axis=1,\n",
    ").sort_values(by=['date', 'group'])\n",
    "\n",
    "visitors_aggregated.head()"
   ]
  },
  {
   "cell_type": "code",
   "execution_count": 26,
   "metadata": {},
   "outputs": [
    {
     "data": {
      "text/html": [
       "<div>\n",
       "<style scoped>\n",
       "    .dataframe tbody tr th:only-of-type {\n",
       "        vertical-align: middle;\n",
       "    }\n",
       "\n",
       "    .dataframe tbody tr th {\n",
       "        vertical-align: top;\n",
       "    }\n",
       "\n",
       "    .dataframe thead th {\n",
       "        text-align: right;\n",
       "    }\n",
       "</style>\n",
       "<table border=\"1\" class=\"dataframe\">\n",
       "  <thead>\n",
       "    <tr style=\"text-align: right;\">\n",
       "      <th></th>\n",
       "      <th>date</th>\n",
       "      <th>group</th>\n",
       "      <th>orders</th>\n",
       "      <th>buyers</th>\n",
       "      <th>revenue</th>\n",
       "      <th>visitors</th>\n",
       "    </tr>\n",
       "  </thead>\n",
       "  <tbody>\n",
       "    <tr>\n",
       "      <th>0</th>\n",
       "      <td>2019-08-01</td>\n",
       "      <td>A</td>\n",
       "      <td>24</td>\n",
       "      <td>20</td>\n",
       "      <td>148579</td>\n",
       "      <td>719</td>\n",
       "    </tr>\n",
       "    <tr>\n",
       "      <th>1</th>\n",
       "      <td>2019-08-01</td>\n",
       "      <td>B</td>\n",
       "      <td>21</td>\n",
       "      <td>20</td>\n",
       "      <td>101217</td>\n",
       "      <td>713</td>\n",
       "    </tr>\n",
       "    <tr>\n",
       "      <th>2</th>\n",
       "      <td>2019-08-02</td>\n",
       "      <td>A</td>\n",
       "      <td>44</td>\n",
       "      <td>38</td>\n",
       "      <td>242401</td>\n",
       "      <td>1338</td>\n",
       "    </tr>\n",
       "    <tr>\n",
       "      <th>3</th>\n",
       "      <td>2019-08-02</td>\n",
       "      <td>B</td>\n",
       "      <td>45</td>\n",
       "      <td>43</td>\n",
       "      <td>266748</td>\n",
       "      <td>1294</td>\n",
       "    </tr>\n",
       "    <tr>\n",
       "      <th>4</th>\n",
       "      <td>2019-08-03</td>\n",
       "      <td>A</td>\n",
       "      <td>68</td>\n",
       "      <td>62</td>\n",
       "      <td>354874</td>\n",
       "      <td>1845</td>\n",
       "    </tr>\n",
       "  </tbody>\n",
       "</table>\n",
       "</div>"
      ],
      "text/plain": [
       "        date group  orders  buyers  revenue  visitors\n",
       "0 2019-08-01     A      24      20   148579       719\n",
       "1 2019-08-01     B      21      20   101217       713\n",
       "2 2019-08-02     A      44      38   242401      1338\n",
       "3 2019-08-02     B      45      43   266748      1294\n",
       "4 2019-08-03     A      68      62   354874      1845"
      ]
     },
     "execution_count": 26,
     "metadata": {},
     "output_type": "execute_result"
    }
   ],
   "source": [
    "# объединяем кумулятивные данные в одной таблице и присваиваем ее столбцам понятные названия\n",
    "cumulative_data = orders_aggregated.merge(visitors_aggregated, left_on=['date', 'group'], right_on=['date', 'group'])\n",
    "cumulative_data.columns = ['date', 'group', 'orders', 'buyers', 'revenue', 'visitors']\n",
    "\n",
    "cumulative_data.head()"
   ]
  },
  {
   "cell_type": "markdown",
   "metadata": {},
   "source": [
    "<div class=\"alert alert-block alert-warning\">\n",
    "\n",
    "**Комментарий от ревьюера**\n",
    "\n",
    "Здесь можно проверить, корректно ли был создан датафрейм cumulative_data. Например, совпадают ли минимальная и максимальная даты в этом датафрейме с минимальной и максимальной датой в исходных данных.\n",
    "\n",
    "</div>"
   ]
  },
  {
   "cell_type": "markdown",
   "metadata": {},
   "source": [
    "**Выручка по группам**"
   ]
  },
  {
   "cell_type": "code",
   "execution_count": 27,
   "metadata": {},
   "outputs": [
    {
     "data": {
      "image/png": "[encoded data removed]",
      "text/plain": [
       "<Figure size 720x360 with 1 Axes>"
      ]
     },
     "metadata": {
      "needs_background": "light"
     },
     "output_type": "display_data"
    }
   ],
   "source": [
    "# датафрейм с кумулятивным количеством заказов и кумулятивной выручкой по дням в группе А\n",
    "cumulative_revenueA = cumulative_data[cumulative_data['group']=='A'][['date','revenue', 'orders']]\n",
    "\n",
    "# датафрейм с кумулятивным количеством заказов и кумулятивной выручкой по дням в группе B\n",
    "cumulative_revenueB = cumulative_data[cumulative_data['group']=='B'][['date','revenue', 'orders']]\n",
    "\n",
    "# Строим график выручки групп\n",
    "plt.figure(figsize=(10, 5))\n",
    "plt.plot(cumulative_revenueA['date'], cumulative_revenueA['revenue'], label='A')\n",
    "plt.plot(cumulative_revenueB['date'], cumulative_revenueB['revenue'], label='B')\n",
    "plt.title('График динамики кумулятивной выручки по группам А и В')\n",
    "plt.ylabel(\"Выручка, млн.\")\n",
    "plt.xticks(rotation=45)\n",
    "plt.grid(True)\n",
    "plt.legend()\n",
    "plt.show()"
   ]
  },
  {
   "cell_type": "markdown",
   "metadata": {},
   "source": [
    "Кумулятивная выручка группы А демонстрирует устойчивый линейный рост, однако она остается ниже, чем у группы В. В группе В наблюдается резкий скачок около 18 августа, что может указывать на резкое увеличение числа заказов или на появление очень крупных заказов в выборке."
   ]
  },
  {
   "cell_type": "markdown",
   "metadata": {},
   "source": [
    "<div class=\"alert alert-block alert-success\">\n",
    "    \n",
    "**Комментарий от ревьюера**\n",
    "\n",
    "Верно, пока мы не знаем, с чем связан скачок в группе B: с резким увеличением количества заказов или с ростом стоимости.\n",
    "</div>"
   ]
  },
  {
   "cell_type": "markdown",
   "metadata": {},
   "source": [
    "**Средний чек по группам**"
   ]
  },
  {
   "cell_type": "code",
   "execution_count": 28,
   "metadata": {},
   "outputs": [
    {
     "data": {
      "image/png": "[encoded data removed]",
      "text/plain": [
       "<Figure size 720x360 with 1 Axes>"
      ]
     },
     "metadata": {
      "needs_background": "light"
     },
     "output_type": "display_data"
    }
   ],
   "source": [
    "plt.figure(figsize=(10, 5))\n",
    "plt.plot(cumulative_revenueA['date'], cumulative_revenueA['revenue']/cumulative_revenueA['orders'], label='A')\n",
    "plt.plot(cumulative_revenueB['date'], cumulative_revenueB['revenue']/cumulative_revenueB['orders'], label='B')\n",
    "plt.title('График динамики кумулятивного среднего чека по группам А и В')\n",
    "plt.ylabel(\"Выручка, млн.\")\n",
    "plt.xticks(rotation=45)\n",
    "plt.grid(True)\n",
    "plt.legend()\n",
    "plt.show()"
   ]
  },
  {
   "cell_type": "markdown",
   "metadata": {},
   "source": [
    "Мы видим, что средний чек группы 'А' сначала опустился, но со временем стабилизировался. В группе 'B' все было стабильно до упомянутого выше 18-го августа. Это также, говорит о большой покупке."
   ]
  },
  {
   "cell_type": "markdown",
   "metadata": {},
   "source": [
    "<div class=\"alert alert-block alert-success\">\n",
    "    \n",
    "**Комментарий от ревьюера**\n",
    "    \n",
    "Да, резкий рост происходит в ту же дату, что и на предыдущем графике.\n",
    "</div>"
   ]
  },
  {
   "cell_type": "code",
   "execution_count": 29,
   "metadata": {},
   "outputs": [
    {
     "data": {
      "text/html": [
       "<div>\n",
       "<style scoped>\n",
       "    .dataframe tbody tr th:only-of-type {\n",
       "        vertical-align: middle;\n",
       "    }\n",
       "\n",
       "    .dataframe tbody tr th {\n",
       "        vertical-align: top;\n",
       "    }\n",
       "\n",
       "    .dataframe thead th {\n",
       "        text-align: right;\n",
       "    }\n",
       "</style>\n",
       "<table border=\"1\" class=\"dataframe\">\n",
       "  <thead>\n",
       "    <tr style=\"text-align: right;\">\n",
       "      <th></th>\n",
       "      <th>date</th>\n",
       "      <th>revenue_a</th>\n",
       "      <th>orders_a</th>\n",
       "      <th>revenue_b</th>\n",
       "      <th>orders_b</th>\n",
       "    </tr>\n",
       "  </thead>\n",
       "  <tbody>\n",
       "    <tr>\n",
       "      <th>0</th>\n",
       "      <td>2019-08-01</td>\n",
       "      <td>148579</td>\n",
       "      <td>24</td>\n",
       "      <td>101217</td>\n",
       "      <td>21</td>\n",
       "    </tr>\n",
       "    <tr>\n",
       "      <th>1</th>\n",
       "      <td>2019-08-02</td>\n",
       "      <td>242401</td>\n",
       "      <td>44</td>\n",
       "      <td>266748</td>\n",
       "      <td>45</td>\n",
       "    </tr>\n",
       "    <tr>\n",
       "      <th>2</th>\n",
       "      <td>2019-08-03</td>\n",
       "      <td>354874</td>\n",
       "      <td>68</td>\n",
       "      <td>380996</td>\n",
       "      <td>61</td>\n",
       "    </tr>\n",
       "    <tr>\n",
       "      <th>3</th>\n",
       "      <td>2019-08-04</td>\n",
       "      <td>425699</td>\n",
       "      <td>84</td>\n",
       "      <td>489567</td>\n",
       "      <td>78</td>\n",
       "    </tr>\n",
       "    <tr>\n",
       "      <th>4</th>\n",
       "      <td>2019-08-05</td>\n",
       "      <td>549917</td>\n",
       "      <td>109</td>\n",
       "      <td>581995</td>\n",
       "      <td>101</td>\n",
       "    </tr>\n",
       "  </tbody>\n",
       "</table>\n",
       "</div>"
      ],
      "text/plain": [
       "        date  revenue_a  orders_a  revenue_b  orders_b\n",
       "0 2019-08-01     148579        24     101217        21\n",
       "1 2019-08-02     242401        44     266748        45\n",
       "2 2019-08-03     354874        68     380996        61\n",
       "3 2019-08-04     425699        84     489567        78\n",
       "4 2019-08-05     549917       109     581995       101"
      ]
     },
     "execution_count": 29,
     "metadata": {},
     "output_type": "execute_result"
    }
   ],
   "source": [
    "# создадим объединеную таблицу кумулятивных данных групп с сохранением столбцов revenue и orders обеих групп\n",
    "merged_cumulative_revenue = (cumulative_revenueA\n",
    "                                 .merge(cumulative_revenueB,\n",
    "                                        left_on='date',\n",
    "                                        right_on='date',\n",
    "                                        how='left',\n",
    "                                        suffixes=['_a', '_b'])\n",
    "                            )\n",
    "merged_cumulative_revenue.head()"
   ]
  },
  {
   "cell_type": "code",
   "execution_count": 30,
   "metadata": {},
   "outputs": [
    {
     "data": {
      "image/png": "[encoded data removed]",
      "text/plain": [
       "<Figure size 720x360 with 1 Axes>"
      ]
     },
     "metadata": {
      "needs_background": "light"
     },
     "output_type": "display_data"
    }
   ],
   "source": [
    "# cтроим график отношения кумулятивного среднего чека группы B к группе А\n",
    "plt.figure(figsize=(10,5))\n",
    "plt.plot(merged_cumulative_revenue['date'],\n",
    "         (merged_cumulative_revenue['revenue_b'] / merged_cumulative_revenue['orders_b']) / \n",
    "         (merged_cumulative_revenue['revenue_a'] / merged_cumulative_revenue['orders_a'])-1)\n",
    "plt.title('Относительное изменение кумулятивного среднего чека группы B к группе A')\n",
    "plt.ylabel('Изменение среднего чека B к A')\n",
    "plt.axhline(y=0, color='black', linestyle='--')\n",
    "plt.xticks(rotation=45)\n",
    "plt.show()"
   ]
  },
  {
   "cell_type": "markdown",
   "metadata": {},
   "source": [
    "<div class=\"alert alert-block alert-danger\">\n",
    "    \n",
    "\n",
    "**Комментарий от ревьюера**\n",
    "\n",
    "Добавь, пожалуйста, подпись оси Y для этого графика. Подписи осей дают контекст и объясняют, что представляют из себя данные, что важно для правильной интерпретации графика.\n",
    "</div>"
   ]
  },
  {
   "cell_type": "markdown",
   "metadata": {},
   "source": [
    "<div style=\"border: 1px solid #bee5eb; background-color: #d1ecf1; color: #0c5460; padding: 10px; border-radius: 5px; margin-top: 10px;\">\n",
    "    👍 \n",
    "</div>"
   ]
  },
  {
   "cell_type": "markdown",
   "metadata": {},
   "source": [
    "<div class=\"alert alert-block alert-success\">\n",
    "<b>Комментарий от ревьюера 2</b> \n",
    "    \n",
    "Отлично, так график проще понять.\n",
    "</div>"
   ]
  },
  {
   "cell_type": "markdown",
   "metadata": {},
   "source": [
    "График показывает резкие скачки в нескольких точках, что явно указывает на наличие выбросов или крупных заказов."
   ]
  },
  {
   "cell_type": "markdown",
   "metadata": {},
   "source": [
    "**Среднее количество заказов на посетителя**"
   ]
  },
  {
   "attachments": {
    "2023-11-28%2018%2056%2000.png": {
     "image/png": "[encoded data removed]"
    }
   },
   "cell_type": "markdown",
   "metadata": {},
   "source": [
    "<div class=\"alert alert-block alert-danger\">\n",
    "    \n",
    "**Комментарий от ревьюера**\n",
    "    \n",
    "В проекте для этого показателя здесь и дальше используется формулировка \"среднее количество заказов на посетителя\". Она более корректная, так как для расчета конверсии в чистом виде, нам нужны id посетителей. Поправь, пожалуйста, формулировки, чтобы они совпадали с заданием. Это можно сделать с помощью автозамены: в меню Edit ➡ Find and Replace. \n",
    "    \n",
    "Кнопка со скриншота ниже позволяет сделать замены сразу во всех ячейках:\n",
    "    \n",
    "![2023-11-28%2018%2056%2000.png](attachment:2023-11-28%2018%2056%2000.png)\n",
    "    \n",
    "</div>"
   ]
  },
  {
   "cell_type": "markdown",
   "metadata": {},
   "source": [
    "<div style=\"border: 1px solid #bee5eb; background-color: #d1ecf1; color: #0c5460; padding: 10px; border-radius: 5px; margin-top: 10px;\">\n",
    "    Готово \n",
    "</div>"
   ]
  },
  {
   "attachments": {
    "image.png": {
     "image/png": "[encoded data removed]"
    }
   },
   "cell_type": "markdown",
   "metadata": {},
   "source": [
    "<div class=\"alert alert-block alert-danger\">\n",
    "    \n",
    "**Комментарий от ревьюера 2**\n",
    "    \n",
    "Здесь также надо поправить другие формулировки, кроме названия:\n",
    "    \n",
    "![image.png](attachment:image.png)\n",
    "    \n",
    "</div>"
   ]
  },
  {
   "cell_type": "markdown",
   "metadata": {},
   "source": [
    "<div class=\"alert alert-info\">\n",
    "  <b>Комментарий студента №2</b>\n",
    "  <br>\n",
    "  Исправил везде. Немного не обратил внимания 🥲\n",
    "</div>"
   ]
  },
  {
   "cell_type": "code",
   "execution_count": 31,
   "metadata": {},
   "outputs": [
    {
     "data": {
      "image/png": "[encoded data removed]",
      "text/plain": [
       "<Figure size 720x360 with 1 Axes>"
      ]
     },
     "metadata": {
      "needs_background": "light"
     },
     "output_type": "display_data"
    }
   ],
   "source": [
    "# считаем среднее количество заказов на посетителя\n",
    "# определяем данные по группам\n",
    "cumulative_data['conversion'] = cumulative_data['orders']/cumulative_data['visitors']\n",
    "\n",
    "cumulative_data_A = cumulative_data[cumulative_data['group']=='A']\n",
    "cumulative_data_B = cumulative_data[cumulative_data['group']=='B']\n",
    "\n",
    "# строим графики\n",
    "plt.figure(figsize=(10, 5))\n",
    "plt.plot(cumulative_data_A['date'], cumulative_data_A['conversion'], label='A')\n",
    "plt.plot(cumulative_data_B['date'], cumulative_data_B['conversion'], label='B')\n",
    "plt.title('Среднее количество заказов на посетителя')\n",
    "plt.xlabel(' ')\n",
    "plt.ylabel('Изменение среднего чека B к A')\n",
    "plt.xticks(rotation=45)\n",
    "plt.legend()\n",
    "plt.show()"
   ]
  },
  {
   "cell_type": "markdown",
   "metadata": {},
   "source": [
    "По графику видно, что по началу среднее количество заказов группы 'A' была выше среднего количество заказов группы 'B'. Однако, после стабилизации, средняя группы 'B' гораздо выше."
   ]
  },
  {
   "cell_type": "markdown",
   "metadata": {},
   "source": [
    "**Относительное изменение кумулятивного среднего количества заказов группы B к группе А**"
   ]
  },
  {
   "cell_type": "code",
   "execution_count": 32,
   "metadata": {},
   "outputs": [
    {
     "data": {
      "text/html": [
       "<div>\n",
       "<style scoped>\n",
       "    .dataframe tbody tr th:only-of-type {\n",
       "        vertical-align: middle;\n",
       "    }\n",
       "\n",
       "    .dataframe tbody tr th {\n",
       "        vertical-align: top;\n",
       "    }\n",
       "\n",
       "    .dataframe thead th {\n",
       "        text-align: right;\n",
       "    }\n",
       "</style>\n",
       "<table border=\"1\" class=\"dataframe\">\n",
       "  <thead>\n",
       "    <tr style=\"text-align: right;\">\n",
       "      <th></th>\n",
       "      <th>date</th>\n",
       "      <th>conversion_a</th>\n",
       "      <th>conversion_b</th>\n",
       "    </tr>\n",
       "  </thead>\n",
       "  <tbody>\n",
       "    <tr>\n",
       "      <th>0</th>\n",
       "      <td>2019-08-01</td>\n",
       "      <td>0.033380</td>\n",
       "      <td>0.029453</td>\n",
       "    </tr>\n",
       "    <tr>\n",
       "      <th>1</th>\n",
       "      <td>2019-08-02</td>\n",
       "      <td>0.032885</td>\n",
       "      <td>0.034776</td>\n",
       "    </tr>\n",
       "    <tr>\n",
       "      <th>2</th>\n",
       "      <td>2019-08-03</td>\n",
       "      <td>0.036856</td>\n",
       "      <td>0.033833</td>\n",
       "    </tr>\n",
       "    <tr>\n",
       "      <th>3</th>\n",
       "      <td>2019-08-04</td>\n",
       "      <td>0.032787</td>\n",
       "      <td>0.030315</td>\n",
       "    </tr>\n",
       "    <tr>\n",
       "      <th>4</th>\n",
       "      <td>2019-08-05</td>\n",
       "      <td>0.032851</td>\n",
       "      <td>0.030793</td>\n",
       "    </tr>\n",
       "  </tbody>\n",
       "</table>\n",
       "</div>"
      ],
      "text/plain": [
       "        date  conversion_a  conversion_b\n",
       "0 2019-08-01      0.033380      0.029453\n",
       "1 2019-08-02      0.032885      0.034776\n",
       "2 2019-08-03      0.036856      0.033833\n",
       "3 2019-08-04      0.032787      0.030315\n",
       "4 2019-08-05      0.032851      0.030793"
      ]
     },
     "execution_count": 32,
     "metadata": {},
     "output_type": "execute_result"
    }
   ],
   "source": [
    "# создадим объединенную таблицу кумулятивной сред.количества заказов с сохранение столбцов conversion \n",
    "merged_cumulative_conversions = (cumulative_data_A[['date','conversion']]\n",
    "                                     .merge(cumulative_data_B[['date','conversion']],\n",
    "                                            left_on='date', right_on='date',\n",
    "                                            how='left',\n",
    "                                            suffixes=['_a', '_b'])\n",
    ")\n",
    "merged_cumulative_conversions.head()"
   ]
  },
  {
   "cell_type": "code",
   "execution_count": 33,
   "metadata": {},
   "outputs": [
    {
     "data": {
      "image/png": "[encoded data removed]",
      "text/plain": [
       "<Figure size 864x432 with 1 Axes>"
      ]
     },
     "metadata": {
      "needs_background": "light"
     },
     "output_type": "display_data"
    }
   ],
   "source": [
    "plt.figure(figsize=(12,6))\n",
    "plt.plot(merged_cumulative_conversions['date'],\n",
    "         merged_cumulative_conversions['conversion_b'] / merged_cumulative_conversions['conversion_a']-1)\n",
    "plt.title('Относительное изменение кумулятивного среднего количества заказов группы B к группе A')\n",
    "plt.ylabel('Изменение кумулятивного среднего количества заказов B к A')\n",
    "plt.axhline(y=0, color='black', linestyle='--')\n",
    "plt.axhline(y=0.15, color='grey', linestyle='--')\n",
    "plt.show()"
   ]
  },
  {
   "cell_type": "markdown",
   "metadata": {},
   "source": [
    "<div class=\"alert alert-block alert-danger\">\n",
    "    \n",
    "**Комментарий от ревьюера**\n",
    "    \n",
    "Здесь тоже стоит добавить подпись оси Y.\n",
    "    \n",
    "</div>"
   ]
  },
  {
   "cell_type": "markdown",
   "metadata": {},
   "source": [
    "<div style=\"border: 1px solid #bee5eb; background-color: #d1ecf1; color: #0c5460; padding: 10px; border-radius: 5px; margin-top: 10px;\">\n",
    "    👍 \n",
    "</div>"
   ]
  },
  {
   "cell_type": "markdown",
   "metadata": {},
   "source": [
    "<div class=\"alert alert-block alert-danger\">\n",
    "    \n",
    "**Комментарий от ревьюера 2**\n",
    "    \n",
    "Здесь тоже надо поправить название пункта, чтобы оно совпадало с заданием, и формулировки внутри пункта.\n",
    "    \n",
    "</div>"
   ]
  },
  {
   "cell_type": "markdown",
   "metadata": {},
   "source": [
    "<div class=\"alert alert-info\">\n",
    "  <b>Комментарий студента №2</b>\n",
    "  <br>\n",
    "  Исправлено\n",
    "</div>"
   ]
  },
  {
   "cell_type": "markdown",
   "metadata": {},
   "source": [
    "В начале теста группа B отставала от группы A, но затем вырвалась вперед. Ее кумулятивная среднего количества заказов быстро росла, а затем начался медленный спад. Сейчас кумулятивная средняя количества заказов группы B снова идет вверх. Однако, не стоит забывать, что предыдущие графики указывали на наличие крупных заказов. Необходимо повторно проанализировать данные после удаления выбросов."
   ]
  },
  {
   "cell_type": "markdown",
   "metadata": {},
   "source": [
    "**Анализ выбросов и всплесков**"
   ]
  },
  {
   "cell_type": "markdown",
   "metadata": {},
   "source": [
    "**Точечный график количества заказов пользователей**"
   ]
  },
  {
   "cell_type": "code",
   "execution_count": 34,
   "metadata": {},
   "outputs": [
    {
     "data": {
      "text/plain": [
       "count    1031.000000\n",
       "mean        1.161009\n",
       "std         0.724919\n",
       "min         1.000000\n",
       "25%         1.000000\n",
       "50%         1.000000\n",
       "75%         1.000000\n",
       "max        11.000000\n",
       "Name: orders, dtype: float64"
      ]
     },
     "metadata": {},
     "output_type": "display_data"
    }
   ],
   "source": [
    "orders_by_users = (\n",
    "    orders.groupby('visitor_id', as_index=False)\n",
    "    .agg({'transaction_id': 'nunique'})\n",
    ")\n",
    "orders_by_users.columns =  ['visitor_id', 'orders']\n",
    "display(orders_by_users['orders'].describe())"
   ]
  },
  {
   "cell_type": "code",
   "execution_count": 35,
   "metadata": {},
   "outputs": [
    {
     "data": {
      "image/png": "[encoded data removed]",
      "text/plain": [
       "<Figure size 432x288 with 1 Axes>"
      ]
     },
     "metadata": {
      "needs_background": "light"
     },
     "output_type": "display_data"
    }
   ],
   "source": [
    "# строим гистограмму\n",
    "plt.hist(orders_by_users['orders'], alpha=0.5) \n",
    "plt.title('Распределение количества заказов по пользователям')\n",
    "plt.xlabel('Количество заказов')\n",
    "plt.ylabel('Количество пользователей')\n",
    "plt.show()"
   ]
  },
  {
   "cell_type": "code",
   "execution_count": 36,
   "metadata": {},
   "outputs": [
    {
     "data": {
      "image/png": "[encoded data removed]",
      "text/plain": [
       "<Figure size 432x288 with 1 Axes>"
      ]
     },
     "metadata": {
      "needs_background": "light"
     },
     "output_type": "display_data"
    }
   ],
   "source": [
    "x_values = pd.Series(range(0,len(orders_by_users)))\n",
    "# строим точечную диаграмму\n",
    "\n",
    "plt.scatter(x_values, orders_by_users['orders'], alpha=0.5)\n",
    "plt.title('Распределение количества заказов по пользователям')\n",
    "plt.show()"
   ]
  },
  {
   "cell_type": "markdown",
   "metadata": {},
   "source": [
    "Большинство пользователей оформляют заказы только один раз, но есть группа, которая совершает по 2 заказа, и небольшое число пользователей, делающих от 3 до 11 заказов в месяц.\n",
    "\n",
    "Посчитаем пользователей с аномальным количеством заказов"
   ]
  },
  {
   "cell_type": "code",
   "execution_count": 37,
   "metadata": {},
   "outputs": [
    {
     "name": "stdout",
     "output_type": "stream",
     "text": [
      "[1. 2. 4.]\n"
     ]
    }
   ],
   "source": [
    "print(np.percentile(orders_by_users['orders'], [90, 95, 99]))"
   ]
  },
  {
   "cell_type": "markdown",
   "metadata": {},
   "source": [
    "е более 5% пользователей совершили более двух покупок за время тестирования, и только 1% - четыре или больше. Будем считать 4 заказа на одного пользователя верхним пределом."
   ]
  },
  {
   "cell_type": "markdown",
   "metadata": {},
   "source": [
    "<div class=\"alert alert-block alert-success\">\n",
    "    \n",
    "**Комментарий от ревьюера**\n",
    "    \n",
    "Такое определение выбросов для количества заказов корректно.\n",
    "</div>"
   ]
  },
  {
   "cell_type": "markdown",
   "metadata": {},
   "source": [
    "**Стоимость заказов пользователей**"
   ]
  },
  {
   "cell_type": "code",
   "execution_count": 38,
   "metadata": {},
   "outputs": [
    {
     "data": {
      "text/plain": [
       "count    1.197000e+03\n",
       "mean     8.348006e+03\n",
       "std      3.919113e+04\n",
       "min      5.000000e+01\n",
       "25%      1.220000e+03\n",
       "50%      2.978000e+03\n",
       "75%      8.290000e+03\n",
       "max      1.294500e+06\n",
       "Name: revenue, dtype: float64"
      ]
     },
     "metadata": {},
     "output_type": "display_data"
    },
    {
     "data": {
      "image/png": "[encoded data removed]",
      "text/plain": [
       "<Figure size 432x288 with 1 Axes>"
      ]
     },
     "metadata": {
      "needs_background": "light"
     },
     "output_type": "display_data"
    }
   ],
   "source": [
    "display(orders['revenue'].describe())\n",
    "\n",
    "# строим гистограмму\n",
    "plt.hist(orders['revenue'], alpha=0.5) \n",
    "plt.title('Распределение стоимости заказов по пользователям')\n",
    "plt.xlabel('Стоимость заказов')\n",
    "plt.ylabel('Количество пользователей')\n",
    "plt.show()"
   ]
  },
  {
   "cell_type": "code",
   "execution_count": 39,
   "metadata": {},
   "outputs": [
    {
     "data": {
      "image/png": "[encoded data removed]",
      "text/plain": [
       "<Figure size 720x360 with 1 Axes>"
      ]
     },
     "metadata": {
      "needs_background": "light"
     },
     "output_type": "display_data"
    }
   ],
   "source": [
    "x_values = pd.Series(range(0,len(orders['revenue'])))\n",
    "\n",
    "# строим точечную диаграмму\n",
    "plt.figure(figsize=(10, 5))\n",
    "plt.scatter(x_values, orders['revenue'], alpha=0.5)\n",
    "plt.title('Распределение стоимости заказов по пользователям')\n",
    "plt.show()"
   ]
  },
  {
   "cell_type": "markdown",
   "metadata": {},
   "source": [
    "Один из заказов был оформлен на сумму более 1.3 миллионов. Это определенно повлияет на результат исследования. Построим аналогичную диаграмму и отсеем большие заказы"
   ]
  },
  {
   "cell_type": "code",
   "execution_count": 40,
   "metadata": {},
   "outputs": [
    {
     "data": {
      "image/png": "[encoded data removed]",
      "text/plain": [
       "<Figure size 432x288 with 1 Axes>"
      ]
     },
     "metadata": {
      "needs_background": "light"
     },
     "output_type": "display_data"
    }
   ],
   "source": [
    "# строим точечную диаграмму\n",
    "plt.ylim(0, 150000)\n",
    "plt.scatter(x_values, orders['revenue'], alpha=0.5)\n",
    "plt.title('Распределение стоимости заказов по пользователям')\n",
    "plt.show()"
   ]
  },
  {
   "cell_type": "markdown",
   "metadata": {},
   "source": [
    "<div class=\"alert alert-block alert-success\">\n",
    "    \n",
    "**Комментарий от ревьюера**\n",
    "\n",
    "Хорошо, что ты добавляешь еще один график, чтобы мы могли рассмотреть основную часть заказов.\n",
    "\n",
    "</div>"
   ]
  },
  {
   "cell_type": "markdown",
   "metadata": {},
   "source": [
    "Основная масса заказов не превышает 20.000"
   ]
  },
  {
   "cell_type": "code",
   "execution_count": 41,
   "metadata": {},
   "outputs": [
    {
     "name": "stdout",
     "output_type": "stream",
     "text": [
      "[18168.  28000.  58233.2]\n"
     ]
    }
   ],
   "source": [
    "print(np.percentile(orders['revenue'], [90, 95, 99])) "
   ]
  },
  {
   "cell_type": "markdown",
   "metadata": {},
   "source": [
    "Лишь 1% заказов больше 58233. Именно эту сумму мы возьмем как границу по величине заказов"
   ]
  },
  {
   "cell_type": "markdown",
   "metadata": {},
   "source": [
    "<div class=\"alert alert-block alert-success\">\n",
    "    \n",
    "**Комментарий от ревьюера**\n",
    "    \n",
    "Такое определение выбросов для стоимости заказов корректно.\n",
    "</div>"
   ]
  },
  {
   "cell_type": "markdown",
   "metadata": {},
   "source": [
    "# **Анализ статистической значимости**"
   ]
  },
  {
   "cell_type": "markdown",
   "metadata": {},
   "source": [
    "**Подготовка \"сырых\" данных**"
   ]
  },
  {
   "cell_type": "markdown",
   "metadata": {},
   "source": [
    "Ранее мы оценили результаты A/B-теста визуально и выяснили, что в данных, скорее всего, есть выбросы.\n",
    "Также, увидели эти самые выбросы и нашли границу для их определения.\n",
    "\n",
    "Далее, Посчитаем статистическую значимость различий в среднем числе заказов на пользователя и среднем чеке между группами по «сырым» данным — без удаления аномальных пользователей.\n",
    "\n",
    "Сформулируем гипотезы. \n",
    "- **Нулевая:** различий в среднем количестве заказов между группами нет. \n",
    "- **Альтернативная:** различия в среднем количестве заказов между группами есть.\n",
    "\n",
    "**Стат. значимость = 0.05**"
   ]
  },
  {
   "cell_type": "markdown",
   "metadata": {},
   "source": [
    "<div class=\"alert alert-block alert-danger\">\n",
    "    \n",
    "**Комментарий от ревьюера 2**\n",
    "    \n",
    "Здесь тоже надо поправить формулировки.\n",
    "    \n",
    "</div>"
   ]
  },
  {
   "cell_type": "markdown",
   "metadata": {},
   "source": [
    "<div class=\"alert alert-info\">\n",
    "  <b>Комментарий студента №2</b>\n",
    "  <br>\n",
    "  Исправлено\n",
    "</div>"
   ]
  },
  {
   "cell_type": "code",
   "execution_count": 42,
   "metadata": {},
   "outputs": [
    {
     "data": {
      "text/html": [
       "<div>\n",
       "<style scoped>\n",
       "    .dataframe tbody tr th:only-of-type {\n",
       "        vertical-align: middle;\n",
       "    }\n",
       "\n",
       "    .dataframe tbody tr th {\n",
       "        vertical-align: top;\n",
       "    }\n",
       "\n",
       "    .dataframe thead th {\n",
       "        text-align: right;\n",
       "    }\n",
       "</style>\n",
       "<table border=\"1\" class=\"dataframe\">\n",
       "  <thead>\n",
       "    <tr style=\"text-align: right;\">\n",
       "      <th></th>\n",
       "      <th>date</th>\n",
       "      <th>orders_daily_a</th>\n",
       "      <th>revenue_per_date_a</th>\n",
       "      <th>orders_daily_b</th>\n",
       "      <th>revenue_per_date_b</th>\n",
       "      <th>orders_cummulative_a</th>\n",
       "      <th>revenue_cummulative_a</th>\n",
       "      <th>orders_cummulative_b</th>\n",
       "      <th>revenue_cummulative_b</th>\n",
       "      <th>visitors_per_date_a</th>\n",
       "      <th>visitors_per_date_b</th>\n",
       "      <th>visitors_cummulative_a</th>\n",
       "      <th>visitors_cummulative_b</th>\n",
       "    </tr>\n",
       "  </thead>\n",
       "  <tbody>\n",
       "    <tr>\n",
       "      <th>0</th>\n",
       "      <td>2019-08-01</td>\n",
       "      <td>24</td>\n",
       "      <td>148579</td>\n",
       "      <td>21</td>\n",
       "      <td>101217</td>\n",
       "      <td>24</td>\n",
       "      <td>148579</td>\n",
       "      <td>21</td>\n",
       "      <td>101217</td>\n",
       "      <td>719</td>\n",
       "      <td>713</td>\n",
       "      <td>719</td>\n",
       "      <td>713</td>\n",
       "    </tr>\n",
       "    <tr>\n",
       "      <th>1</th>\n",
       "      <td>2019-08-02</td>\n",
       "      <td>20</td>\n",
       "      <td>93822</td>\n",
       "      <td>24</td>\n",
       "      <td>165531</td>\n",
       "      <td>44</td>\n",
       "      <td>242401</td>\n",
       "      <td>45</td>\n",
       "      <td>266748</td>\n",
       "      <td>619</td>\n",
       "      <td>581</td>\n",
       "      <td>1338</td>\n",
       "      <td>1294</td>\n",
       "    </tr>\n",
       "    <tr>\n",
       "      <th>2</th>\n",
       "      <td>2019-08-03</td>\n",
       "      <td>24</td>\n",
       "      <td>112473</td>\n",
       "      <td>16</td>\n",
       "      <td>114248</td>\n",
       "      <td>68</td>\n",
       "      <td>354874</td>\n",
       "      <td>61</td>\n",
       "      <td>380996</td>\n",
       "      <td>507</td>\n",
       "      <td>509</td>\n",
       "      <td>1845</td>\n",
       "      <td>1803</td>\n",
       "    </tr>\n",
       "    <tr>\n",
       "      <th>3</th>\n",
       "      <td>2019-08-04</td>\n",
       "      <td>16</td>\n",
       "      <td>70825</td>\n",
       "      <td>17</td>\n",
       "      <td>108571</td>\n",
       "      <td>84</td>\n",
       "      <td>425699</td>\n",
       "      <td>78</td>\n",
       "      <td>489567</td>\n",
       "      <td>717</td>\n",
       "      <td>770</td>\n",
       "      <td>2562</td>\n",
       "      <td>2573</td>\n",
       "    </tr>\n",
       "    <tr>\n",
       "      <th>4</th>\n",
       "      <td>2019-08-05</td>\n",
       "      <td>25</td>\n",
       "      <td>124218</td>\n",
       "      <td>23</td>\n",
       "      <td>92428</td>\n",
       "      <td>109</td>\n",
       "      <td>549917</td>\n",
       "      <td>101</td>\n",
       "      <td>581995</td>\n",
       "      <td>756</td>\n",
       "      <td>707</td>\n",
       "      <td>3318</td>\n",
       "      <td>3280</td>\n",
       "    </tr>\n",
       "  </tbody>\n",
       "</table>\n",
       "</div>"
      ],
      "text/plain": [
       "        date  orders_daily_a  revenue_per_date_a  orders_daily_b  \\\n",
       "0 2019-08-01              24              148579              21   \n",
       "1 2019-08-02              20               93822              24   \n",
       "2 2019-08-03              24              112473              16   \n",
       "3 2019-08-04              16               70825              17   \n",
       "4 2019-08-05              25              124218              23   \n",
       "\n",
       "   revenue_per_date_b  orders_cummulative_a  revenue_cummulative_a  \\\n",
       "0              101217                    24                 148579   \n",
       "1              165531                    44                 242401   \n",
       "2              114248                    68                 354874   \n",
       "3              108571                    84                 425699   \n",
       "4               92428                   109                 549917   \n",
       "\n",
       "   orders_cummulative_b  revenue_cummulative_b  visitors_per_date_a  \\\n",
       "0                    21                 101217                  719   \n",
       "1                    45                 266748                  619   \n",
       "2                    61                 380996                  507   \n",
       "3                    78                 489567                  717   \n",
       "4                   101                 581995                  756   \n",
       "\n",
       "   visitors_per_date_b  visitors_cummulative_a  visitors_cummulative_b  \n",
       "0                  713                     719                     713  \n",
       "1                  581                    1338                    1294  \n",
       "2                  509                    1845                    1803  \n",
       "3                  770                    2562                    2573  \n",
       "4                  707                    3318                    3280  "
      ]
     },
     "execution_count": 42,
     "metadata": {},
     "output_type": "execute_result"
    }
   ],
   "source": [
    "visitors_daily_a = visitors[visitors['group'] == 'A'][['date', 'visitors']]\n",
    "visitors_daily_a.columns = ['date', 'visitors_per_date_a']\n",
    "\n",
    "visitors_cummulative_a = visitors_daily_a.apply(\n",
    "    lambda x: visitors_daily_a[visitors_daily_a['date'] <= x['date']].agg(\n",
    "        {'date': 'max', 'visitors_per_date_a': 'sum'}\n",
    "    ),\n",
    "    axis=1,\n",
    ")\n",
    "visitors_cummulative_a.columns = ['date', 'visitors_cummulative_a']\n",
    "\n",
    "visitors_daily_b = visitors[visitors['group'] == 'B'][['date', 'visitors']]\n",
    "visitors_daily_b.columns = ['date', 'visitors_per_date_b']\n",
    "\n",
    "visitors_cummulative_b = visitors_daily_b.apply(\n",
    "    lambda x: visitors_daily_b[visitors_daily_b['date'] <= x['date']].agg(\n",
    "        {'date': 'max', 'visitors_per_date_b': 'sum'}\n",
    "    ),\n",
    "    axis=1,\n",
    ")\n",
    "visitors_cummulative_b.columns = ['date', 'visitors_cummulative_b']\n",
    "\n",
    "orders_daily_a = (\n",
    "    orders[orders['group'] == 'A'][['date', 'transaction_id', 'visitor_id', 'revenue']]\n",
    "    .groupby('date', as_index=False)\n",
    "    .agg({'transaction_id': pd.Series.nunique, 'revenue': 'sum'})\n",
    ")\n",
    "orders_daily_a.columns = ['date', 'orders_daily_a', 'revenue_per_date_a']\n",
    "\n",
    "orders_cummulative_a = orders_daily_a.apply(\n",
    "    lambda x: orders_daily_a[orders_daily_a['date'] <= x['date']].agg(\n",
    "        {'date': 'max', 'orders_daily_a': 'sum', 'revenue_per_date_a': 'sum'}\n",
    "    ),\n",
    "    axis=1,\n",
    ").sort_values(by=['date'])\n",
    "\n",
    "orders_cummulative_a.columns = ['date','orders_cummulative_a','revenue_cummulative_a']\n",
    "\n",
    "orders_daily_b = (\n",
    "    orders[orders['group'] == 'B'][['date', 'transaction_id', 'visitor_id', 'revenue']]\n",
    "    .groupby('date', as_index=False)\n",
    "    .agg({'transaction_id': pd.Series.nunique, 'revenue': 'sum'})\n",
    ")\n",
    "orders_daily_b.columns = ['date', 'orders_daily_b', 'revenue_per_date_b']\n",
    "\n",
    "orders_cummulative_b = orders_daily_b.apply(\n",
    "    lambda x: orders_daily_b[orders_daily_b['date'] <= x['date']].agg(\n",
    "        {'date': 'max', 'orders_daily_b': 'sum', 'revenue_per_date_b': 'sum'}\n",
    "    ),\n",
    "    axis=1,\n",
    ").sort_values(by=['date'])\n",
    "\n",
    "orders_cummulative_b.columns = ['date','orders_cummulative_b','revenue_cummulative_b']\n",
    "\n",
    "\n",
    "data = (\n",
    "    orders_daily_a.merge(\n",
    "        orders_daily_b, left_on='date', right_on='date', how='left'\n",
    "    )\n",
    "    .merge(orders_cummulative_a, left_on='date', right_on='date', how='left')\n",
    "    .merge(orders_cummulative_b, left_on='date', right_on='date', how='left')\n",
    "    .merge(visitors_daily_a, left_on='date', right_on='date', how='left')\n",
    "    .merge(visitors_daily_b, left_on='date', right_on='date', how='left')\n",
    "    .merge(visitors_cummulative_a, left_on='date', right_on='date', how='left')\n",
    "    .merge(visitors_cummulative_b, left_on='date', right_on='date', how='left')\n",
    ")\n",
    "\n",
    "data.head()"
   ]
  },
  {
   "cell_type": "markdown",
   "metadata": {},
   "source": [
    "Напомним названия столбцов данных:\n",
    "- `date` — дата;\n",
    "- `orders_daily_a` — количество заказов в выбранную дату в группе A;\n",
    "- `revenue_daily_a` — суммарная выручка в выбранную дату в группе A;\n",
    "- `orders_daily_b` — количество заказов в выбранную дату в группе B;\n",
    "- `revenue_per_date_b` — суммарная выручка в выбранную дату в группе B;\n",
    "- `orders_cummulative_a` — суммарное число заказов до выбранной даты включительно в группе A;\n",
    "- `revenue_cummulative_a` — суммарная выручка до выбранной даты включительно в группе A;\n",
    "- `orders_cummulative_b` — суммарное количество заказов до выбранной даты включительно в группе B;\n",
    "- `revenue_cummulative_b` — суммарная выручка до выбранной даты включительно в группе B;\n",
    "- `visitors_per_date_a` — количество пользователей в выбранную дату в группе A;\n",
    "- `visitors_per_date_b` — количество пользователей в выбранную дату в группе B;\n",
    "- `visitors_cummulative_a` — количество пользователей до выбранной даты включительно в группе A;\n",
    "- `visitors_cummulative_b` — количество пользователей до выбранной даты включительно в группе B."
   ]
  },
  {
   "cell_type": "markdown",
   "metadata": {},
   "source": [
    "Создадим переменные `orders_by_users_a` и `orders_by_users_b` со столбцами `['visitors_id', 'orders']`. В них для пользователей, которые заказывали хотя бы 1 раз, укажем число совершённых заказов. "
   ]
  },
  {
   "cell_type": "code",
   "execution_count": 43,
   "metadata": {},
   "outputs": [],
   "source": [
    "orders_by_users_a = (\n",
    "    orders[orders['group'] == 'A']\n",
    "    .groupby('visitor_id', as_index=False)\n",
    "    .agg({'transaction_id': pd.Series.nunique})\n",
    ")\n",
    "orders_by_users_a.columns = ['visitor_id', 'orders']\n",
    "\n",
    "orders_by_users_b = (\n",
    "    orders[orders['group'] == 'B']\n",
    "    .groupby('visitor_id', as_index=False)\n",
    "    .agg({'transaction_id': pd.Series.nunique})\n",
    ")\n",
    "orders_by_users_b.columns = ['visitor_id', 'orders']"
   ]
  },
  {
   "cell_type": "markdown",
   "metadata": {},
   "source": [
    "Объявим переменные sample_a и sample_b, в которых пользователям из разных групп будет соответствовать количество заказов. Тем, кто ничего не заказал, будут соответствовать нули. Это нужно, чтобы подготовить выборки к проверке критерием Манна-Уитни"
   ]
  },
  {
   "cell_type": "code",
   "execution_count": 44,
   "metadata": {},
   "outputs": [],
   "source": [
    "sample_a = pd.concat([orders_by_users_a['orders'],\n",
    "                      pd.Series(\n",
    "                          0, \n",
    "                          index=np.arange(data['visitors_per_date_a'].sum() - \n",
    "                                          len(orders_by_users_a['orders'])), \n",
    "                          name='orders')],axis=0\n",
    "                    )\n",
    "\n",
    "sample_b = pd.concat([orders_by_users_b['orders'],\n",
    "                      pd.Series(\n",
    "                          0, \n",
    "                          index=np.arange(data['visitors_per_date_b'].sum() - \n",
    "                                          len(orders_by_users_b['orders'])), \n",
    "                          name='orders')],axis=0\n",
    "                    )"
   ]
  },
  {
   "cell_type": "code",
   "execution_count": 45,
   "metadata": {},
   "outputs": [
    {
     "name": "stdout",
     "output_type": "stream",
     "text": [
      "Значение p-value для среднего количества заказов: 0.017\n",
      "Отвергаем нулевую гипотезу\n",
      "Относительный прирост среднего количества заказов группы B: 13.81%\n"
     ]
    }
   ],
   "source": [
    "# посчитаем критерий Манна-Уитни к среднему количеству заказов\n",
    "# и относительный прирост среднего количества заказов группы B\n",
    "\n",
    "print('Значение p-value для среднего количества заказов: {:.3f}'.format(st.mannwhitneyu(sample_a, sample_b)[1]))\n",
    "\n",
    "if st.mannwhitneyu(sample_a, sample_b)[1] < 0.05:\n",
    "    print(\"Отвергаем нулевую гипотезу\")\n",
    "else:\n",
    "    print(\"Не получилось отвергнуть нулевую гипотезу\")\n",
    "    \n",
    "print('Относительный прирост среднего количества заказов группы B: {:.2%}'.format((sample_b.mean()/sample_a.mean()) - 1))"
   ]
  },
  {
   "cell_type": "markdown",
   "metadata": {},
   "source": [
    "**Вывод**\n",
    "\n",
    "На основе рассчитанного значения p-value (0.017), мы отвергаем нулевую гипотезу, что указывает на статистически значимые различия в среднем количестве заказов между группами. Средняя в группе B показала относительный прирост на 13.81% по сравнению с группой A, что свидетельствует о положительном эффекте проведенных изменений."
   ]
  },
  {
   "cell_type": "markdown",
   "metadata": {},
   "source": [
    "<div class=\"alert alert-block alert-success\">\n",
    "    \n",
    "**Комментарий от ревьюера**\n",
    "\n",
    "Верно, отвергаем нулевую гипотезу: между группами есть статистически значимое различие.\n",
    "</div>"
   ]
  },
  {
   "cell_type": "markdown",
   "metadata": {},
   "source": [
    "**Cтатистическая значимость различий в среднем чеке заказа. \"Сырые\" данные**"
   ]
  },
  {
   "cell_type": "markdown",
   "metadata": {},
   "source": [
    "Теперь проверим статистическую значимость различий в среднем чеке между группами по \"сырым\" данным, без удаления аномальных пользователей. "
   ]
  },
  {
   "cell_type": "markdown",
   "metadata": {},
   "source": [
    "Сформулируем гипотезы.\n",
    "\n",
    "- **Нулевая гипотеза:** различий в среднем чеке между группами нет. \n",
    "- **Альтернативная гипотеза:** различия в среднем чеке между группами есть. \n",
    "\n",
    "\n",
    "**Стат. значимость = 0.05**"
   ]
  },
  {
   "cell_type": "code",
   "execution_count": 46,
   "metadata": {},
   "outputs": [
    {
     "name": "stdout",
     "output_type": "stream",
     "text": [
      "Значение p-value для среднего чека: 0.729\n",
      "Не получилось отвергнуть нулевую гипотезу\n",
      "Относительный прирост среднего чека группы B к А: 25.87%\n"
     ]
    }
   ],
   "source": [
    "# посчитаем критерий Манна-Уитни к среднему чеку\n",
    "# и относительный прирост среднего чека группы B\n",
    "\n",
    "pvalue_mean_check = st.mannwhitneyu(orders.query('group == \"A\"')['revenue'], orders.query('group == \"B\"')['revenue'])[1]\n",
    "\n",
    "print('Значение p-value для среднего чека: {:.3f}'.format(pvalue_mean_check))\n",
    "\n",
    "if pvalue_mean_check < 0.05:\n",
    "    print(\"Отвергаем нулевую гипотезу\")\n",
    "else:\n",
    "    print(\"Не получилось отвергнуть нулевую гипотезу\")\n",
    "\n",
    "print('Относительный прирост среднего чека группы B к А: {:.2%}'\n",
    "        .format((orders.query('group == \"B\"')['revenue'].mean() / orders.query('group == \"A\"')['revenue'].mean()) - 1))"
   ]
  },
  {
   "cell_type": "markdown",
   "metadata": {},
   "source": [
    "**Вывод**\n",
    "\n",
    "Значение p-value для среднего чека составило 0.729, что значительно выше порога значимости 0.05. Это означает, что у нас нет оснований отвергнуть нулевую гипотезу, и статистически значимых различий в среднем чеке между группами A и B не наблюдается. Тем не менее, относительный прирост среднего чека в группе B по сравнению с группой A составил 25.87%, что указывает на определенное увеличение среднего чека, хоть и без статистической значимости."
   ]
  },
  {
   "cell_type": "markdown",
   "metadata": {},
   "source": [
    "<div class=\"alert alert-block alert-success\">\n",
    "    \n",
    "**Комментарий от ревьюера**\n",
    "\n",
    "Да, по этому показателю между группами нет статистически значимых различий.\n",
    "</div>"
   ]
  },
  {
   "cell_type": "markdown",
   "metadata": {},
   "source": [
    "**Статистическая значимость различий в конверсии между группами. \"Очищенные\" данные**"
   ]
  },
  {
   "cell_type": "markdown",
   "metadata": {},
   "source": [
    "\n",
    "Считаем аномальными пользователей, которые совершили 5 и более заказов или сделали заказы на сумму более 58,233. Это позволит исключить 1% пользователей с наибольшим количеством заказов и 1% пользователей с самыми дорогими заказами. Создадим выборки: пользователей с более чем 4 заказами — users_with_many_orders и пользователей, совершивших заказы на сумму более 58,233 — users_with_expensive_orders. Объединим их в таблицу abnormal_users и с помощью метода shape() узнаем, сколько всего аномальных пользователей."
   ]
  },
  {
   "cell_type": "code",
   "execution_count": 47,
   "metadata": {},
   "outputs": [
    {
     "data": {
      "text/plain": [
       "1099     148427295\n",
       "949      887908475\n",
       "744      888512513\n",
       "1103    1164614297\n",
       "1136    1307669133\n",
       "Name: visitor_id, dtype: int64"
      ]
     },
     "metadata": {},
     "output_type": "display_data"
    },
    {
     "name": "stdout",
     "output_type": "stream",
     "text": [
      "Количество аномальных пользователей: 15\n"
     ]
    }
   ],
   "source": [
    "many_orders = np.percentile(orders_by_users['orders'], 99)\n",
    "expensive_orders = np.percentile(orders['revenue'], 99)\n",
    "\n",
    "\n",
    "users_with_many_orders = pd.concat(\n",
    "    [\n",
    "        orders_by_users_a[orders_by_users_a['orders'] > many_orders]['visitor_id'],\n",
    "        orders_by_users_b[orders_by_users_b['orders'] > many_orders]['visitor_id'],\n",
    "    ],\n",
    "    axis=0,\n",
    ")\n",
    "\n",
    "\n",
    "users_with_expensive_orders = orders[orders['revenue'] > expensive_orders]['visitor_id']\n",
    "\n",
    "\n",
    "abnormal_users = (\n",
    "    pd.concat([users_with_many_orders, users_with_expensive_orders], axis=0)\n",
    "    .drop_duplicates()\n",
    "    .sort_values()\n",
    ")\n",
    "display(abnormal_users.head())\n",
    "print('Количество аномальных пользователей:', abnormal_users.shape[0])"
   ]
  },
  {
   "cell_type": "markdown",
   "metadata": {},
   "source": [
    "<div class=\"alert alert-block alert-success\">\n",
    "    \n",
    "**Комментарий от ревьюера**\n",
    "\n",
    "Здорово, что ты не вводишь числа вручную, а используешь автоматический расчет. Так не придется менять код, если данные поменяются.\n",
    "    \n",
    "</div>"
   ]
  },
  {
   "cell_type": "markdown",
   "metadata": {},
   "source": [
    "Узнаем, как их действия повлияли на результаты теста. Посчитаем статистическую значимость различий в конверсии между группами теста по очищенным данным. Сначала подготовим выборки количества заказов по пользователям по группам теста:"
   ]
  },
  {
   "cell_type": "markdown",
   "metadata": {},
   "source": [
    "**Cтатистическая значимость различий в среднем количестве заказов. \"Очищенные\" данные**"
   ]
  },
  {
   "cell_type": "markdown",
   "metadata": {},
   "source": [
    "<div class=\"alert alert-block alert-danger\">\n",
    "    \n",
    "**Комментарий от ревьюера 2**\n",
    "    \n",
    "Здесь тоже надо поправить название пункта и формулировки.\n",
    "    \n",
    "</div>"
   ]
  },
  {
   "cell_type": "markdown",
   "metadata": {},
   "source": [
    "<div class=\"alert alert-info\">\n",
    "  <b>Комментарий студента №2</b>\n",
    "  <br>\n",
    "  Исправлено\n",
    "</div>"
   ]
  },
  {
   "cell_type": "markdown",
   "metadata": {},
   "source": [
    "Проверим, есть ли статическая значимость различий в среднем количестве заказов c помощью критерия Манна-Уитни и узнаем какой относительный прирост среднего группы B по очищенным данным.\n",
    "\n",
    "\n",
    "Сформулируем гипотезы.\n",
    "\n",
    "- **Нулевая:** стат. значимых различий в среднем количестве заказов между группами нет.\n",
    "- **Альтернативная:** стат. значимые различия в среднем количестве заказов между группами есть.\n",
    "\n",
    "**Стат.значимость = 0.05**"
   ]
  },
  {
   "cell_type": "code",
   "execution_count": 48,
   "metadata": {},
   "outputs": [],
   "source": [
    "# подготовим данные\n",
    "sample_a_filtered = pd.concat(\n",
    "    [\n",
    "        orders_by_users_a[\n",
    "            np.logical_not(orders_by_users_a['visitor_id'].isin(abnormal_users))\n",
    "        ]['orders'],\n",
    "        pd.Series(\n",
    "            0,\n",
    "            index=np.arange(\n",
    "                data['visitors_per_date_a'].sum() - len(orders_by_users_a['orders'])\n",
    "            ),\n",
    "            name='orders',\n",
    "        ),\n",
    "    ],\n",
    "    axis=0,\n",
    ")\n",
    "\n",
    "sample_b_filtered = pd.concat(\n",
    "    [\n",
    "        orders_by_users_b[\n",
    "            np.logical_not(orders_by_users_b['visitor_id'].isin(abnormal_users))\n",
    "        ]['orders'],\n",
    "        pd.Series(\n",
    "            0,\n",
    "            index=np.arange(\n",
    "                data['visitors_per_date_b'].sum() - len(orders_by_users_b['orders'])\n",
    "            ),\n",
    "            name='orders',\n",
    "        ),\n",
    "    ],\n",
    "    axis=0,\n",
    ")"
   ]
  },
  {
   "cell_type": "markdown",
   "metadata": {},
   "source": [
    "<div class=\"alert alert-block alert-danger\">\n",
    "    \n",
    "**Комментарий от ревьюера**\n",
    "    \n",
    "Здесь и в следующем вопросе нужно заново сформулировать гипотезы, чтобы для каждого расчета было полное описание. Желательно также повторить значение alpha. \n",
    "    \n",
    "</div>"
   ]
  },
  {
   "cell_type": "markdown",
   "metadata": {},
   "source": [
    "<div class=\"alert alert-block alert-info\">\n",
    "✅\n",
    "<b></b>\n",
    "\n",
    "\n",
    "</div>"
   ]
  },
  {
   "cell_type": "code",
   "execution_count": 49,
   "metadata": {},
   "outputs": [
    {
     "name": "stdout",
     "output_type": "stream",
     "text": [
      "Значение p-value для среднего количества заказов: 0.014\n",
      "Отвергаем нулевую гипотезу\n",
      "Относительный прирост среднего количества заказов группы B к А: 15.33%\n"
     ]
    }
   ],
   "source": [
    "# посчитаем критерий Манна-Уитни ко среднему количеству заказов для \"очищенных\" данных\n",
    "# и относительный прирост среднего группы B\n",
    "print('Значение p-value для среднего количества заказов: {:.3f}'.format(st.mannwhitneyu(sample_a_filtered, sample_b_filtered)[1]))\n",
    "\n",
    "if st.mannwhitneyu(sample_a_filtered, sample_b_filtered)[1] < 0.05:\n",
    "    print(\"Отвергаем нулевую гипотезу\")\n",
    "else:\n",
    "    print(\"Не получилось отвергнуть нулевую гипотезу\")\n",
    "\n",
    "print('Относительный прирост среднего количества заказов группы B к А: {:.2%}'.format((sample_b_filtered.mean() / sample_a_filtered.mean()) - 1))\n"
   ]
  },
  {
   "cell_type": "markdown",
   "metadata": {},
   "source": [
    "**Вывод**\n",
    "\n",
    "Значение p-value для конверсий составило 0.014, что ниже порога значимости 0.05. Это позволяет нам отвергнуть нулевую гипотезу и заключить, что существуют статистически значимые различия в среднем количестве заказов между группами. Средняя в группе B выросла на 15.33% по сравнению с группой A, что указывает на существенное улучшение показателя в группе B."
   ]
  },
  {
   "cell_type": "markdown",
   "metadata": {},
   "source": [
    "<div class=\"alert alert-block alert-success\">\n",
    "    \n",
    "**Комментарий от ревьюера**\n",
    "\n",
    "Верно, при анализе \"очищенных данных\" p-value стало еще меньше и все так же меньше 0.05, следовательно, между группами есть статистически значимые различия.\n",
    "</div>"
   ]
  },
  {
   "cell_type": "markdown",
   "metadata": {},
   "source": [
    "**Статистическая значимость различий в среднем чеке заказа между группами. \"Oчищенные\" данные**"
   ]
  },
  {
   "cell_type": "markdown",
   "metadata": {},
   "source": [
    "Посчитаем относительный прирост среднего чека в группе В по очищенным данным."
   ]
  },
  {
   "cell_type": "markdown",
   "metadata": {},
   "source": [
    "Сформулируем гипотезы.\n",
    "\n",
    "- **Нулевая:** стат. значимых различий в среднем чеке между группами нет.\n",
    "- **Альтернативная:** стат. значимые различия в среднем чеке между группами есть.\n",
    "\n",
    "**Стат.значимость = 0.05**"
   ]
  },
  {
   "cell_type": "markdown",
   "metadata": {},
   "source": [
    "<div class=\"alert alert-block alert-danger\">\n",
    "    \n",
    "**Комментарий от ревьюера 2**\n",
    "    \n",
    "Здесь надо добавить абзац с гипотезами, как это сделано в предыдущем пункте.\n",
    "    \n",
    "</div>"
   ]
  },
  {
   "cell_type": "markdown",
   "metadata": {},
   "source": [
    "<div class=\"alert alert-info\">\n",
    "  <b>Комментарий студента №2</b>\n",
    "  <br>\n",
    "  Исправлено\n",
    "</div>"
   ]
  },
  {
   "cell_type": "code",
   "execution_count": 50,
   "metadata": {},
   "outputs": [
    {
     "name": "stdout",
     "output_type": "stream",
     "text": [
      "Значение p-value для среднего чека: 0.851\n",
      "Не получилось отвергнуть нулевую гипотезу\n",
      "Относительный прирост среднего чека группы B к А: -0.57%\n"
     ]
    }
   ],
   "source": [
    "# посчитаем критерий Манна-Уитни к среднему чеку для очищенных данных \n",
    "# и относительный прирост среднего чека группы В\n",
    "\n",
    "filtered_pvalue_mean_check = st.mannwhitneyu(\n",
    "    orders[np.logical_and(orders['group'] == \"A\", np.logical_not(orders['visitor_id'].isin(abnormal_users)))]['revenue'],\n",
    "    orders[np.logical_and(orders['group'] == \"B\", np.logical_not(orders['visitor_id'].isin(abnormal_users)))]['revenue'])[1]\n",
    "\n",
    "print('Значение p-value для среднего чека: {:.3f}'.format(filtered_pvalue_mean_check))\n",
    "\n",
    "\n",
    "if filtered_pvalue_mean_check < 0.05:\n",
    "    print(\"Отвергаем нулевую гипотезу\")\n",
    "else:\n",
    "    print(\"Не получилось отвергнуть нулевую гипотезу\")\n",
    "\n",
    "    \n",
    "print('Относительный прирост среднего чека группы B к А: {:.2%}'.format(\n",
    "    (orders[np.logical_and(orders['group']=='B', np.logical_not(orders['visitor_id'].isin(abnormal_users)))]['revenue'].mean()/\n",
    "     orders[np.logical_and(orders['group']=='A', np.logical_not(orders['visitor_id'].isin(abnormal_users)))]['revenue']\n",
    "     .mean()) - 1))"
   ]
  },
  {
   "cell_type": "markdown",
   "metadata": {},
   "source": [
    "Значение p-value для среднего чека составило 0.851, что значительно выше порога значимости 0.05. Это означает, что у нас нет оснований отвергнуть нулевую гипотезу, и статистически значимых различий в среднем чеке между группами не выявлено. Более того, средний чек в группе B оказался на 0.57% ниже, чем в группе A."
   ]
  },
  {
   "cell_type": "markdown",
   "metadata": {},
   "source": [
    "<div class=\"alert alert-block alert-success\">\n",
    "    \n",
    "**Комментарий от ревьюера**\n",
    "\n",
    "Да, здесь видно, как на относительные различия повлияли выбросы.\n",
    "</div>"
   ]
  },
  {
   "cell_type": "markdown",
   "metadata": {},
   "source": [
    "# Вывод\n",
    "\n",
    "На основе предоставленных интернет-магазином данных было проведено исследование, результаты которого приводятся ниже.\n",
    "\n",
    "**Приоритизация гипотез:**\n",
    "\n",
    "Среди предложенных отделом маркетинга гипотез рекомендуется уделить первоочередное внимание следующим:\n",
    "- «Запуск акции, предоставляющей скидку на товар в день рождения»,\n",
    "- «Добавление двух новых каналов привлечения трафика для увеличения количества пользователей на 30%»,\n",
    "- «Добавление формы подписки на все основные страницы для сбора базы клиентов для email-рассылок».\n",
    "\n",
    "Если в процессе ранжирования гипотез необходимо учитывать охват пользователей интернет-магазина, то приоритеты \n",
    "следует расставить следующим образом:\n",
    "\n",
    "- «Добавление формы подписки на все основные страницы для сбора базы клиентов для email-рассылок»,\n",
    "- «Добавление блоков рекомендаций товаров на сайт интернет-магазина для повышения конверсии и среднего чека»,\n",
    "- «Добавление двух новых каналов привлечения трафика для увеличения количества пользователей на 30%».\n",
    "\n",
    "**Анализ результатов A/B теста:**\n",
    "\n",
    "Обнаружены статистически значимые различия в конверсии между группами как на «сырых» данных, так и после фильтрации аномалий. Конверсия группы B оказалась на 14-15% выше, чем в группе A.\n",
    "\n",
    "Статистически значимых различий в среднем чеке между группами не выявлено, ни на «сырых», ни на очищенных данных. Однако на «очищенных» данных средний чек в группе B оказался примерно на 2% выше.\n",
    "\n",
    "График относительных изменений кумулятивной конверсии показывает, что результаты группы B стабильно превосходят группу A.\n",
    "\n",
    "**На основании этих выводов рекомендуется завершить тестирование, зафиксировав победу группы B, так как её конверсия значительно превышает конверсию группы A.**"
   ]
  },
  {
   "cell_type": "markdown",
   "metadata": {},
   "source": [
    "<div class=\"alert alert-block alert-info\">\n",
    "\n",
    "<b>Итоговый комментарий от ревьюера</b>\n",
    "\n",
    "Благодарю тебя за выполнение проекта. Вижу ты постарался, когда работал над ним. Однако, в проекте есть несколько замечаний, которые надо исправить:\n",
    "\n",
    "* дополнить оформление графиков;\n",
    "* скорректировать формулировки;\n",
    "* дополнить описание статистических расчетов.\n",
    "       \n",
    "Жду проект после доработки. Уверена, ты справишься. 💪\n",
    "</div>"
   ]
  },
  {
   "cell_type": "code",
   "execution_count": null,
   "metadata": {},
   "outputs": [],
   "source": []
  }
 ],
 "metadata": {
  "ExecuteTimeLog": [
   {
    "duration": 8,
    "start_time": "2024-08-31T20:01:42.386Z"
   },
   {
    "duration": 406,
    "start_time": "2024-08-31T20:23:13.737Z"
   },
   {
    "duration": 4,
    "start_time": "2024-08-31T20:24:26.883Z"
   },
   {
    "duration": 1297,
    "start_time": "2024-09-01T10:16:51.290Z"
   },
   {
    "duration": 292,
    "start_time": "2024-09-01T10:16:56.155Z"
   },
   {
    "duration": 19,
    "start_time": "2024-09-01T10:18:08.831Z"
   },
   {
    "duration": 20,
    "start_time": "2024-09-01T10:18:30.326Z"
   },
   {
    "duration": 3,
    "start_time": "2024-09-01T10:18:49.477Z"
   },
   {
    "duration": 9,
    "start_time": "2024-09-01T10:19:01.495Z"
   },
   {
    "duration": 8,
    "start_time": "2024-09-01T10:19:55.654Z"
   },
   {
    "duration": 9,
    "start_time": "2024-09-01T10:20:05.875Z"
   },
   {
    "duration": 9,
    "start_time": "2024-09-01T10:20:07.186Z"
   },
   {
    "duration": 3,
    "start_time": "2024-09-01T10:20:12.755Z"
   },
   {
    "duration": 8,
    "start_time": "2024-09-01T10:20:13.638Z"
   },
   {
    "duration": 6,
    "start_time": "2024-09-01T10:21:43.286Z"
   },
   {
    "duration": 6,
    "start_time": "2024-09-01T10:22:20.516Z"
   },
   {
    "duration": 6,
    "start_time": "2024-09-01T10:22:28.342Z"
   },
   {
    "duration": 44,
    "start_time": "2024-09-01T13:30:25.042Z"
   },
   {
    "duration": 1216,
    "start_time": "2024-09-01T13:30:36.288Z"
   },
   {
    "duration": 322,
    "start_time": "2024-09-01T13:30:37.507Z"
   },
   {
    "duration": 21,
    "start_time": "2024-09-01T13:30:37.830Z"
   },
   {
    "duration": 2,
    "start_time": "2024-09-01T13:30:37.852Z"
   },
   {
    "duration": 14,
    "start_time": "2024-09-01T13:30:37.856Z"
   },
   {
    "duration": 5,
    "start_time": "2024-09-01T13:30:37.872Z"
   },
   {
    "duration": 63,
    "start_time": "2024-09-01T13:30:37.878Z"
   },
   {
    "duration": 3,
    "start_time": "2024-09-01T13:31:06.287Z"
   },
   {
    "duration": 8,
    "start_time": "2024-09-01T13:31:16.226Z"
   },
   {
    "duration": 9,
    "start_time": "2024-09-01T13:31:21.365Z"
   },
   {
    "duration": 14,
    "start_time": "2024-09-01T13:31:37.487Z"
   },
   {
    "duration": 12,
    "start_time": "2024-09-01T13:31:44.794Z"
   },
   {
    "duration": 7,
    "start_time": "2024-09-01T13:32:03.314Z"
   },
   {
    "duration": 8,
    "start_time": "2024-09-01T13:32:33.306Z"
   },
   {
    "duration": 8,
    "start_time": "2024-09-01T13:33:54.166Z"
   },
   {
    "duration": 7,
    "start_time": "2024-09-01T13:34:07.688Z"
   },
   {
    "duration": 2,
    "start_time": "2024-09-01T13:34:47.927Z"
   },
   {
    "duration": 9,
    "start_time": "2024-09-01T13:35:01.327Z"
   },
   {
    "duration": 9,
    "start_time": "2024-09-01T13:35:08.816Z"
   },
   {
    "duration": 1039,
    "start_time": "2024-09-01T13:35:22.172Z"
   },
   {
    "duration": 138,
    "start_time": "2024-09-01T13:35:23.213Z"
   },
   {
    "duration": 17,
    "start_time": "2024-09-01T13:35:23.353Z"
   },
   {
    "duration": 2,
    "start_time": "2024-09-01T13:35:23.371Z"
   },
   {
    "duration": 11,
    "start_time": "2024-09-01T13:35:23.375Z"
   },
   {
    "duration": 9,
    "start_time": "2024-09-01T13:35:23.387Z"
   },
   {
    "duration": 6,
    "start_time": "2024-09-01T13:35:23.397Z"
   },
   {
    "duration": 18,
    "start_time": "2024-09-01T13:35:23.404Z"
   },
   {
    "duration": 18,
    "start_time": "2024-09-01T13:35:56.385Z"
   },
   {
    "duration": 89,
    "start_time": "2024-09-01T13:37:12.025Z"
   },
   {
    "duration": 3,
    "start_time": "2024-09-01T13:38:22.575Z"
   },
   {
    "duration": 15,
    "start_time": "2024-09-01T13:40:02.367Z"
   },
   {
    "duration": 5,
    "start_time": "2024-09-01T13:40:45.126Z"
   },
   {
    "duration": 8,
    "start_time": "2024-09-01T13:40:54.647Z"
   },
   {
    "duration": 15,
    "start_time": "2024-09-01T13:41:18.607Z"
   },
   {
    "duration": 14,
    "start_time": "2024-09-01T13:42:48.047Z"
   },
   {
    "duration": 4,
    "start_time": "2024-09-01T13:43:24.506Z"
   },
   {
    "duration": 6,
    "start_time": "2024-09-01T13:43:32.889Z"
   },
   {
    "duration": 5,
    "start_time": "2024-09-01T13:44:33.645Z"
   },
   {
    "duration": 5,
    "start_time": "2024-09-01T13:45:10.968Z"
   },
   {
    "duration": 10,
    "start_time": "2024-09-01T13:45:23.007Z"
   },
   {
    "duration": 5,
    "start_time": "2024-09-01T13:46:39.646Z"
   },
   {
    "duration": 10,
    "start_time": "2024-09-01T13:46:50.166Z"
   },
   {
    "duration": 6,
    "start_time": "2024-09-01T13:47:02.325Z"
   },
   {
    "duration": 5,
    "start_time": "2024-09-01T13:47:07.806Z"
   },
   {
    "duration": 4,
    "start_time": "2024-09-01T13:47:31.545Z"
   },
   {
    "duration": 10,
    "start_time": "2024-09-01T13:47:36.246Z"
   },
   {
    "duration": 4,
    "start_time": "2024-09-01T13:47:59.797Z"
   },
   {
    "duration": 6,
    "start_time": "2024-09-01T14:16:02.521Z"
   },
   {
    "duration": 11,
    "start_time": "2024-09-01T14:17:40.523Z"
   },
   {
    "duration": 15,
    "start_time": "2024-09-01T14:19:25.816Z"
   },
   {
    "duration": 261,
    "start_time": "2024-09-01T14:19:42.551Z"
   },
   {
    "duration": 253,
    "start_time": "2024-09-01T14:21:47.136Z"
   },
   {
    "duration": 248,
    "start_time": "2024-09-01T14:22:30.975Z"
   },
   {
    "duration": 245,
    "start_time": "2024-09-01T14:22:49.615Z"
   },
   {
    "duration": 12,
    "start_time": "2024-09-01T14:29:17.568Z"
   },
   {
    "duration": 519,
    "start_time": "2024-09-01T14:30:13.693Z"
   },
   {
    "duration": 11,
    "start_time": "2024-09-01T14:30:23.927Z"
   },
   {
    "duration": 11,
    "start_time": "2024-09-01T14:30:38.048Z"
   },
   {
    "duration": 230,
    "start_time": "2024-09-01T14:31:06.173Z"
   },
   {
    "duration": 126,
    "start_time": "2024-09-01T14:31:20.207Z"
   },
   {
    "duration": 233,
    "start_time": "2024-09-01T14:31:24.007Z"
   },
   {
    "duration": 233,
    "start_time": "2024-09-01T14:31:31.493Z"
   },
   {
    "duration": 242,
    "start_time": "2024-09-01T14:31:38.087Z"
   },
   {
    "duration": 10,
    "start_time": "2024-09-01T14:36:19.252Z"
   },
   {
    "duration": 10,
    "start_time": "2024-09-01T14:36:37.872Z"
   },
   {
    "duration": 11,
    "start_time": "2024-09-01T14:36:45.072Z"
   },
   {
    "duration": 6,
    "start_time": "2024-09-01T15:09:15.213Z"
   },
   {
    "duration": 34,
    "start_time": "2024-09-01T15:09:15.220Z"
   },
   {
    "duration": 6,
    "start_time": "2024-09-01T15:10:24.013Z"
   },
   {
    "duration": 3,
    "start_time": "2024-09-01T15:10:26.328Z"
   },
   {
    "duration": 94,
    "start_time": "2024-09-01T15:10:26.333Z"
   },
   {
    "duration": 15,
    "start_time": "2024-09-01T15:10:26.428Z"
   },
   {
    "duration": 3,
    "start_time": "2024-09-01T15:10:26.444Z"
   },
   {
    "duration": 5,
    "start_time": "2024-09-01T15:10:26.449Z"
   },
   {
    "duration": 6,
    "start_time": "2024-09-01T15:10:26.455Z"
   },
   {
    "duration": 3,
    "start_time": "2024-09-01T15:10:26.463Z"
   },
   {
    "duration": 18,
    "start_time": "2024-09-01T15:10:26.467Z"
   },
   {
    "duration": 5,
    "start_time": "2024-09-01T15:10:26.486Z"
   },
   {
    "duration": 6,
    "start_time": "2024-09-01T15:10:26.492Z"
   },
   {
    "duration": 5,
    "start_time": "2024-09-01T15:10:26.499Z"
   },
   {
    "duration": 15,
    "start_time": "2024-09-01T15:10:26.506Z"
   },
   {
    "duration": 13,
    "start_time": "2024-09-01T15:10:26.522Z"
   },
   {
    "duration": 3,
    "start_time": "2024-09-01T15:10:26.537Z"
   },
   {
    "duration": 4,
    "start_time": "2024-09-01T15:10:26.542Z"
   },
   {
    "duration": 3,
    "start_time": "2024-09-01T15:10:26.548Z"
   },
   {
    "duration": 44,
    "start_time": "2024-09-01T15:10:26.553Z"
   },
   {
    "duration": 251,
    "start_time": "2024-09-01T15:10:26.599Z"
   },
   {
    "duration": 10,
    "start_time": "2024-09-01T15:10:26.852Z"
   },
   {
    "duration": 349,
    "start_time": "2024-09-01T15:10:26.864Z"
   },
   {
    "duration": 10,
    "start_time": "2024-09-01T15:10:27.215Z"
   },
   {
    "duration": 8,
    "start_time": "2024-09-01T15:10:27.226Z"
   },
   {
    "duration": 6,
    "start_time": "2024-09-01T15:10:27.235Z"
   },
   {
    "duration": 11,
    "start_time": "2024-09-01T15:10:27.242Z"
   },
   {
    "duration": 152,
    "start_time": "2024-09-01T15:11:21.447Z"
   },
   {
    "duration": 150,
    "start_time": "2024-09-01T15:11:31.437Z"
   },
   {
    "duration": 112,
    "start_time": "2024-09-01T15:12:31.288Z"
   },
   {
    "duration": 149,
    "start_time": "2024-09-01T15:12:35.456Z"
   },
   {
    "duration": 107,
    "start_time": "2024-09-01T15:13:52.734Z"
   },
   {
    "duration": 148,
    "start_time": "2024-09-01T15:13:55.728Z"
   },
   {
    "duration": 6,
    "start_time": "2024-09-01T15:14:26.513Z"
   },
   {
    "duration": 12,
    "start_time": "2024-09-01T15:14:48.696Z"
   },
   {
    "duration": 8,
    "start_time": "2024-09-01T15:17:07.608Z"
   },
   {
    "duration": 6,
    "start_time": "2024-09-01T15:17:39.180Z"
   },
   {
    "duration": 11,
    "start_time": "2024-09-01T15:19:11.008Z"
   },
   {
    "duration": 239,
    "start_time": "2024-09-01T15:19:32.527Z"
   },
   {
    "duration": 170,
    "start_time": "2024-09-01T15:19:39.928Z"
   },
   {
    "duration": 189,
    "start_time": "2024-09-01T15:21:09.179Z"
   },
   {
    "duration": 310,
    "start_time": "2024-09-01T15:21:14.888Z"
   },
   {
    "duration": 340,
    "start_time": "2024-09-01T15:21:37.136Z"
   },
   {
    "duration": 17,
    "start_time": "2024-09-01T15:22:43.051Z"
   },
   {
    "duration": 322,
    "start_time": "2024-09-01T15:22:49.452Z"
   },
   {
    "duration": 304,
    "start_time": "2024-09-01T15:23:48.971Z"
   },
   {
    "duration": 326,
    "start_time": "2024-09-01T15:23:54.172Z"
   },
   {
    "duration": 392,
    "start_time": "2024-09-01T15:24:00.691Z"
   },
   {
    "duration": 310,
    "start_time": "2024-09-01T15:24:05.571Z"
   },
   {
    "duration": 315,
    "start_time": "2024-09-01T15:24:22.891Z"
   },
   {
    "duration": 9,
    "start_time": "2024-09-01T15:26:25.731Z"
   },
   {
    "duration": 202,
    "start_time": "2024-09-01T15:26:43.113Z"
   },
   {
    "duration": 301,
    "start_time": "2024-09-01T15:26:48.100Z"
   },
   {
    "duration": 189,
    "start_time": "2024-09-01T15:26:52.741Z"
   },
   {
    "duration": 169,
    "start_time": "2024-09-01T15:27:26.971Z"
   },
   {
    "duration": 182,
    "start_time": "2024-09-01T15:27:49.620Z"
   },
   {
    "duration": 9,
    "start_time": "2024-09-01T15:37:52.848Z"
   },
   {
    "duration": 11,
    "start_time": "2024-09-01T15:38:13.048Z"
   },
   {
    "duration": 275,
    "start_time": "2024-09-01T15:39:49.906Z"
   },
   {
    "duration": 284,
    "start_time": "2024-09-01T15:40:04.988Z"
   },
   {
    "duration": 245,
    "start_time": "2024-09-01T15:40:12.328Z"
   },
   {
    "duration": 339,
    "start_time": "2024-09-01T15:40:16.368Z"
   },
   {
    "duration": 249,
    "start_time": "2024-09-01T15:40:23.528Z"
   },
   {
    "duration": 244,
    "start_time": "2024-09-01T15:40:28.528Z"
   },
   {
    "duration": 12,
    "start_time": "2024-09-01T15:43:45.812Z"
   },
   {
    "duration": 176,
    "start_time": "2024-09-01T15:44:54.401Z"
   },
   {
    "duration": 207,
    "start_time": "2024-09-01T15:45:21.172Z"
   },
   {
    "duration": 199,
    "start_time": "2024-09-01T15:45:47.368Z"
   },
   {
    "duration": 187,
    "start_time": "2024-09-01T15:45:55.928Z"
   },
   {
    "duration": 7,
    "start_time": "2024-09-01T15:55:13.905Z"
   },
   {
    "duration": 12,
    "start_time": "2024-09-01T15:55:29.944Z"
   },
   {
    "duration": 226,
    "start_time": "2024-09-01T15:56:42.441Z"
   },
   {
    "duration": 282,
    "start_time": "2024-09-01T15:56:52.197Z"
   },
   {
    "duration": 9,
    "start_time": "2024-09-01T16:23:34.539Z"
   },
   {
    "duration": 11,
    "start_time": "2024-09-01T16:23:47.731Z"
   },
   {
    "duration": 10,
    "start_time": "2024-09-01T16:23:55.734Z"
   },
   {
    "duration": 12,
    "start_time": "2024-09-01T16:24:05.071Z"
   },
   {
    "duration": 13,
    "start_time": "2024-09-01T16:24:14.933Z"
   },
   {
    "duration": 10,
    "start_time": "2024-09-01T16:24:57.251Z"
   },
   {
    "duration": 115,
    "start_time": "2024-09-01T16:25:24.291Z"
   },
   {
    "duration": 108,
    "start_time": "2024-09-01T16:26:31.950Z"
   },
   {
    "duration": 184,
    "start_time": "2024-09-01T16:26:36.676Z"
   },
   {
    "duration": 105,
    "start_time": "2024-09-01T16:26:43.610Z"
   },
   {
    "duration": 115,
    "start_time": "2024-09-01T16:26:48.052Z"
   },
   {
    "duration": 104,
    "start_time": "2024-09-01T16:26:57.010Z"
   },
   {
    "duration": 4,
    "start_time": "2024-09-01T16:29:07.011Z"
   },
   {
    "duration": 4,
    "start_time": "2024-09-01T16:29:18.969Z"
   },
   {
    "duration": 3,
    "start_time": "2024-09-01T16:29:25.169Z"
   },
   {
    "duration": 4,
    "start_time": "2024-09-01T16:29:41.409Z"
   },
   {
    "duration": 133,
    "start_time": "2024-09-01T16:32:34.331Z"
   },
   {
    "duration": 125,
    "start_time": "2024-09-01T16:32:57.959Z"
   },
   {
    "duration": 135,
    "start_time": "2024-09-01T16:33:05.340Z"
   },
   {
    "duration": 127,
    "start_time": "2024-09-01T16:33:43.770Z"
   },
   {
    "duration": 120,
    "start_time": "2024-09-01T16:37:39.408Z"
   },
   {
    "duration": 121,
    "start_time": "2024-09-01T16:37:44.248Z"
   },
   {
    "duration": 128,
    "start_time": "2024-09-01T16:37:48.167Z"
   },
   {
    "duration": 126,
    "start_time": "2024-09-01T16:37:52.128Z"
   },
   {
    "duration": 197,
    "start_time": "2024-09-01T16:37:55.268Z"
   },
   {
    "duration": 64,
    "start_time": "2024-09-01T16:39:33.125Z"
   },
   {
    "duration": 5,
    "start_time": "2024-09-01T16:39:53.168Z"
   },
   {
    "duration": 219,
    "start_time": "2024-09-01T16:49:11.771Z"
   },
   {
    "duration": 197,
    "start_time": "2024-09-01T16:49:16.020Z"
   },
   {
    "duration": 130,
    "start_time": "2024-09-01T16:57:24.046Z"
   },
   {
    "duration": 67,
    "start_time": "2024-09-01T16:59:11.937Z"
   },
   {
    "duration": 6,
    "start_time": "2024-09-01T16:59:20.778Z"
   },
   {
    "duration": 9,
    "start_time": "2024-09-01T17:00:05.901Z"
   },
   {
    "duration": 3,
    "start_time": "2024-09-01T17:00:38.210Z"
   },
   {
    "duration": 2,
    "start_time": "2024-09-01T17:00:42.176Z"
   },
   {
    "duration": 244,
    "start_time": "2024-09-01T17:00:58.090Z"
   },
   {
    "duration": 9,
    "start_time": "2024-09-01T17:01:03.410Z"
   },
   {
    "duration": 12,
    "start_time": "2024-09-01T17:01:10.210Z"
   },
   {
    "duration": 50,
    "start_time": "2024-09-01T17:01:23.210Z"
   },
   {
    "duration": 14,
    "start_time": "2024-09-01T17:07:18.756Z"
   },
   {
    "duration": 14,
    "start_time": "2024-09-01T17:07:39.716Z"
   },
   {
    "duration": 13,
    "start_time": "2024-09-01T17:10:45.743Z"
   },
   {
    "duration": 78,
    "start_time": "2024-09-01T17:11:47.212Z"
   },
   {
    "duration": 11,
    "start_time": "2024-09-01T17:11:50.452Z"
   },
   {
    "duration": 10,
    "start_time": "2024-09-01T17:12:03.896Z"
   },
   {
    "duration": 7,
    "start_time": "2024-09-01T17:13:28.956Z"
   },
   {
    "duration": 8,
    "start_time": "2024-09-01T17:14:05.057Z"
   },
   {
    "duration": 43,
    "start_time": "2024-09-01T17:14:56.580Z"
   },
   {
    "duration": 41,
    "start_time": "2024-09-01T17:16:02.334Z"
   },
   {
    "duration": 68,
    "start_time": "2024-09-01T17:17:11.053Z"
   },
   {
    "duration": 11,
    "start_time": "2024-09-01T17:18:20.537Z"
   },
   {
    "duration": 13,
    "start_time": "2024-09-01T17:19:14.277Z"
   },
   {
    "duration": 13,
    "start_time": "2024-09-01T17:20:02.973Z"
   },
   {
    "duration": 1214,
    "start_time": "2024-09-01T18:12:12.370Z"
   },
   {
    "duration": 311,
    "start_time": "2024-09-01T18:12:13.586Z"
   },
   {
    "duration": 27,
    "start_time": "2024-09-01T18:12:13.900Z"
   },
   {
    "duration": 3,
    "start_time": "2024-09-01T18:12:13.929Z"
   },
   {
    "duration": 19,
    "start_time": "2024-09-01T18:12:13.934Z"
   },
   {
    "duration": 24,
    "start_time": "2024-09-01T18:12:13.955Z"
   },
   {
    "duration": 4,
    "start_time": "2024-09-01T18:12:13.980Z"
   },
   {
    "duration": 15,
    "start_time": "2024-09-01T18:12:13.985Z"
   },
   {
    "duration": 5,
    "start_time": "2024-09-01T18:12:14.002Z"
   },
   {
    "duration": 8,
    "start_time": "2024-09-01T18:12:14.008Z"
   },
   {
    "duration": 6,
    "start_time": "2024-09-01T18:12:14.018Z"
   },
   {
    "duration": 46,
    "start_time": "2024-09-01T18:12:14.025Z"
   },
   {
    "duration": 14,
    "start_time": "2024-09-01T18:12:14.073Z"
   },
   {
    "duration": 7,
    "start_time": "2024-09-01T18:12:14.090Z"
   },
   {
    "duration": 6,
    "start_time": "2024-09-01T18:12:14.098Z"
   },
   {
    "duration": 7,
    "start_time": "2024-09-01T18:12:14.105Z"
   },
   {
    "duration": 12,
    "start_time": "2024-09-01T18:12:14.113Z"
   },
   {
    "duration": 300,
    "start_time": "2024-09-01T18:12:14.127Z"
   },
   {
    "duration": 11,
    "start_time": "2024-09-01T18:12:14.429Z"
   },
   {
    "duration": 277,
    "start_time": "2024-09-01T18:12:14.441Z"
   },
   {
    "duration": 11,
    "start_time": "2024-09-01T18:12:14.719Z"
   },
   {
    "duration": 6,
    "start_time": "2024-09-01T18:12:14.731Z"
   },
   {
    "duration": 183,
    "start_time": "2024-09-01T18:12:14.739Z"
   },
   {
    "duration": 150,
    "start_time": "2024-09-01T18:12:14.923Z"
   },
   {
    "duration": 47,
    "start_time": "2024-09-01T18:12:15.075Z"
   },
   {
    "duration": 325,
    "start_time": "2024-09-01T18:12:15.124Z"
   },
   {
    "duration": 229,
    "start_time": "2024-09-01T18:12:15.451Z"
   },
   {
    "duration": 22,
    "start_time": "2024-09-01T18:12:15.682Z"
   },
   {
    "duration": 301,
    "start_time": "2024-09-01T18:12:15.705Z"
   },
   {
    "duration": 219,
    "start_time": "2024-09-01T18:12:16.008Z"
   },
   {
    "duration": 13,
    "start_time": "2024-09-01T18:12:16.228Z"
   },
   {
    "duration": 343,
    "start_time": "2024-09-01T18:12:16.243Z"
   },
   {
    "duration": 10,
    "start_time": "2024-09-01T18:12:16.587Z"
   },
   {
    "duration": 136,
    "start_time": "2024-09-01T18:12:16.598Z"
   },
   {
    "duration": 119,
    "start_time": "2024-09-01T18:12:16.735Z"
   },
   {
    "duration": 10,
    "start_time": "2024-09-01T18:12:16.856Z"
   },
   {
    "duration": 244,
    "start_time": "2024-09-01T18:12:16.870Z"
   },
   {
    "duration": 158,
    "start_time": "2024-09-01T18:12:17.116Z"
   },
   {
    "duration": 164,
    "start_time": "2024-09-01T18:12:17.276Z"
   },
   {
    "duration": 4,
    "start_time": "2024-09-01T18:12:17.441Z"
   },
   {
    "duration": 275,
    "start_time": "2024-09-01T18:12:17.449Z"
   },
   {
    "duration": 158,
    "start_time": "2024-09-01T18:12:17.726Z"
   },
   {
    "duration": 6,
    "start_time": "2024-09-01T18:12:17.885Z"
   },
   {
    "duration": 49,
    "start_time": "2024-09-01T18:12:17.892Z"
   },
   {
    "duration": 27,
    "start_time": "2024-09-01T18:12:17.943Z"
   },
   {
    "duration": 11,
    "start_time": "2024-09-01T18:12:17.972Z"
   },
   {
    "duration": 11,
    "start_time": "2024-09-01T18:12:17.985Z"
   },
   {
    "duration": 75,
    "start_time": "2024-09-01T18:12:17.998Z"
   },
   {
    "duration": 14,
    "start_time": "2024-09-01T18:12:18.075Z"
   },
   {
    "duration": 50,
    "start_time": "2024-09-02T09:09:00.046Z"
   },
   {
    "duration": 6,
    "start_time": "2024-09-02T09:09:03.444Z"
   },
   {
    "duration": 3634,
    "start_time": "2024-09-02T09:09:14.587Z"
   },
   {
    "duration": 291,
    "start_time": "2024-09-02T09:09:18.224Z"
   },
   {
    "duration": 20,
    "start_time": "2024-09-02T09:09:18.517Z"
   },
   {
    "duration": 6,
    "start_time": "2024-09-02T09:09:18.539Z"
   },
   {
    "duration": 8,
    "start_time": "2024-09-02T09:09:18.546Z"
   },
   {
    "duration": 7,
    "start_time": "2024-09-02T09:09:18.555Z"
   },
   {
    "duration": 6,
    "start_time": "2024-09-02T09:09:18.564Z"
   },
   {
    "duration": 26,
    "start_time": "2024-09-02T09:09:18.572Z"
   },
   {
    "duration": 6,
    "start_time": "2024-09-02T09:09:18.600Z"
   },
   {
    "duration": 9,
    "start_time": "2024-09-02T09:09:18.607Z"
   },
   {
    "duration": 23,
    "start_time": "2024-09-02T09:09:18.617Z"
   },
   {
    "duration": 21,
    "start_time": "2024-09-02T09:09:18.642Z"
   },
   {
    "duration": 9,
    "start_time": "2024-09-02T09:09:18.665Z"
   },
   {
    "duration": 20,
    "start_time": "2024-09-02T09:09:18.679Z"
   },
   {
    "duration": 15,
    "start_time": "2024-09-02T09:09:18.701Z"
   },
   {
    "duration": 6,
    "start_time": "2024-09-02T09:09:18.718Z"
   },
   {
    "duration": 27,
    "start_time": "2024-09-02T09:09:18.726Z"
   },
   {
    "duration": 12,
    "start_time": "2024-09-02T09:09:18.755Z"
   },
   {
    "duration": 297,
    "start_time": "2024-09-02T09:09:18.771Z"
   },
   {
    "duration": 11,
    "start_time": "2024-09-02T09:09:19.070Z"
   },
   {
    "duration": 270,
    "start_time": "2024-09-02T09:09:19.083Z"
   },
   {
    "duration": 11,
    "start_time": "2024-09-02T09:09:19.355Z"
   },
   {
    "duration": 13,
    "start_time": "2024-09-02T09:09:19.367Z"
   },
   {
    "duration": 168,
    "start_time": "2024-09-02T09:09:19.381Z"
   },
   {
    "duration": 137,
    "start_time": "2024-09-02T09:09:19.552Z"
   },
   {
    "duration": 13,
    "start_time": "2024-09-02T09:09:19.691Z"
   },
   {
    "duration": 301,
    "start_time": "2024-09-02T09:09:19.705Z"
   },
   {
    "duration": 216,
    "start_time": "2024-09-02T09:09:20.008Z"
   },
   {
    "duration": 12,
    "start_time": "2024-09-02T09:09:20.225Z"
   },
   {
    "duration": 372,
    "start_time": "2024-09-02T09:09:20.238Z"
   },
   {
    "duration": 229,
    "start_time": "2024-09-02T09:09:20.612Z"
   },
   {
    "duration": 20,
    "start_time": "2024-09-02T09:09:20.843Z"
   },
   {
    "duration": 405,
    "start_time": "2024-09-02T09:09:20.864Z"
   },
   {
    "duration": 11,
    "start_time": "2024-09-02T09:09:21.271Z"
   },
   {
    "duration": 215,
    "start_time": "2024-09-02T09:09:21.283Z"
   },
   {
    "duration": 124,
    "start_time": "2024-09-02T09:09:21.499Z"
   },
   {
    "duration": 4,
    "start_time": "2024-09-02T09:09:21.625Z"
   },
   {
    "duration": 241,
    "start_time": "2024-09-02T09:09:21.631Z"
   },
   {
    "duration": 141,
    "start_time": "2024-09-02T09:09:21.873Z"
   },
   {
    "duration": 140,
    "start_time": "2024-09-02T09:09:22.016Z"
   },
   {
    "duration": 4,
    "start_time": "2024-09-02T09:09:22.159Z"
   },
   {
    "duration": 244,
    "start_time": "2024-09-02T09:09:22.165Z"
   },
   {
    "duration": 133,
    "start_time": "2024-09-02T09:09:22.411Z"
   },
   {
    "duration": 8,
    "start_time": "2024-09-02T09:09:22.546Z"
   },
   {
    "duration": 45,
    "start_time": "2024-09-02T09:09:22.556Z"
   },
   {
    "duration": 15,
    "start_time": "2024-09-02T09:09:22.603Z"
   },
   {
    "duration": 11,
    "start_time": "2024-09-02T09:09:22.619Z"
   },
   {
    "duration": 7,
    "start_time": "2024-09-02T09:09:22.654Z"
   },
   {
    "duration": 53,
    "start_time": "2024-09-02T09:09:22.662Z"
   },
   {
    "duration": 14,
    "start_time": "2024-09-02T09:09:22.716Z"
   },
   {
    "duration": 51,
    "start_time": "2024-09-02T09:13:52.028Z"
   },
   {
    "duration": 7,
    "start_time": "2024-09-02T09:15:12.786Z"
   },
   {
    "duration": 310,
    "start_time": "2024-09-02T09:20:12.855Z"
   },
   {
    "duration": 297,
    "start_time": "2024-09-02T09:31:26.620Z"
   },
   {
    "duration": 227,
    "start_time": "2024-09-02T09:36:09.038Z"
   },
   {
    "duration": 1265,
    "start_time": "2024-09-02T10:10:24.790Z"
   },
   {
    "duration": 293,
    "start_time": "2024-09-02T10:10:26.057Z"
   },
   {
    "duration": 22,
    "start_time": "2024-09-02T10:10:26.352Z"
   },
   {
    "duration": 3,
    "start_time": "2024-09-02T10:10:26.377Z"
   },
   {
    "duration": 14,
    "start_time": "2024-09-02T10:10:26.381Z"
   },
   {
    "duration": 6,
    "start_time": "2024-09-02T10:10:26.396Z"
   },
   {
    "duration": 4,
    "start_time": "2024-09-02T10:10:26.404Z"
   },
   {
    "duration": 18,
    "start_time": "2024-09-02T10:10:26.410Z"
   },
   {
    "duration": 42,
    "start_time": "2024-09-02T10:10:26.429Z"
   },
   {
    "duration": 14,
    "start_time": "2024-09-02T10:10:26.474Z"
   },
   {
    "duration": 11,
    "start_time": "2024-09-02T10:10:26.489Z"
   },
   {
    "duration": 18,
    "start_time": "2024-09-02T10:10:26.502Z"
   },
   {
    "duration": 10,
    "start_time": "2024-09-02T10:10:26.521Z"
   },
   {
    "duration": 49,
    "start_time": "2024-09-02T10:10:26.532Z"
   },
   {
    "duration": 18,
    "start_time": "2024-09-02T10:10:26.583Z"
   },
   {
    "duration": 11,
    "start_time": "2024-09-02T10:10:26.603Z"
   },
   {
    "duration": 5,
    "start_time": "2024-09-02T10:10:26.616Z"
   },
   {
    "duration": 62,
    "start_time": "2024-09-02T10:10:26.625Z"
   },
   {
    "duration": 320,
    "start_time": "2024-09-02T10:10:26.688Z"
   },
   {
    "duration": 12,
    "start_time": "2024-09-02T10:10:27.010Z"
   },
   {
    "duration": 287,
    "start_time": "2024-09-02T10:10:27.024Z"
   },
   {
    "duration": 10,
    "start_time": "2024-09-02T10:10:27.313Z"
   },
   {
    "duration": 14,
    "start_time": "2024-09-02T10:10:27.325Z"
   },
   {
    "duration": 197,
    "start_time": "2024-09-02T10:10:27.341Z"
   },
   {
    "duration": 174,
    "start_time": "2024-09-02T10:10:27.541Z"
   },
   {
    "duration": 13,
    "start_time": "2024-09-02T10:10:27.716Z"
   },
   {
    "duration": 363,
    "start_time": "2024-09-02T10:10:27.731Z"
   },
   {
    "duration": 246,
    "start_time": "2024-09-02T10:10:28.097Z"
   },
   {
    "duration": 13,
    "start_time": "2024-09-02T10:10:28.345Z"
   },
   {
    "duration": 375,
    "start_time": "2024-09-02T10:10:28.369Z"
   },
   {
    "duration": 232,
    "start_time": "2024-09-02T10:10:28.745Z"
   },
   {
    "duration": 13,
    "start_time": "2024-09-02T10:10:28.979Z"
   },
   {
    "duration": 314,
    "start_time": "2024-09-02T10:10:28.994Z"
   },
   {
    "duration": 11,
    "start_time": "2024-09-02T10:10:29.310Z"
   },
   {
    "duration": 166,
    "start_time": "2024-09-02T10:10:29.323Z"
   },
   {
    "duration": 131,
    "start_time": "2024-09-02T10:10:29.491Z"
   },
   {
    "duration": 5,
    "start_time": "2024-09-02T10:10:29.625Z"
   },
   {
    "duration": 352,
    "start_time": "2024-09-02T10:10:29.632Z"
   },
   {
    "duration": 162,
    "start_time": "2024-09-02T10:10:29.985Z"
   },
   {
    "duration": 177,
    "start_time": "2024-09-02T10:10:30.148Z"
   },
   {
    "duration": 5,
    "start_time": "2024-09-02T10:10:30.326Z"
   },
   {
    "duration": 281,
    "start_time": "2024-09-02T10:10:30.333Z"
   },
   {
    "duration": 227,
    "start_time": "2024-09-02T10:10:30.616Z"
   },
   {
    "duration": 25,
    "start_time": "2024-09-02T10:10:30.845Z"
   },
   {
    "duration": 62,
    "start_time": "2024-09-02T10:10:30.883Z"
   },
   {
    "duration": 15,
    "start_time": "2024-09-02T10:10:30.947Z"
   },
   {
    "duration": 41,
    "start_time": "2024-09-02T10:10:30.964Z"
   },
   {
    "duration": 24,
    "start_time": "2024-09-02T10:10:31.007Z"
   },
   {
    "duration": 56,
    "start_time": "2024-09-02T10:10:31.032Z"
   },
   {
    "duration": 15,
    "start_time": "2024-09-02T10:10:31.090Z"
   },
   {
    "duration": 49,
    "start_time": "2024-09-02T13:01:08.397Z"
   },
   {
    "duration": 1175,
    "start_time": "2024-09-02T13:01:17.615Z"
   },
   {
    "duration": 325,
    "start_time": "2024-09-02T13:01:18.792Z"
   },
   {
    "duration": 19,
    "start_time": "2024-09-02T13:01:19.118Z"
   },
   {
    "duration": 2,
    "start_time": "2024-09-02T13:01:19.139Z"
   },
   {
    "duration": 5,
    "start_time": "2024-09-02T13:01:19.143Z"
   },
   {
    "duration": 6,
    "start_time": "2024-09-02T13:01:19.149Z"
   },
   {
    "duration": 9,
    "start_time": "2024-09-02T13:01:19.156Z"
   },
   {
    "duration": 17,
    "start_time": "2024-09-02T13:01:19.166Z"
   },
   {
    "duration": 6,
    "start_time": "2024-09-02T13:01:19.185Z"
   },
   {
    "duration": 6,
    "start_time": "2024-09-02T13:01:19.192Z"
   },
   {
    "duration": 7,
    "start_time": "2024-09-02T13:01:19.199Z"
   },
   {
    "duration": 19,
    "start_time": "2024-09-02T13:01:19.207Z"
   },
   {
    "duration": 9,
    "start_time": "2024-09-02T13:01:19.227Z"
   },
   {
    "duration": 13,
    "start_time": "2024-09-02T13:01:19.239Z"
   },
   {
    "duration": 4,
    "start_time": "2024-09-02T13:01:19.253Z"
   },
   {
    "duration": 34,
    "start_time": "2024-09-02T13:01:19.259Z"
   },
   {
    "duration": 9,
    "start_time": "2024-09-02T13:01:19.295Z"
   },
   {
    "duration": 21,
    "start_time": "2024-09-02T13:01:19.306Z"
   },
   {
    "duration": 272,
    "start_time": "2024-09-02T13:01:19.328Z"
   },
   {
    "duration": 11,
    "start_time": "2024-09-02T13:01:19.601Z"
   },
   {
    "duration": 255,
    "start_time": "2024-09-02T13:01:19.614Z"
   },
   {
    "duration": 10,
    "start_time": "2024-09-02T13:01:19.870Z"
   },
   {
    "duration": 5,
    "start_time": "2024-09-02T13:01:19.890Z"
   },
   {
    "duration": 168,
    "start_time": "2024-09-02T13:01:19.896Z"
   },
   {
    "duration": 126,
    "start_time": "2024-09-02T13:01:20.066Z"
   },
   {
    "duration": 13,
    "start_time": "2024-09-02T13:01:20.194Z"
   },
   {
    "duration": 314,
    "start_time": "2024-09-02T13:01:20.210Z"
   },
   {
    "duration": 218,
    "start_time": "2024-09-02T13:01:20.525Z"
   },
   {
    "duration": 12,
    "start_time": "2024-09-02T13:01:20.744Z"
   },
   {
    "duration": 381,
    "start_time": "2024-09-02T13:01:20.757Z"
   },
   {
    "duration": 217,
    "start_time": "2024-09-02T13:01:21.139Z"
   },
   {
    "duration": 13,
    "start_time": "2024-09-02T13:01:21.357Z"
   },
   {
    "duration": 312,
    "start_time": "2024-09-02T13:01:21.371Z"
   },
   {
    "duration": 10,
    "start_time": "2024-09-02T13:01:21.689Z"
   },
   {
    "duration": 129,
    "start_time": "2024-09-02T13:01:21.701Z"
   },
   {
    "duration": 123,
    "start_time": "2024-09-02T13:01:21.832Z"
   },
   {
    "duration": 4,
    "start_time": "2024-09-02T13:01:21.956Z"
   },
   {
    "duration": 233,
    "start_time": "2024-09-02T13:01:21.962Z"
   },
   {
    "duration": 144,
    "start_time": "2024-09-02T13:01:22.196Z"
   },
   {
    "duration": 145,
    "start_time": "2024-09-02T13:01:22.341Z"
   },
   {
    "duration": 4,
    "start_time": "2024-09-02T13:01:22.489Z"
   },
   {
    "duration": 223,
    "start_time": "2024-09-02T13:01:22.494Z"
   },
   {
    "duration": 161,
    "start_time": "2024-09-02T13:01:22.718Z"
   },
   {
    "duration": 6,
    "start_time": "2024-09-02T13:01:22.889Z"
   },
   {
    "duration": 59,
    "start_time": "2024-09-02T13:01:22.897Z"
   },
   {
    "duration": 15,
    "start_time": "2024-09-02T13:01:22.958Z"
   },
   {
    "duration": 22,
    "start_time": "2024-09-02T13:01:22.974Z"
   },
   {
    "duration": 8,
    "start_time": "2024-09-02T13:01:22.997Z"
   },
   {
    "duration": 48,
    "start_time": "2024-09-02T13:01:23.006Z"
   },
   {
    "duration": 14,
    "start_time": "2024-09-02T13:01:23.056Z"
   },
   {
    "duration": 260,
    "start_time": "2024-09-02T13:04:40.843Z"
   },
   {
    "duration": 315,
    "start_time": "2024-09-02T13:06:16.860Z"
   },
   {
    "duration": 44,
    "start_time": "2024-09-02T13:10:50.559Z"
   },
   {
    "duration": 44,
    "start_time": "2024-09-02T13:13:42.157Z"
   },
   {
    "duration": 1255,
    "start_time": "2024-09-02T14:59:54.512Z"
   },
   {
    "duration": 296,
    "start_time": "2024-09-02T14:59:55.769Z"
   },
   {
    "duration": 22,
    "start_time": "2024-09-02T14:59:56.067Z"
   },
   {
    "duration": 4,
    "start_time": "2024-09-02T14:59:56.090Z"
   },
   {
    "duration": 16,
    "start_time": "2024-09-02T14:59:56.096Z"
   },
   {
    "duration": 7,
    "start_time": "2024-09-02T14:59:56.114Z"
   },
   {
    "duration": 10,
    "start_time": "2024-09-02T14:59:56.122Z"
   },
   {
    "duration": 19,
    "start_time": "2024-09-02T14:59:56.134Z"
   },
   {
    "duration": 9,
    "start_time": "2024-09-02T14:59:56.155Z"
   },
   {
    "duration": 7,
    "start_time": "2024-09-02T14:59:56.165Z"
   },
   {
    "duration": 5,
    "start_time": "2024-09-02T14:59:56.174Z"
   },
   {
    "duration": 20,
    "start_time": "2024-09-02T14:59:56.180Z"
   },
   {
    "duration": 9,
    "start_time": "2024-09-02T14:59:56.201Z"
   },
   {
    "duration": 39,
    "start_time": "2024-09-02T14:59:56.213Z"
   },
   {
    "duration": 7,
    "start_time": "2024-09-02T14:59:56.253Z"
   },
   {
    "duration": 19,
    "start_time": "2024-09-02T14:59:56.261Z"
   },
   {
    "duration": 19,
    "start_time": "2024-09-02T14:59:56.281Z"
   },
   {
    "duration": 13,
    "start_time": "2024-09-02T14:59:56.302Z"
   },
   {
    "duration": 305,
    "start_time": "2024-09-02T14:59:56.316Z"
   },
   {
    "duration": 13,
    "start_time": "2024-09-02T14:59:56.622Z"
   },
   {
    "duration": 292,
    "start_time": "2024-09-02T14:59:56.651Z"
   },
   {
    "duration": 10,
    "start_time": "2024-09-02T14:59:56.945Z"
   },
   {
    "duration": 8,
    "start_time": "2024-09-02T14:59:56.957Z"
   },
   {
    "duration": 184,
    "start_time": "2024-09-02T14:59:56.967Z"
   },
   {
    "duration": 132,
    "start_time": "2024-09-02T14:59:57.153Z"
   },
   {
    "duration": 11,
    "start_time": "2024-09-02T14:59:57.287Z"
   },
   {
    "duration": 317,
    "start_time": "2024-09-02T14:59:57.300Z"
   },
   {
    "duration": 234,
    "start_time": "2024-09-02T14:59:57.618Z"
   },
   {
    "duration": 11,
    "start_time": "2024-09-02T14:59:57.854Z"
   },
   {
    "duration": 397,
    "start_time": "2024-09-02T14:59:57.867Z"
   },
   {
    "duration": 238,
    "start_time": "2024-09-02T14:59:58.266Z"
   },
   {
    "duration": 14,
    "start_time": "2024-09-02T14:59:58.506Z"
   },
   {
    "duration": 364,
    "start_time": "2024-09-02T14:59:58.521Z"
   },
   {
    "duration": 11,
    "start_time": "2024-09-02T14:59:58.886Z"
   },
   {
    "duration": 159,
    "start_time": "2024-09-02T14:59:58.898Z"
   },
   {
    "duration": 122,
    "start_time": "2024-09-02T14:59:59.058Z"
   },
   {
    "duration": 4,
    "start_time": "2024-09-02T14:59:59.181Z"
   },
   {
    "duration": 238,
    "start_time": "2024-09-02T14:59:59.186Z"
   },
   {
    "duration": 147,
    "start_time": "2024-09-02T14:59:59.426Z"
   },
   {
    "duration": 147,
    "start_time": "2024-09-02T14:59:59.574Z"
   },
   {
    "duration": 4,
    "start_time": "2024-09-02T14:59:59.725Z"
   },
   {
    "duration": 246,
    "start_time": "2024-09-02T14:59:59.731Z"
   },
   {
    "duration": 153,
    "start_time": "2024-09-02T14:59:59.978Z"
   },
   {
    "duration": 15,
    "start_time": "2024-09-02T15:00:00.133Z"
   },
   {
    "duration": 93,
    "start_time": "2024-09-02T15:00:00.150Z"
   },
   {
    "duration": 27,
    "start_time": "2024-09-02T15:00:00.245Z"
   },
   {
    "duration": 45,
    "start_time": "2024-09-02T15:00:00.273Z"
   },
   {
    "duration": 54,
    "start_time": "2024-09-02T15:00:00.320Z"
   },
   {
    "duration": 72,
    "start_time": "2024-09-02T15:00:00.376Z"
   },
   {
    "duration": 18,
    "start_time": "2024-09-02T15:00:00.450Z"
   },
   {
    "duration": 1024,
    "start_time": "2024-11-01T11:02:15.227Z"
   },
   {
    "duration": 294,
    "start_time": "2024-11-01T11:02:16.252Z"
   },
   {
    "duration": 20,
    "start_time": "2024-11-01T11:02:16.547Z"
   },
   {
    "duration": 2,
    "start_time": "2024-11-01T11:02:16.569Z"
   },
   {
    "duration": 9,
    "start_time": "2024-11-01T11:02:16.574Z"
   },
   {
    "duration": 10,
    "start_time": "2024-11-01T11:02:16.584Z"
   },
   {
    "duration": 6,
    "start_time": "2024-11-01T11:02:16.596Z"
   },
   {
    "duration": 25,
    "start_time": "2024-11-01T11:02:16.603Z"
   },
   {
    "duration": 13,
    "start_time": "2024-11-01T11:02:16.630Z"
   },
   {
    "duration": 15,
    "start_time": "2024-11-01T11:02:16.645Z"
   },
   {
    "duration": 7,
    "start_time": "2024-11-01T11:02:16.662Z"
   },
   {
    "duration": 18,
    "start_time": "2024-11-01T11:02:16.670Z"
   },
   {
    "duration": 9,
    "start_time": "2024-11-01T11:02:16.690Z"
   },
   {
    "duration": 15,
    "start_time": "2024-11-01T11:02:16.701Z"
   },
   {
    "duration": 4,
    "start_time": "2024-11-01T11:02:16.721Z"
   },
   {
    "duration": 74,
    "start_time": "2024-11-01T11:02:16.727Z"
   },
   {
    "duration": 81,
    "start_time": "2024-11-01T11:02:16.803Z"
   },
   {
    "duration": 17,
    "start_time": "2024-11-01T11:02:16.886Z"
   },
   {
    "duration": 270,
    "start_time": "2024-11-01T11:02:16.905Z"
   },
   {
    "duration": 10,
    "start_time": "2024-11-01T11:02:17.177Z"
   },
   {
    "duration": 293,
    "start_time": "2024-11-01T11:02:17.188Z"
   },
   {
    "duration": 9,
    "start_time": "2024-11-01T11:02:17.483Z"
   },
   {
    "duration": 15,
    "start_time": "2024-11-01T11:02:17.494Z"
   },
   {
    "duration": 166,
    "start_time": "2024-11-01T11:02:17.510Z"
   },
   {
    "duration": 131,
    "start_time": "2024-11-01T11:02:17.677Z"
   },
   {
    "duration": 21,
    "start_time": "2024-11-01T11:02:17.809Z"
   },
   {
    "duration": 291,
    "start_time": "2024-11-01T11:02:17.832Z"
   },
   {
    "duration": 217,
    "start_time": "2024-11-01T11:02:18.125Z"
   },
   {
    "duration": 11,
    "start_time": "2024-11-01T11:02:18.344Z"
   },
   {
    "duration": 295,
    "start_time": "2024-11-01T11:02:18.358Z"
   },
   {
    "duration": 228,
    "start_time": "2024-11-01T11:02:18.655Z"
   },
   {
    "duration": 14,
    "start_time": "2024-11-01T11:02:18.885Z"
   },
   {
    "duration": 333,
    "start_time": "2024-11-01T11:02:18.901Z"
   },
   {
    "duration": 11,
    "start_time": "2024-11-01T11:02:19.235Z"
   },
   {
    "duration": 160,
    "start_time": "2024-11-01T11:02:19.247Z"
   },
   {
    "duration": 116,
    "start_time": "2024-11-01T11:02:19.408Z"
   },
   {
    "duration": 3,
    "start_time": "2024-11-01T11:02:19.526Z"
   },
   {
    "duration": 231,
    "start_time": "2024-11-01T11:02:19.531Z"
   },
   {
    "duration": 149,
    "start_time": "2024-11-01T11:02:19.764Z"
   },
   {
    "duration": 142,
    "start_time": "2024-11-01T11:02:19.914Z"
   },
   {
    "duration": 3,
    "start_time": "2024-11-01T11:02:20.060Z"
   },
   {
    "duration": 229,
    "start_time": "2024-11-01T11:02:20.065Z"
   },
   {
    "duration": 133,
    "start_time": "2024-11-01T11:02:20.295Z"
   },
   {
    "duration": 6,
    "start_time": "2024-11-01T11:02:20.429Z"
   },
   {
    "duration": 63,
    "start_time": "2024-11-01T11:02:20.436Z"
   },
   {
    "duration": 21,
    "start_time": "2024-11-01T11:02:20.501Z"
   },
   {
    "duration": 10,
    "start_time": "2024-11-01T11:02:20.523Z"
   },
   {
    "duration": 45,
    "start_time": "2024-11-01T11:02:20.535Z"
   },
   {
    "duration": 59,
    "start_time": "2024-11-01T11:02:20.581Z"
   },
   {
    "duration": 14,
    "start_time": "2024-11-01T11:02:20.642Z"
   }
  ],
  "kernelspec": {
   "display_name": "Python 3 (ipykernel)",
   "language": "python",
   "name": "python3"
  },
  "language_info": {
   "codemirror_mode": {
    "name": "ipython",
    "version": 3
   },
   "file_extension": ".py",
   "mimetype": "text/x-python",
   "name": "python",
   "nbconvert_exporter": "python",
   "pygments_lexer": "ipython3",
   "version": "3.9.5"
  },
  "toc": {
   "base_numbering": 1,
   "nav_menu": {},
   "number_sections": true,
   "sideBar": true,
   "skip_h1_title": true,
   "title_cell": "Table of Contents",
   "title_sidebar": "Contents",
   "toc_cell": false,
   "toc_position": {},
   "toc_section_display": true,
   "toc_window_display": false
  }
 },
 "nbformat": 4,
 "nbformat_minor": 2
}
